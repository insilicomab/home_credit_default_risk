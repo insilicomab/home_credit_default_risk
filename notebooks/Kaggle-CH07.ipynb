{
 "cells": [
  {
   "cell_type": "markdown",
   "id": "3ed75e3d",
   "metadata": {
    "papermill": {
     "duration": 0.090478,
     "end_time": "2022-05-01T11:23:34.606800",
     "exception": false,
     "start_time": "2022-05-01T11:23:34.516322",
     "status": "completed"
    },
    "tags": []
   },
   "source": [
    "# Kaggleで磨く 機械学習の実践力\n",
    "# 第7章 2値分類のコンペ (Home Credit Default Risk)"
   ]
  },
  {
   "cell_type": "markdown",
   "id": "cfe45d12",
   "metadata": {
    "papermill": {
     "duration": 0.087568,
     "end_time": "2022-05-01T11:23:34.783123",
     "exception": false,
     "start_time": "2022-05-01T11:23:34.695555",
     "status": "completed"
    },
    "tags": []
   },
   "source": [
    "# 7.3: ベースライン作成"
   ]
  },
  {
   "cell_type": "markdown",
   "id": "a392bcc0",
   "metadata": {
    "papermill": {
     "duration": 0.087862,
     "end_time": "2022-05-01T11:23:34.959602",
     "exception": false,
     "start_time": "2022-05-01T11:23:34.871740",
     "status": "completed"
    },
    "tags": []
   },
   "source": [
    "## 7.3.2 データ前処理\n",
    "#### スクリプト7-1: ライブラリの読み込み"
   ]
  },
  {
   "cell_type": "code",
   "execution_count": 19,
   "id": "b143627a",
   "metadata": {
    "_cell_guid": "b1076dfc-b9ad-4769-8c92-a6c4dae69d19",
    "_uuid": "8f2839f25d086af736a60e9eeb907d3b93b6e0e5",
    "execution": {
     "iopub.execute_input": "2022-05-01T11:23:35.138728Z",
     "iopub.status.busy": "2022-05-01T11:23:35.138248Z",
     "iopub.status.idle": "2022-05-01T11:23:37.184425Z",
     "shell.execute_reply": "2022-05-01T11:23:37.183511Z"
    },
    "papermill": {
     "duration": 2.138727,
     "end_time": "2022-05-01T11:23:37.187199",
     "exception": false,
     "start_time": "2022-05-01T11:23:35.048472",
     "status": "completed"
    },
    "tags": []
   },
   "outputs": [],
   "source": [
    "import numpy as np\n",
    "import pandas as pd\n",
    "import re\n",
    "import pickle\n",
    "import gc\n",
    "\n",
    "# scikit-learn\n",
    "from sklearn.preprocessing import OneHotEncoder, LabelEncoder\n",
    "from sklearn.model_selection import StratifiedKFold\n",
    "from sklearn.metrics import roc_auc_score\n",
    "\n",
    "# LightGBM\n",
    "import lightgbm as lgb\n",
    "\n",
    "import warnings\n",
    "warnings.filterwarnings(\"ignore\")"
   ]
  },
  {
   "cell_type": "markdown",
   "id": "f73c9512",
   "metadata": {
    "papermill": {
     "duration": 0.087613,
     "end_time": "2022-05-01T11:23:37.363398",
     "exception": false,
     "start_time": "2022-05-01T11:23:37.275785",
     "status": "completed"
    },
    "tags": []
   },
   "source": [
    "#### スクリプト7-2: ファイルの読み込み・データ確認"
   ]
  },
  {
   "cell_type": "code",
   "execution_count": 20,
   "id": "bbab860c",
   "metadata": {
    "execution": {
     "iopub.execute_input": "2022-05-01T11:23:37.540951Z",
     "iopub.status.busy": "2022-05-01T11:23:37.540459Z",
     "iopub.status.idle": "2022-05-01T11:23:44.822164Z",
     "shell.execute_reply": "2022-05-01T11:23:44.821110Z"
    },
    "papermill": {
     "duration": 7.373119,
     "end_time": "2022-05-01T11:23:44.824501",
     "exception": false,
     "start_time": "2022-05-01T11:23:37.451382",
     "status": "completed"
    },
    "tags": []
   },
   "outputs": [
    {
     "name": "stdout",
     "output_type": "stream",
     "text": [
      "(307511, 122)\n"
     ]
    },
    {
     "data": {
      "text/html": [
       "<div>\n",
       "<style scoped>\n",
       "    .dataframe tbody tr th:only-of-type {\n",
       "        vertical-align: middle;\n",
       "    }\n",
       "\n",
       "    .dataframe tbody tr th {\n",
       "        vertical-align: top;\n",
       "    }\n",
       "\n",
       "    .dataframe thead th {\n",
       "        text-align: right;\n",
       "    }\n",
       "</style>\n",
       "<table border=\"1\" class=\"dataframe\">\n",
       "  <thead>\n",
       "    <tr style=\"text-align: right;\">\n",
       "      <th></th>\n",
       "      <th>SK_ID_CURR</th>\n",
       "      <th>TARGET</th>\n",
       "      <th>NAME_CONTRACT_TYPE</th>\n",
       "      <th>CODE_GENDER</th>\n",
       "      <th>FLAG_OWN_CAR</th>\n",
       "      <th>FLAG_OWN_REALTY</th>\n",
       "      <th>CNT_CHILDREN</th>\n",
       "      <th>AMT_INCOME_TOTAL</th>\n",
       "      <th>AMT_CREDIT</th>\n",
       "      <th>AMT_ANNUITY</th>\n",
       "      <th>...</th>\n",
       "      <th>FLAG_DOCUMENT_18</th>\n",
       "      <th>FLAG_DOCUMENT_19</th>\n",
       "      <th>FLAG_DOCUMENT_20</th>\n",
       "      <th>FLAG_DOCUMENT_21</th>\n",
       "      <th>AMT_REQ_CREDIT_BUREAU_HOUR</th>\n",
       "      <th>AMT_REQ_CREDIT_BUREAU_DAY</th>\n",
       "      <th>AMT_REQ_CREDIT_BUREAU_WEEK</th>\n",
       "      <th>AMT_REQ_CREDIT_BUREAU_MON</th>\n",
       "      <th>AMT_REQ_CREDIT_BUREAU_QRT</th>\n",
       "      <th>AMT_REQ_CREDIT_BUREAU_YEAR</th>\n",
       "    </tr>\n",
       "  </thead>\n",
       "  <tbody>\n",
       "    <tr>\n",
       "      <th>0</th>\n",
       "      <td>100002</td>\n",
       "      <td>1</td>\n",
       "      <td>Cash loans</td>\n",
       "      <td>M</td>\n",
       "      <td>N</td>\n",
       "      <td>Y</td>\n",
       "      <td>0</td>\n",
       "      <td>202500.0</td>\n",
       "      <td>406597.5</td>\n",
       "      <td>24700.5</td>\n",
       "      <td>...</td>\n",
       "      <td>0</td>\n",
       "      <td>0</td>\n",
       "      <td>0</td>\n",
       "      <td>0</td>\n",
       "      <td>0.0</td>\n",
       "      <td>0.0</td>\n",
       "      <td>0.0</td>\n",
       "      <td>0.0</td>\n",
       "      <td>0.0</td>\n",
       "      <td>1.0</td>\n",
       "    </tr>\n",
       "    <tr>\n",
       "      <th>1</th>\n",
       "      <td>100003</td>\n",
       "      <td>0</td>\n",
       "      <td>Cash loans</td>\n",
       "      <td>F</td>\n",
       "      <td>N</td>\n",
       "      <td>N</td>\n",
       "      <td>0</td>\n",
       "      <td>270000.0</td>\n",
       "      <td>1293502.5</td>\n",
       "      <td>35698.5</td>\n",
       "      <td>...</td>\n",
       "      <td>0</td>\n",
       "      <td>0</td>\n",
       "      <td>0</td>\n",
       "      <td>0</td>\n",
       "      <td>0.0</td>\n",
       "      <td>0.0</td>\n",
       "      <td>0.0</td>\n",
       "      <td>0.0</td>\n",
       "      <td>0.0</td>\n",
       "      <td>0.0</td>\n",
       "    </tr>\n",
       "    <tr>\n",
       "      <th>2</th>\n",
       "      <td>100004</td>\n",
       "      <td>0</td>\n",
       "      <td>Revolving loans</td>\n",
       "      <td>M</td>\n",
       "      <td>Y</td>\n",
       "      <td>Y</td>\n",
       "      <td>0</td>\n",
       "      <td>67500.0</td>\n",
       "      <td>135000.0</td>\n",
       "      <td>6750.0</td>\n",
       "      <td>...</td>\n",
       "      <td>0</td>\n",
       "      <td>0</td>\n",
       "      <td>0</td>\n",
       "      <td>0</td>\n",
       "      <td>0.0</td>\n",
       "      <td>0.0</td>\n",
       "      <td>0.0</td>\n",
       "      <td>0.0</td>\n",
       "      <td>0.0</td>\n",
       "      <td>0.0</td>\n",
       "    </tr>\n",
       "    <tr>\n",
       "      <th>3</th>\n",
       "      <td>100006</td>\n",
       "      <td>0</td>\n",
       "      <td>Cash loans</td>\n",
       "      <td>F</td>\n",
       "      <td>N</td>\n",
       "      <td>Y</td>\n",
       "      <td>0</td>\n",
       "      <td>135000.0</td>\n",
       "      <td>312682.5</td>\n",
       "      <td>29686.5</td>\n",
       "      <td>...</td>\n",
       "      <td>0</td>\n",
       "      <td>0</td>\n",
       "      <td>0</td>\n",
       "      <td>0</td>\n",
       "      <td>NaN</td>\n",
       "      <td>NaN</td>\n",
       "      <td>NaN</td>\n",
       "      <td>NaN</td>\n",
       "      <td>NaN</td>\n",
       "      <td>NaN</td>\n",
       "    </tr>\n",
       "    <tr>\n",
       "      <th>4</th>\n",
       "      <td>100007</td>\n",
       "      <td>0</td>\n",
       "      <td>Cash loans</td>\n",
       "      <td>M</td>\n",
       "      <td>N</td>\n",
       "      <td>Y</td>\n",
       "      <td>0</td>\n",
       "      <td>121500.0</td>\n",
       "      <td>513000.0</td>\n",
       "      <td>21865.5</td>\n",
       "      <td>...</td>\n",
       "      <td>0</td>\n",
       "      <td>0</td>\n",
       "      <td>0</td>\n",
       "      <td>0</td>\n",
       "      <td>0.0</td>\n",
       "      <td>0.0</td>\n",
       "      <td>0.0</td>\n",
       "      <td>0.0</td>\n",
       "      <td>0.0</td>\n",
       "      <td>0.0</td>\n",
       "    </tr>\n",
       "  </tbody>\n",
       "</table>\n",
       "<p>5 rows × 122 columns</p>\n",
       "</div>"
      ],
      "text/plain": [
       "   SK_ID_CURR  TARGET NAME_CONTRACT_TYPE CODE_GENDER FLAG_OWN_CAR  \\\n",
       "0      100002       1         Cash loans           M            N   \n",
       "1      100003       0         Cash loans           F            N   \n",
       "2      100004       0    Revolving loans           M            Y   \n",
       "3      100006       0         Cash loans           F            N   \n",
       "4      100007       0         Cash loans           M            N   \n",
       "\n",
       "  FLAG_OWN_REALTY  CNT_CHILDREN  AMT_INCOME_TOTAL  AMT_CREDIT  AMT_ANNUITY  \\\n",
       "0               Y             0          202500.0    406597.5      24700.5   \n",
       "1               N             0          270000.0   1293502.5      35698.5   \n",
       "2               Y             0           67500.0    135000.0       6750.0   \n",
       "3               Y             0          135000.0    312682.5      29686.5   \n",
       "4               Y             0          121500.0    513000.0      21865.5   \n",
       "\n",
       "   ...  FLAG_DOCUMENT_18 FLAG_DOCUMENT_19 FLAG_DOCUMENT_20 FLAG_DOCUMENT_21  \\\n",
       "0  ...                 0                0                0                0   \n",
       "1  ...                 0                0                0                0   \n",
       "2  ...                 0                0                0                0   \n",
       "3  ...                 0                0                0                0   \n",
       "4  ...                 0                0                0                0   \n",
       "\n",
       "  AMT_REQ_CREDIT_BUREAU_HOUR AMT_REQ_CREDIT_BUREAU_DAY  \\\n",
       "0                        0.0                       0.0   \n",
       "1                        0.0                       0.0   \n",
       "2                        0.0                       0.0   \n",
       "3                        NaN                       NaN   \n",
       "4                        0.0                       0.0   \n",
       "\n",
       "   AMT_REQ_CREDIT_BUREAU_WEEK  AMT_REQ_CREDIT_BUREAU_MON  \\\n",
       "0                         0.0                        0.0   \n",
       "1                         0.0                        0.0   \n",
       "2                         0.0                        0.0   \n",
       "3                         NaN                        NaN   \n",
       "4                         0.0                        0.0   \n",
       "\n",
       "   AMT_REQ_CREDIT_BUREAU_QRT  AMT_REQ_CREDIT_BUREAU_YEAR  \n",
       "0                        0.0                         1.0  \n",
       "1                        0.0                         0.0  \n",
       "2                        0.0                         0.0  \n",
       "3                        NaN                         NaN  \n",
       "4                        0.0                         0.0  \n",
       "\n",
       "[5 rows x 122 columns]"
      ]
     },
     "execution_count": 20,
     "metadata": {},
     "output_type": "execute_result"
    }
   ],
   "source": [
    "application_train = pd.read_csv(\"../input/home-credit-default-risk/application_train.csv\")\n",
    "print(application_train.shape)\n",
    "application_train.head()"
   ]
  },
  {
   "cell_type": "markdown",
   "id": "ca34cbaa",
   "metadata": {
    "papermill": {
     "duration": 0.089756,
     "end_time": "2022-05-01T11:23:45.005121",
     "exception": false,
     "start_time": "2022-05-01T11:23:44.915365",
     "status": "completed"
    },
    "tags": []
   },
   "source": [
    "#### スクリプト7-3: メモリ削減のための関数"
   ]
  },
  {
   "cell_type": "code",
   "execution_count": 21,
   "id": "b579d690",
   "metadata": {
    "execution": {
     "iopub.execute_input": "2022-05-01T11:23:45.188074Z",
     "iopub.status.busy": "2022-05-01T11:23:45.187784Z",
     "iopub.status.idle": "2022-05-01T11:23:45.202900Z",
     "shell.execute_reply": "2022-05-01T11:23:45.201850Z"
    },
    "papermill": {
     "duration": 0.108021,
     "end_time": "2022-05-01T11:23:45.205006",
     "exception": false,
     "start_time": "2022-05-01T11:23:45.096985",
     "status": "completed"
    },
    "tags": []
   },
   "outputs": [],
   "source": [
    "def reduce_mem_usage(df):\n",
    "    start_mem = df.memory_usage().sum() / 1024**2\n",
    "    print('Memory usage of dataframe is {:.2f} MB'.format(start_mem))\n",
    "    \n",
    "    for col in df.columns:\n",
    "        col_type = df[col].dtype\n",
    "        \n",
    "        if col_type != object:\n",
    "            c_min = df[col].min()\n",
    "            c_max = df[col].max()\n",
    "            if str(col_type)[:3] == 'int':\n",
    "                if c_min > np.iinfo(np.int8).min and c_max < np.iinfo(np.int8).max:\n",
    "                    df[col] = df[col].astype(np.int8)\n",
    "                elif c_min > np.iinfo(np.int16).min and c_max < np.iinfo(np.int16).max:\n",
    "                    df[col] = df[col].astype(np.int16)\n",
    "                elif c_min > np.iinfo(np.int32).min and c_max < np.iinfo(np.int32).max:\n",
    "                    df[col] = df[col].astype(np.int32)\n",
    "                elif c_min > np.iinfo(np.int64).min and c_max < np.iinfo(np.int64).max:\n",
    "                    df[col] = df[col].astype(np.int64)  \n",
    "            else:\n",
    "                if c_min > np.finfo(np.float16).min and c_max < np.finfo(np.float16).max:\n",
    "                    df[col] = df[col].astype(np.float16)\n",
    "                elif c_min > np.finfo(np.float32).min and c_max < np.finfo(np.float32).max:\n",
    "                    df[col] = df[col].astype(np.float32)\n",
    "                else:\n",
    "                    df[col] = df[col].astype(np.float64)\n",
    "        else:\n",
    "            pass\n",
    "\n",
    "    end_mem = df.memory_usage().sum() / 1024**2\n",
    "    print('Memory usage after optimization is: {:.2f} MB'.format(end_mem))\n",
    "    print('Decreased by {:.1f}%'.format(100 * (start_mem - end_mem) / start_mem))\n",
    "    \n",
    "    return df"
   ]
  },
  {
   "cell_type": "markdown",
   "id": "2b5301d8",
   "metadata": {
    "papermill": {
     "duration": 0.089729,
     "end_time": "2022-05-01T11:23:45.384648",
     "exception": false,
     "start_time": "2022-05-01T11:23:45.294919",
     "status": "completed"
    },
    "tags": []
   },
   "source": [
    "#### スクリプト7-4: メモリ削減の実行"
   ]
  },
  {
   "cell_type": "code",
   "execution_count": 22,
   "id": "08a221ed",
   "metadata": {
    "execution": {
     "iopub.execute_input": "2022-05-01T11:23:45.566933Z",
     "iopub.status.busy": "2022-05-01T11:23:45.566117Z",
     "iopub.status.idle": "2022-05-01T11:23:48.778169Z",
     "shell.execute_reply": "2022-05-01T11:23:48.776991Z"
    },
    "papermill": {
     "duration": 3.305745,
     "end_time": "2022-05-01T11:23:48.780410",
     "exception": false,
     "start_time": "2022-05-01T11:23:45.474665",
     "status": "completed"
    },
    "tags": []
   },
   "outputs": [
    {
     "name": "stdout",
     "output_type": "stream",
     "text": [
      "Memory usage of dataframe is 286.23 MB\n",
      "Memory usage after optimization is: 92.38 MB\n",
      "Decreased by 67.7%\n"
     ]
    }
   ],
   "source": [
    "application_train = reduce_mem_usage(application_train)"
   ]
  },
  {
   "cell_type": "markdown",
   "id": "deeee3a1",
   "metadata": {
    "papermill": {
     "duration": 0.090576,
     "end_time": "2022-05-01T11:23:48.960918",
     "exception": false,
     "start_time": "2022-05-01T11:23:48.870342",
     "status": "completed"
    },
    "tags": []
   },
   "source": [
    "## 7.3.3 データセット作成\n",
    "#### スクリプト7-5: データセットの作成"
   ]
  },
  {
   "cell_type": "code",
   "execution_count": 23,
   "id": "a7a4e62a",
   "metadata": {
    "execution": {
     "iopub.execute_input": "2022-05-01T11:23:49.146150Z",
     "iopub.status.busy": "2022-05-01T11:23:49.145829Z",
     "iopub.status.idle": "2022-05-01T11:23:49.300335Z",
     "shell.execute_reply": "2022-05-01T11:23:49.299466Z"
    },
    "papermill": {
     "duration": 0.248249,
     "end_time": "2022-05-01T11:23:49.302666",
     "exception": false,
     "start_time": "2022-05-01T11:23:49.054417",
     "status": "completed"
    },
    "tags": []
   },
   "outputs": [],
   "source": [
    "x_train = application_train.drop(columns=[\"TARGET\", \"SK_ID_CURR\"])\n",
    "y_train = application_train[\"TARGET\"]\n",
    "id_train = application_train[[\"SK_ID_CURR\"]]"
   ]
  },
  {
   "cell_type": "markdown",
   "id": "f1825d77",
   "metadata": {
    "papermill": {
     "duration": 0.08938,
     "end_time": "2022-05-01T11:23:49.482167",
     "exception": false,
     "start_time": "2022-05-01T11:23:49.392787",
     "status": "completed"
    },
    "tags": []
   },
   "source": [
    "#### スクリプト7-6: カテゴリ変数をcategory型に変換 "
   ]
  },
  {
   "cell_type": "code",
   "execution_count": 24,
   "id": "aa714e9a",
   "metadata": {
    "execution": {
     "iopub.execute_input": "2022-05-01T11:23:49.663340Z",
     "iopub.status.busy": "2022-05-01T11:23:49.662484Z",
     "iopub.status.idle": "2022-05-01T11:23:50.453008Z",
     "shell.execute_reply": "2022-05-01T11:23:50.452018Z"
    },
    "papermill": {
     "duration": 0.883679,
     "end_time": "2022-05-01T11:23:50.455402",
     "exception": false,
     "start_time": "2022-05-01T11:23:49.571723",
     "status": "completed"
    },
    "tags": []
   },
   "outputs": [],
   "source": [
    "for col in x_train.columns:\n",
    "    if x_train[col].dtype==\"O\":\n",
    "        x_train[col] = x_train[col].astype(\"category\")"
   ]
  },
  {
   "cell_type": "markdown",
   "id": "7cdd9554",
   "metadata": {
    "papermill": {
     "duration": 0.089464,
     "end_time": "2022-05-01T11:23:50.636935",
     "exception": false,
     "start_time": "2022-05-01T11:23:50.547471",
     "status": "completed"
    },
    "tags": []
   },
   "source": [
    "## 7.3.4 バリデーション設計\n",
    "#### スクリプト7-7: 1の割合とそれぞれの件数を確認"
   ]
  },
  {
   "cell_type": "code",
   "execution_count": 25,
   "id": "d52395ff",
   "metadata": {
    "execution": {
     "iopub.execute_input": "2022-05-01T11:23:50.820860Z",
     "iopub.status.busy": "2022-05-01T11:23:50.820298Z",
     "iopub.status.idle": "2022-05-01T11:23:50.831722Z",
     "shell.execute_reply": "2022-05-01T11:23:50.830504Z"
    },
    "papermill": {
     "duration": 0.107319,
     "end_time": "2022-05-01T11:23:50.834193",
     "exception": false,
     "start_time": "2022-05-01T11:23:50.726874",
     "status": "completed"
    },
    "tags": []
   },
   "outputs": [
    {
     "name": "stdout",
     "output_type": "stream",
     "text": [
      "mean: 0.0807\n"
     ]
    },
    {
     "data": {
      "text/plain": [
       "0    282686\n",
       "1     24825\n",
       "Name: TARGET, dtype: int64"
      ]
     },
     "execution_count": 25,
     "metadata": {},
     "output_type": "execute_result"
    }
   ],
   "source": [
    "print(\"mean: {:.4f}\".format(y_train.mean()))\n",
    "y_train.value_counts()"
   ]
  },
  {
   "cell_type": "markdown",
   "id": "f1e9506a",
   "metadata": {
    "papermill": {
     "duration": 0.092291,
     "end_time": "2022-05-01T11:23:51.017748",
     "exception": false,
     "start_time": "2022-05-01T11:23:50.925457",
     "status": "completed"
    },
    "tags": []
   },
   "source": [
    "#### スクリプト7-8: バリデーションのindexリスト作成"
   ]
  },
  {
   "cell_type": "code",
   "execution_count": 26,
   "id": "61e2fa8a",
   "metadata": {
    "execution": {
     "iopub.execute_input": "2022-05-01T11:23:51.205259Z",
     "iopub.status.busy": "2022-05-01T11:23:51.204920Z",
     "iopub.status.idle": "2022-05-01T11:23:51.264017Z",
     "shell.execute_reply": "2022-05-01T11:23:51.262944Z"
    },
    "papermill": {
     "duration": 0.156622,
     "end_time": "2022-05-01T11:23:51.266391",
     "exception": false,
     "start_time": "2022-05-01T11:23:51.109769",
     "status": "completed"
    },
    "tags": []
   },
   "outputs": [
    {
     "name": "stdout",
     "output_type": "stream",
     "text": [
      "index(train): [     0      1      3 ... 307508 307509 307510]\n",
      "index(valid): [     2     11     22 ... 307488 307495 307497]\n"
     ]
    }
   ],
   "source": [
    "# 層化分割したバリデーションのindexのリスト作成\n",
    "cv = list(StratifiedKFold(n_splits=5, shuffle=True, random_state=123).split(x_train, y_train))\n",
    "\n",
    "# indexの確認：fold=0のtrainデータ\n",
    "print(\"index(train):\", cv[0][0])\n",
    "\n",
    "# indexの確認：fold=0のvalidデータ\n",
    "print(\"index(valid):\", cv[0][1])"
   ]
  },
  {
   "cell_type": "markdown",
   "id": "3bf54413",
   "metadata": {
    "papermill": {
     "duration": 0.09102,
     "end_time": "2022-05-01T11:23:51.449829",
     "exception": false,
     "start_time": "2022-05-01T11:23:51.358809",
     "status": "completed"
    },
    "tags": []
   },
   "source": [
    "## 7.3.5 モデル学習\n",
    "#### スクリプト7-9: 学習データと検証データに分離"
   ]
  },
  {
   "cell_type": "code",
   "execution_count": 27,
   "id": "6a491d83",
   "metadata": {
    "execution": {
     "iopub.execute_input": "2022-05-01T11:23:51.634083Z",
     "iopub.status.busy": "2022-05-01T11:23:51.633777Z",
     "iopub.status.idle": "2022-05-01T11:23:51.902074Z",
     "shell.execute_reply": "2022-05-01T11:23:51.901028Z"
    },
    "papermill": {
     "duration": 0.363225,
     "end_time": "2022-05-01T11:23:51.904470",
     "exception": false,
     "start_time": "2022-05-01T11:23:51.541245",
     "status": "completed"
    },
    "tags": []
   },
   "outputs": [
    {
     "name": "stdout",
     "output_type": "stream",
     "text": [
      "(246008, 120) (246008,) (246008, 1)\n",
      "(61503, 120) (61503,) (61503, 1)\n"
     ]
    }
   ],
   "source": [
    "# foldごとのindexのリスト作成\n",
    "cv = list(StratifiedKFold(n_splits=5, shuffle=True, random_state=123).split(x_train, y_train))\n",
    "\n",
    "# 0fold目のindexのリスト取得\n",
    "nfold = 0\n",
    "idx_tr, idx_va = cv[nfold][0], cv[nfold][1]\n",
    "\n",
    "# 学習データと検証データに分離\n",
    "x_tr, y_tr, id_tr = x_train.loc[idx_tr, :], y_train[idx_tr], id_train.loc[idx_tr, :]\n",
    "x_va, y_va, id_va = x_train.loc[idx_va, :], y_train[idx_va], id_train.loc[idx_va, :]\n",
    "print(x_tr.shape, y_tr.shape, id_tr.shape)\n",
    "print(x_va.shape, y_va.shape, id_va.shape)"
   ]
  },
  {
   "cell_type": "markdown",
   "id": "ccf5fec5",
   "metadata": {
    "papermill": {
     "duration": 0.093026,
     "end_time": "2022-05-01T11:23:52.092265",
     "exception": false,
     "start_time": "2022-05-01T11:23:51.999239",
     "status": "completed"
    },
    "tags": []
   },
   "source": [
    "#### スクリプト7-10: モデル学習"
   ]
  },
  {
   "cell_type": "code",
   "execution_count": 28,
   "id": "4ed1777e",
   "metadata": {
    "execution": {
     "iopub.execute_input": "2022-05-01T11:23:52.277483Z",
     "iopub.status.busy": "2022-05-01T11:23:52.276895Z",
     "iopub.status.idle": "2022-05-01T11:24:15.898043Z",
     "shell.execute_reply": "2022-05-01T11:24:15.897298Z"
    },
    "papermill": {
     "duration": 23.716601,
     "end_time": "2022-05-01T11:24:15.900518",
     "exception": false,
     "start_time": "2022-05-01T11:23:52.183917",
     "status": "completed"
    },
    "tags": []
   },
   "outputs": [
    {
     "name": "stdout",
     "output_type": "stream",
     "text": [
      "Training until validation scores don't improve for 100 rounds\n",
      "[100]\ttraining's auc: 0.782506\tvalid_1's auc: 0.755903\n",
      "[200]\ttraining's auc: 0.808961\tvalid_1's auc: 0.758356\n",
      "[300]\ttraining's auc: 0.829245\tvalid_1's auc: 0.757774\n",
      "Early stopping, best iteration is:\n",
      "[217]\ttraining's auc: 0.812578\tvalid_1's auc: 0.758595\n"
     ]
    }
   ],
   "source": [
    "params = {\n",
    "    'boosting_type': 'gbdt',\n",
    "    'objective': 'binary', \n",
    "    'metric': 'auc',\n",
    "    'learning_rate': 0.05,\n",
    "    'num_leaves': 32,\n",
    "    'n_estimators': 100000,\n",
    "    \"random_state\": 123,\n",
    "    \"importance_type\": \"gain\",\n",
    "}\n",
    "\n",
    "# モデルの学習\n",
    "model = lgb.LGBMClassifier(**params)\n",
    "model.fit(x_tr,\n",
    "          y_tr,\n",
    "          eval_set=[(x_tr, y_tr), (x_va, y_va)],\n",
    "          early_stopping_rounds=100,\n",
    "          verbose=100\n",
    "         )\n",
    "\n",
    "# モデルの保存\n",
    "with open(\"../models/notebooks/model_lgb_fold0.pickle\", \"wb\") as f:\n",
    "    pickle.dump(model, f, protocol=4)"
   ]
  },
  {
   "cell_type": "markdown",
   "id": "e040f917",
   "metadata": {
    "papermill": {
     "duration": 0.093258,
     "end_time": "2022-05-01T11:24:16.089028",
     "exception": false,
     "start_time": "2022-05-01T11:24:15.995770",
     "status": "completed"
    },
    "tags": []
   },
   "source": [
    "#### スクリプト7-11: モデル評価"
   ]
  },
  {
   "cell_type": "code",
   "execution_count": 29,
   "id": "c0eb3ec6",
   "metadata": {
    "execution": {
     "iopub.execute_input": "2022-05-01T11:24:16.279459Z",
     "iopub.status.busy": "2022-05-01T11:24:16.279181Z",
     "iopub.status.idle": "2022-05-01T11:24:19.284107Z",
     "shell.execute_reply": "2022-05-01T11:24:19.282975Z"
    },
    "papermill": {
     "duration": 3.102892,
     "end_time": "2022-05-01T11:24:19.286495",
     "exception": false,
     "start_time": "2022-05-01T11:24:16.183603",
     "status": "completed"
    },
    "tags": []
   },
   "outputs": [
    {
     "name": "stdout",
     "output_type": "stream",
     "text": [
      "[auc] tr:0.8126, va:0.7586\n"
     ]
    }
   ],
   "source": [
    "# 学習データの推論値取得とROC計算\n",
    "y_tr_pred = model.predict_proba(x_tr)[:,1]\n",
    "metric_tr = roc_auc_score(y_tr, y_tr_pred)\n",
    "\n",
    "# 検証データの推論値取得とROC計算\n",
    "y_va_pred = model.predict_proba(x_va)[:,1]\n",
    "metric_va = roc_auc_score(y_va, y_va_pred)\n",
    "\n",
    "# 評価値を入れる変数の作成（最初のfoldのときのみ）\n",
    "metrics = []\n",
    "\n",
    "# 評価値を格納\n",
    "metrics.append([nfold, metric_tr, metric_va])\n",
    "\n",
    "# 結果の表示\n",
    "print(\"[auc] tr:{:.4f}, va:{:.4f}\".format(metric_tr, metric_va))"
   ]
  },
  {
   "cell_type": "markdown",
   "id": "f62c20a2",
   "metadata": {
    "papermill": {
     "duration": 0.092859,
     "end_time": "2022-05-01T11:24:19.472531",
     "exception": false,
     "start_time": "2022-05-01T11:24:19.379672",
     "status": "completed"
    },
    "tags": []
   },
   "source": [
    "#### スクリプト7-12: OOFデータの推論値取得"
   ]
  },
  {
   "cell_type": "code",
   "execution_count": 30,
   "id": "9de62e5e",
   "metadata": {
    "execution": {
     "iopub.execute_input": "2022-05-01T11:24:19.663264Z",
     "iopub.status.busy": "2022-05-01T11:24:19.662571Z",
     "iopub.status.idle": "2022-05-01T11:24:19.667851Z",
     "shell.execute_reply": "2022-05-01T11:24:19.666912Z"
    },
    "papermill": {
     "duration": 0.101332,
     "end_time": "2022-05-01T11:24:19.669896",
     "exception": false,
     "start_time": "2022-05-01T11:24:19.568564",
     "status": "completed"
    },
    "tags": []
   },
   "outputs": [],
   "source": [
    "# oofの予測値を入れる変数の作成\n",
    "train_oof = np.zeros(len(x_train))\n",
    "\n",
    "# validデータのindexに予測値を格納\n",
    "train_oof[idx_va] = y_va_pred"
   ]
  },
  {
   "cell_type": "markdown",
   "id": "44873c26",
   "metadata": {
    "papermill": {
     "duration": 0.093341,
     "end_time": "2022-05-01T11:24:19.858753",
     "exception": false,
     "start_time": "2022-05-01T11:24:19.765412",
     "status": "completed"
    },
    "tags": []
   },
   "source": [
    "#### スクリプト7-13: 説明変数の重要度取得"
   ]
  },
  {
   "cell_type": "code",
   "execution_count": 31,
   "id": "da674201",
   "metadata": {
    "execution": {
     "iopub.execute_input": "2022-05-01T11:24:20.049538Z",
     "iopub.status.busy": "2022-05-01T11:24:20.049250Z",
     "iopub.status.idle": "2022-05-01T11:24:20.064599Z",
     "shell.execute_reply": "2022-05-01T11:24:20.063940Z"
    },
    "papermill": {
     "duration": 0.113788,
     "end_time": "2022-05-01T11:24:20.066514",
     "exception": false,
     "start_time": "2022-05-01T11:24:19.952726",
     "status": "completed"
    },
    "tags": []
   },
   "outputs": [
    {
     "data": {
      "text/html": [
       "<div>\n",
       "<style scoped>\n",
       "    .dataframe tbody tr th:only-of-type {\n",
       "        vertical-align: middle;\n",
       "    }\n",
       "\n",
       "    .dataframe tbody tr th {\n",
       "        vertical-align: top;\n",
       "    }\n",
       "\n",
       "    .dataframe thead th {\n",
       "        text-align: right;\n",
       "    }\n",
       "</style>\n",
       "<table border=\"1\" class=\"dataframe\">\n",
       "  <thead>\n",
       "    <tr style=\"text-align: right;\">\n",
       "      <th></th>\n",
       "      <th>col</th>\n",
       "      <th>imp</th>\n",
       "      <th>nfold</th>\n",
       "    </tr>\n",
       "  </thead>\n",
       "  <tbody>\n",
       "    <tr>\n",
       "      <th>41</th>\n",
       "      <td>EXT_SOURCE_3</td>\n",
       "      <td>66225.020483</td>\n",
       "      <td>0</td>\n",
       "    </tr>\n",
       "    <tr>\n",
       "      <th>40</th>\n",
       "      <td>EXT_SOURCE_2</td>\n",
       "      <td>52568.833805</td>\n",
       "      <td>0</td>\n",
       "    </tr>\n",
       "    <tr>\n",
       "      <th>38</th>\n",
       "      <td>ORGANIZATION_TYPE</td>\n",
       "      <td>20218.523523</td>\n",
       "      <td>0</td>\n",
       "    </tr>\n",
       "    <tr>\n",
       "      <th>39</th>\n",
       "      <td>EXT_SOURCE_1</td>\n",
       "      <td>19776.252288</td>\n",
       "      <td>0</td>\n",
       "    </tr>\n",
       "    <tr>\n",
       "      <th>6</th>\n",
       "      <td>AMT_CREDIT</td>\n",
       "      <td>8111.321247</td>\n",
       "      <td>0</td>\n",
       "    </tr>\n",
       "    <tr>\n",
       "      <th>8</th>\n",
       "      <td>AMT_GOODS_PRICE</td>\n",
       "      <td>7120.960365</td>\n",
       "      <td>0</td>\n",
       "    </tr>\n",
       "    <tr>\n",
       "      <th>15</th>\n",
       "      <td>DAYS_BIRTH</td>\n",
       "      <td>7042.223005</td>\n",
       "      <td>0</td>\n",
       "    </tr>\n",
       "    <tr>\n",
       "      <th>7</th>\n",
       "      <td>AMT_ANNUITY</td>\n",
       "      <td>6992.551795</td>\n",
       "      <td>0</td>\n",
       "    </tr>\n",
       "    <tr>\n",
       "      <th>16</th>\n",
       "      <td>DAYS_EMPLOYED</td>\n",
       "      <td>5236.514120</td>\n",
       "      <td>0</td>\n",
       "    </tr>\n",
       "    <tr>\n",
       "      <th>26</th>\n",
       "      <td>OCCUPATION_TYPE</td>\n",
       "      <td>4376.651746</td>\n",
       "      <td>0</td>\n",
       "    </tr>\n",
       "  </tbody>\n",
       "</table>\n",
       "</div>"
      ],
      "text/plain": [
       "                  col           imp  nfold\n",
       "41       EXT_SOURCE_3  66225.020483      0\n",
       "40       EXT_SOURCE_2  52568.833805      0\n",
       "38  ORGANIZATION_TYPE  20218.523523      0\n",
       "39       EXT_SOURCE_1  19776.252288      0\n",
       "6          AMT_CREDIT   8111.321247      0\n",
       "8     AMT_GOODS_PRICE   7120.960365      0\n",
       "15         DAYS_BIRTH   7042.223005      0\n",
       "7         AMT_ANNUITY   6992.551795      0\n",
       "16      DAYS_EMPLOYED   5236.514120      0\n",
       "26    OCCUPATION_TYPE   4376.651746      0"
      ]
     },
     "metadata": {},
     "output_type": "display_data"
    }
   ],
   "source": [
    "# 重要度の取得\n",
    "imp_fold = pd.DataFrame({\"col\":x_train.columns, \"imp\":model.feature_importances_, \"nfold\":nfold})\n",
    "# 確認（重要度の上位10個）\n",
    "display(imp_fold.sort_values(\"imp\", ascending=False)[:10])\n",
    "\n",
    "# 重要度を格納する5fold用データフレームの作成\n",
    "imp = pd.DataFrame()\n",
    "# imp_foldを5fold用データフレームに結合\n",
    "imp = pd.concat([imp, imp_fold])"
   ]
  },
  {
   "cell_type": "markdown",
   "id": "9e05ab9e",
   "metadata": {
    "papermill": {
     "duration": 0.093362,
     "end_time": "2022-05-01T11:24:20.253799",
     "exception": false,
     "start_time": "2022-05-01T11:24:20.160437",
     "status": "completed"
    },
    "tags": []
   },
   "source": [
    "#### スクリプト7-14: モデル評価（全foldのサマリ）"
   ]
  },
  {
   "cell_type": "code",
   "execution_count": 32,
   "id": "f63a48df",
   "metadata": {
    "execution": {
     "iopub.execute_input": "2022-05-01T11:24:20.444051Z",
     "iopub.status.busy": "2022-05-01T11:24:20.443468Z",
     "iopub.status.idle": "2022-05-01T11:24:20.522243Z",
     "shell.execute_reply": "2022-05-01T11:24:20.521214Z"
    },
    "papermill": {
     "duration": 0.176615,
     "end_time": "2022-05-01T11:24:20.524732",
     "exception": false,
     "start_time": "2022-05-01T11:24:20.348117",
     "status": "completed"
    },
    "tags": []
   },
   "outputs": [
    {
     "name": "stdout",
     "output_type": "stream",
     "text": [
      "[[0.         0.81257796 0.75859528]]\n",
      "[cv] tr:0.8126+-0.0000, va:0.7586+-0.0000\n",
      "[oof] 0.5103\n"
     ]
    }
   ],
   "source": [
    "# リスト型をarray型に変換\n",
    "metrics = np.array(metrics)\n",
    "print(metrics)\n",
    "\n",
    "# 学習/検証データの評価値の平均値と標準偏差を算出\n",
    "print(\"[cv] tr:{:.4f}+-{:.4f}, va:{:.4f}+-{:.4f}\".format(\n",
    "    metrics[:,1].mean(), metrics[:,1].std(),\n",
    "    metrics[:,2].mean(), metrics[:,2].std(),\n",
    "))\n",
    "\n",
    "# oofの評価値を算出\n",
    "print(\"[oof] {:.4f}\".format(\n",
    "    roc_auc_score(y_train, train_oof)\n",
    "))"
   ]
  },
  {
   "cell_type": "markdown",
   "id": "78e4cb52",
   "metadata": {
    "papermill": {
     "duration": 0.095232,
     "end_time": "2022-05-01T11:24:20.714823",
     "exception": false,
     "start_time": "2022-05-01T11:24:20.619591",
     "status": "completed"
    },
    "tags": []
   },
   "source": [
    "#### スクリプト7-15: OOFデータの推論値取得（全foldのサマリ）"
   ]
  },
  {
   "cell_type": "code",
   "execution_count": 33,
   "id": "2781646c",
   "metadata": {
    "execution": {
     "iopub.execute_input": "2022-05-01T11:24:20.906225Z",
     "iopub.status.busy": "2022-05-01T11:24:20.905733Z",
     "iopub.status.idle": "2022-05-01T11:24:20.919662Z",
     "shell.execute_reply": "2022-05-01T11:24:20.918842Z"
    },
    "papermill": {
     "duration": 0.112005,
     "end_time": "2022-05-01T11:24:20.921746",
     "exception": false,
     "start_time": "2022-05-01T11:24:20.809741",
     "status": "completed"
    },
    "tags": []
   },
   "outputs": [
    {
     "data": {
      "text/html": [
       "<div>\n",
       "<style scoped>\n",
       "    .dataframe tbody tr th:only-of-type {\n",
       "        vertical-align: middle;\n",
       "    }\n",
       "\n",
       "    .dataframe tbody tr th {\n",
       "        vertical-align: top;\n",
       "    }\n",
       "\n",
       "    .dataframe thead th {\n",
       "        text-align: right;\n",
       "    }\n",
       "</style>\n",
       "<table border=\"1\" class=\"dataframe\">\n",
       "  <thead>\n",
       "    <tr style=\"text-align: right;\">\n",
       "      <th></th>\n",
       "      <th>SK_ID_CURR</th>\n",
       "      <th>true</th>\n",
       "      <th>pred</th>\n",
       "    </tr>\n",
       "  </thead>\n",
       "  <tbody>\n",
       "    <tr>\n",
       "      <th>0</th>\n",
       "      <td>100002</td>\n",
       "      <td>1</td>\n",
       "      <td>0.000000</td>\n",
       "    </tr>\n",
       "    <tr>\n",
       "      <th>1</th>\n",
       "      <td>100003</td>\n",
       "      <td>0</td>\n",
       "      <td>0.000000</td>\n",
       "    </tr>\n",
       "    <tr>\n",
       "      <th>2</th>\n",
       "      <td>100004</td>\n",
       "      <td>0</td>\n",
       "      <td>0.031866</td>\n",
       "    </tr>\n",
       "    <tr>\n",
       "      <th>3</th>\n",
       "      <td>100006</td>\n",
       "      <td>0</td>\n",
       "      <td>0.000000</td>\n",
       "    </tr>\n",
       "    <tr>\n",
       "      <th>4</th>\n",
       "      <td>100007</td>\n",
       "      <td>0</td>\n",
       "      <td>0.000000</td>\n",
       "    </tr>\n",
       "  </tbody>\n",
       "</table>\n",
       "</div>"
      ],
      "text/plain": [
       "   SK_ID_CURR  true      pred\n",
       "0      100002     1  0.000000\n",
       "1      100003     0  0.000000\n",
       "2      100004     0  0.031866\n",
       "3      100006     0  0.000000\n",
       "4      100007     0  0.000000"
      ]
     },
     "execution_count": 33,
     "metadata": {},
     "output_type": "execute_result"
    }
   ],
   "source": [
    "train_oof = pd.concat([\n",
    "    id_train,\n",
    "    pd.DataFrame({\"true\": y_train, \"pred\": train_oof}),\n",
    "], axis=1)\n",
    "train_oof.head()"
   ]
  },
  {
   "cell_type": "markdown",
   "id": "cfdb17bc",
   "metadata": {
    "papermill": {
     "duration": 0.094601,
     "end_time": "2022-05-01T11:24:21.111949",
     "exception": false,
     "start_time": "2022-05-01T11:24:21.017348",
     "status": "completed"
    },
    "tags": []
   },
   "source": [
    "#### スクリプト7-16: 説明変数の重要度取得（全foldのサマリ）"
   ]
  },
  {
   "cell_type": "code",
   "execution_count": 34,
   "id": "6186e8fb",
   "metadata": {
    "execution": {
     "iopub.execute_input": "2022-05-01T11:24:21.309618Z",
     "iopub.status.busy": "2022-05-01T11:24:21.309075Z",
     "iopub.status.idle": "2022-05-01T11:24:21.327056Z",
     "shell.execute_reply": "2022-05-01T11:24:21.326216Z"
    },
    "papermill": {
     "duration": 0.116117,
     "end_time": "2022-05-01T11:24:21.329183",
     "exception": false,
     "start_time": "2022-05-01T11:24:21.213066",
     "status": "completed"
    },
    "tags": []
   },
   "outputs": [
    {
     "data": {
      "text/html": [
       "<div>\n",
       "<style scoped>\n",
       "    .dataframe tbody tr th:only-of-type {\n",
       "        vertical-align: middle;\n",
       "    }\n",
       "\n",
       "    .dataframe tbody tr th {\n",
       "        vertical-align: top;\n",
       "    }\n",
       "\n",
       "    .dataframe thead th {\n",
       "        text-align: right;\n",
       "    }\n",
       "</style>\n",
       "<table border=\"1\" class=\"dataframe\">\n",
       "  <thead>\n",
       "    <tr style=\"text-align: right;\">\n",
       "      <th></th>\n",
       "      <th>col</th>\n",
       "      <th>imp</th>\n",
       "      <th>imp_std</th>\n",
       "    </tr>\n",
       "  </thead>\n",
       "  <tbody>\n",
       "    <tr>\n",
       "      <th>0</th>\n",
       "      <td>AMT_ANNUITY</td>\n",
       "      <td>6992.551795</td>\n",
       "      <td>NaN</td>\n",
       "    </tr>\n",
       "    <tr>\n",
       "      <th>1</th>\n",
       "      <td>AMT_CREDIT</td>\n",
       "      <td>8111.321247</td>\n",
       "      <td>NaN</td>\n",
       "    </tr>\n",
       "    <tr>\n",
       "      <th>2</th>\n",
       "      <td>AMT_GOODS_PRICE</td>\n",
       "      <td>7120.960365</td>\n",
       "      <td>NaN</td>\n",
       "    </tr>\n",
       "    <tr>\n",
       "      <th>3</th>\n",
       "      <td>AMT_INCOME_TOTAL</td>\n",
       "      <td>1595.740609</td>\n",
       "      <td>NaN</td>\n",
       "    </tr>\n",
       "    <tr>\n",
       "      <th>4</th>\n",
       "      <td>AMT_REQ_CREDIT_BUREAU_DAY</td>\n",
       "      <td>128.842901</td>\n",
       "      <td>NaN</td>\n",
       "    </tr>\n",
       "  </tbody>\n",
       "</table>\n",
       "</div>"
      ],
      "text/plain": [
       "                         col          imp  imp_std\n",
       "0                AMT_ANNUITY  6992.551795      NaN\n",
       "1                 AMT_CREDIT  8111.321247      NaN\n",
       "2            AMT_GOODS_PRICE  7120.960365      NaN\n",
       "3           AMT_INCOME_TOTAL  1595.740609      NaN\n",
       "4  AMT_REQ_CREDIT_BUREAU_DAY   128.842901      NaN"
      ]
     },
     "execution_count": 34,
     "metadata": {},
     "output_type": "execute_result"
    }
   ],
   "source": [
    "imp = imp.groupby(\"col\")[\"imp\"].agg([\"mean\", \"std\"]).reset_index(drop=False)\n",
    "imp.columns = [\"col\", \"imp\", \"imp_std\"]\n",
    "imp.head()"
   ]
  },
  {
   "cell_type": "markdown",
   "id": "06d9794f",
   "metadata": {
    "papermill": {
     "duration": 0.094757,
     "end_time": "2022-05-01T11:24:21.519248",
     "exception": false,
     "start_time": "2022-05-01T11:24:21.424491",
     "status": "completed"
    },
    "tags": []
   },
   "source": [
    "#### スクリプト7-17: 学習関数の定義"
   ]
  },
  {
   "cell_type": "code",
   "execution_count": 38,
   "id": "d6a353aa",
   "metadata": {
    "execution": {
     "iopub.execute_input": "2022-05-01T11:24:21.715355Z",
     "iopub.status.busy": "2022-05-01T11:24:21.714755Z",
     "iopub.status.idle": "2022-05-01T11:24:21.733500Z",
     "shell.execute_reply": "2022-05-01T11:24:21.732509Z"
    },
    "papermill": {
     "duration": 0.11853,
     "end_time": "2022-05-01T11:24:21.736005",
     "exception": false,
     "start_time": "2022-05-01T11:24:21.617475",
     "status": "completed"
    },
    "tags": []
   },
   "outputs": [],
   "source": [
    "def train_lgb(input_x,\n",
    "              input_y,\n",
    "              input_id,\n",
    "              params,\n",
    "              list_nfold=[0,1,2,3,4],\n",
    "              n_splits=5,\n",
    "             ):\n",
    "    train_oof = np.zeros(len(input_x))\n",
    "    metrics = []\n",
    "    imp = pd.DataFrame()\n",
    "\n",
    "    # cross-validation\n",
    "    cv = list(StratifiedKFold(n_splits=n_splits, shuffle=True, random_state=123).split(input_x, input_y))\n",
    "    for nfold in list_nfold:\n",
    "        print(\"-\"*20, nfold, \"-\"*20)\n",
    "        \n",
    "        # make dataset\n",
    "        idx_tr, idx_va = cv[nfold][0], cv[nfold][1]\n",
    "        x_tr, y_tr, id_tr = input_x.loc[idx_tr, :], input_y[idx_tr], input_id.loc[idx_tr, :]\n",
    "        x_va, y_va, id_va = input_x.loc[idx_va, :], input_y[idx_va], input_id.loc[idx_va, :]\n",
    "        print(x_tr.shape, x_va.shape)\n",
    "        \n",
    "        # train\n",
    "        model = lgb.LGBMClassifier(**params)\n",
    "        model.fit(x_tr,\n",
    "                  y_tr,\n",
    "                  eval_set=[(x_tr, y_tr), (x_va, y_va)],\n",
    "                  early_stopping_rounds=100,\n",
    "                  verbose=100\n",
    "                 )\n",
    "        fname_lgb = \"../models/notebooks/model_lgb_fold{}.pickle\".format(nfold)\n",
    "        with open(fname_lgb, \"wb\") as f:\n",
    "            pickle.dump(model, f, protocol=4)\n",
    "        \n",
    "        # evaluate\n",
    "        y_tr_pred = model.predict_proba(x_tr)[:,1]\n",
    "        y_va_pred = model.predict_proba(x_va)[:,1]\n",
    "        metric_tr = roc_auc_score(y_tr, y_tr_pred)\n",
    "        metric_va = roc_auc_score(y_va, y_va_pred)\n",
    "        metrics.append([nfold, metric_tr, metric_va])\n",
    "        print(\"[auc] tr:{:.4f}, va:{:.4f}\".format(metric_tr, metric_va))\n",
    "        \n",
    "        # oof\n",
    "        train_oof[idx_va] = y_va_pred\n",
    "        \n",
    "        # imp\n",
    "        _imp = pd.DataFrame({\"col\":input_x.columns, \"imp\":model.feature_importances_, \"nfold\":nfold})\n",
    "        imp = pd.concat([imp, _imp])\n",
    "      \n",
    "    print(\"-\"*20, \"result\", \"-\"*20)\n",
    "    # metric\n",
    "    metrics = np.array(metrics)\n",
    "    print(metrics)\n",
    "    print(\"[cv] tr:{:.4f}+-{:.4f}, va:{:.4f}+-{:.4f}\".format(\n",
    "        metrics[:,1].mean(), metrics[:,1].std(),\n",
    "        metrics[:,2].mean(), metrics[:,2].std(),\n",
    "    ))\n",
    "    print(\"[oof] {:.4f}\".format(\n",
    "        roc_auc_score(input_y, train_oof)\n",
    "    ))\n",
    "    \n",
    "    # oof\n",
    "    train_oof = pd.concat([\n",
    "        input_id,\n",
    "        pd.DataFrame({\"pred\":train_oof})\n",
    "    ], axis=1)\n",
    "    \n",
    "    # importance\n",
    "    imp = imp.groupby(\"col\")[\"imp\"].agg([\"mean\", \"std\"]).reset_index(drop=False)\n",
    "    imp.columns = [\"col\", \"imp\", \"imp_std\"]\n",
    "    \n",
    "    return train_oof, imp, metrics"
   ]
  },
  {
   "cell_type": "markdown",
   "id": "c0bcf86b",
   "metadata": {
    "papermill": {
     "duration": 0.095142,
     "end_time": "2022-05-01T11:24:21.927471",
     "exception": false,
     "start_time": "2022-05-01T11:24:21.832329",
     "status": "completed"
    },
    "tags": []
   },
   "source": [
    "#### スクリプト7-18: 学習処理の実行"
   ]
  },
  {
   "cell_type": "code",
   "execution_count": 39,
   "id": "906ff9a6",
   "metadata": {
    "execution": {
     "iopub.execute_input": "2022-05-01T11:24:22.121947Z",
     "iopub.status.busy": "2022-05-01T11:24:22.121361Z",
     "iopub.status.idle": "2022-05-01T11:26:52.942145Z",
     "shell.execute_reply": "2022-05-01T11:26:52.940358Z"
    },
    "papermill": {
     "duration": 150.919954,
     "end_time": "2022-05-01T11:26:52.944245",
     "exception": false,
     "start_time": "2022-05-01T11:24:22.024291",
     "status": "completed"
    },
    "tags": []
   },
   "outputs": [
    {
     "name": "stdout",
     "output_type": "stream",
     "text": [
      "-------------------- 0 --------------------\n",
      "(246008, 120) (61503, 120)\n",
      "Training until validation scores don't improve for 100 rounds\n",
      "[100]\ttraining's auc: 0.782506\tvalid_1's auc: 0.755903\n",
      "[200]\ttraining's auc: 0.808961\tvalid_1's auc: 0.758356\n",
      "[300]\ttraining's auc: 0.829245\tvalid_1's auc: 0.757774\n",
      "Early stopping, best iteration is:\n",
      "[217]\ttraining's auc: 0.812578\tvalid_1's auc: 0.758595\n",
      "[auc] tr:0.8126, va:0.7586\n",
      "-------------------- 1 --------------------\n",
      "(246009, 120) (61502, 120)\n",
      "Training until validation scores don't improve for 100 rounds\n",
      "[100]\ttraining's auc: 0.782531\tvalid_1's auc: 0.756239\n",
      "[200]\ttraining's auc: 0.808862\tvalid_1's auc: 0.758924\n",
      "[300]\ttraining's auc: 0.829564\tvalid_1's auc: 0.758779\n",
      "Early stopping, best iteration is:\n",
      "[236]\ttraining's auc: 0.816952\tvalid_1's auc: 0.759033\n",
      "[auc] tr:0.8170, va:0.7590\n",
      "-------------------- 2 --------------------\n",
      "(246009, 120) (61502, 120)\n",
      "Training until validation scores don't improve for 100 rounds\n",
      "[100]\ttraining's auc: 0.782101\tvalid_1's auc: 0.758221\n",
      "[200]\ttraining's auc: 0.809587\tvalid_1's auc: 0.760104\n",
      "[300]\ttraining's auc: 0.830474\tvalid_1's auc: 0.760275\n",
      "[400]\ttraining's auc: 0.847388\tvalid_1's auc: 0.759875\n",
      "Early stopping, best iteration is:\n",
      "[330]\ttraining's auc: 0.836209\tvalid_1's auc: 0.760378\n",
      "[auc] tr:0.8362, va:0.7604\n",
      "-------------------- 3 --------------------\n",
      "(246009, 120) (61502, 120)\n",
      "Training until validation scores don't improve for 100 rounds\n",
      "[100]\ttraining's auc: 0.783853\tvalid_1's auc: 0.754567\n",
      "[200]\ttraining's auc: 0.811501\tvalid_1's auc: 0.75659\n",
      "[300]\ttraining's auc: 0.83224\tvalid_1's auc: 0.756854\n",
      "Early stopping, best iteration is:\n",
      "[260]\ttraining's auc: 0.824363\tvalid_1's auc: 0.757121\n",
      "[auc] tr:0.8244, va:0.7571\n",
      "-------------------- 4 --------------------\n",
      "(246009, 120) (61502, 120)\n",
      "Training until validation scores don't improve for 100 rounds\n",
      "[100]\ttraining's auc: 0.783715\tvalid_1's auc: 0.748435\n",
      "[200]\ttraining's auc: 0.81071\tvalid_1's auc: 0.751348\n",
      "[300]\ttraining's auc: 0.830488\tvalid_1's auc: 0.751241\n",
      "Early stopping, best iteration is:\n",
      "[202]\ttraining's auc: 0.811333\tvalid_1's auc: 0.751415\n",
      "[auc] tr:0.8113, va:0.7514\n",
      "-------------------- result --------------------\n",
      "[[0.         0.81257796 0.75859528]\n",
      " [1.         0.8169515  0.7590332 ]\n",
      " [2.         0.83620918 0.7603778 ]\n",
      " [3.         0.82436296 0.7571206 ]\n",
      " [4.         0.81133335 0.75141465]]\n",
      "[cv] tr:0.8203+-0.0092, va:0.7573+-0.0031\n",
      "[oof] 0.7573\n"
     ]
    }
   ],
   "source": [
    "# ハイパーパラメータの設定\n",
    "params = {\n",
    "    'boosting_type': 'gbdt',\n",
    "    'objective': 'binary', \n",
    "    'metric': 'auc',\n",
    "    'learning_rate': 0.05,\n",
    "    'num_leaves': 32,\n",
    "    'n_estimators': 100000,\n",
    "    \"random_state\": 123,\n",
    "    \"importance_type\": \"gain\",\n",
    "}\n",
    "\n",
    "# 学習の実行\n",
    "train_oof, imp, metrics = train_lgb(x_train,\n",
    "                                    y_train,\n",
    "                                    id_train,\n",
    "                                    params,\n",
    "                                    list_nfold=[0,1,2,3,4],\n",
    "                                    n_splits=5,\n",
    "                                   )"
   ]
  },
  {
   "cell_type": "markdown",
   "id": "b61dcc75",
   "metadata": {
    "papermill": {
     "duration": 0.105003,
     "end_time": "2022-05-01T11:26:53.157164",
     "exception": false,
     "start_time": "2022-05-01T11:26:53.052161",
     "status": "completed"
    },
    "tags": []
   },
   "source": [
    "#### スクリプト7-19: 説明変数の重要度の確認"
   ]
  },
  {
   "cell_type": "code",
   "execution_count": 40,
   "id": "e9537530",
   "metadata": {
    "execution": {
     "iopub.execute_input": "2022-05-01T11:26:53.368312Z",
     "iopub.status.busy": "2022-05-01T11:26:53.367755Z",
     "iopub.status.idle": "2022-05-01T11:26:53.379286Z",
     "shell.execute_reply": "2022-05-01T11:26:53.378660Z"
    },
    "papermill": {
     "duration": 0.119132,
     "end_time": "2022-05-01T11:26:53.381119",
     "exception": false,
     "start_time": "2022-05-01T11:26:53.261987",
     "status": "completed"
    },
    "tags": []
   },
   "outputs": [
    {
     "data": {
      "text/html": [
       "<div>\n",
       "<style scoped>\n",
       "    .dataframe tbody tr th:only-of-type {\n",
       "        vertical-align: middle;\n",
       "    }\n",
       "\n",
       "    .dataframe tbody tr th {\n",
       "        vertical-align: top;\n",
       "    }\n",
       "\n",
       "    .dataframe thead th {\n",
       "        text-align: right;\n",
       "    }\n",
       "</style>\n",
       "<table border=\"1\" class=\"dataframe\">\n",
       "  <thead>\n",
       "    <tr style=\"text-align: right;\">\n",
       "      <th></th>\n",
       "      <th>col</th>\n",
       "      <th>imp</th>\n",
       "      <th>imp_std</th>\n",
       "    </tr>\n",
       "  </thead>\n",
       "  <tbody>\n",
       "    <tr>\n",
       "      <th>38</th>\n",
       "      <td>EXT_SOURCE_3</td>\n",
       "      <td>65353.907478</td>\n",
       "      <td>1558.201212</td>\n",
       "    </tr>\n",
       "    <tr>\n",
       "      <th>37</th>\n",
       "      <td>EXT_SOURCE_2</td>\n",
       "      <td>54545.388309</td>\n",
       "      <td>1251.798934</td>\n",
       "    </tr>\n",
       "    <tr>\n",
       "      <th>102</th>\n",
       "      <td>ORGANIZATION_TYPE</td>\n",
       "      <td>21441.917474</td>\n",
       "      <td>1450.246190</td>\n",
       "    </tr>\n",
       "    <tr>\n",
       "      <th>36</th>\n",
       "      <td>EXT_SOURCE_1</td>\n",
       "      <td>20051.934248</td>\n",
       "      <td>685.852224</td>\n",
       "    </tr>\n",
       "    <tr>\n",
       "      <th>1</th>\n",
       "      <td>AMT_CREDIT</td>\n",
       "      <td>8263.228728</td>\n",
       "      <td>410.384434</td>\n",
       "    </tr>\n",
       "    <tr>\n",
       "      <th>22</th>\n",
       "      <td>DAYS_BIRTH</td>\n",
       "      <td>7645.589110</td>\n",
       "      <td>689.458833</td>\n",
       "    </tr>\n",
       "    <tr>\n",
       "      <th>2</th>\n",
       "      <td>AMT_GOODS_PRICE</td>\n",
       "      <td>7263.054566</td>\n",
       "      <td>405.837031</td>\n",
       "    </tr>\n",
       "    <tr>\n",
       "      <th>0</th>\n",
       "      <td>AMT_ANNUITY</td>\n",
       "      <td>6762.953640</td>\n",
       "      <td>479.302045</td>\n",
       "    </tr>\n",
       "    <tr>\n",
       "      <th>23</th>\n",
       "      <td>DAYS_EMPLOYED</td>\n",
       "      <td>5810.288375</td>\n",
       "      <td>552.937730</td>\n",
       "    </tr>\n",
       "    <tr>\n",
       "      <th>101</th>\n",
       "      <td>OCCUPATION_TYPE</td>\n",
       "      <td>5502.675859</td>\n",
       "      <td>831.872392</td>\n",
       "    </tr>\n",
       "  </tbody>\n",
       "</table>\n",
       "</div>"
      ],
      "text/plain": [
       "                   col           imp      imp_std\n",
       "38        EXT_SOURCE_3  65353.907478  1558.201212\n",
       "37        EXT_SOURCE_2  54545.388309  1251.798934\n",
       "102  ORGANIZATION_TYPE  21441.917474  1450.246190\n",
       "36        EXT_SOURCE_1  20051.934248   685.852224\n",
       "1           AMT_CREDIT   8263.228728   410.384434\n",
       "22          DAYS_BIRTH   7645.589110   689.458833\n",
       "2      AMT_GOODS_PRICE   7263.054566   405.837031\n",
       "0          AMT_ANNUITY   6762.953640   479.302045\n",
       "23       DAYS_EMPLOYED   5810.288375   552.937730\n",
       "101    OCCUPATION_TYPE   5502.675859   831.872392"
      ]
     },
     "execution_count": 40,
     "metadata": {},
     "output_type": "execute_result"
    }
   ],
   "source": [
    "imp.sort_values(\"imp\", ascending=False)[:10]"
   ]
  },
  {
   "cell_type": "markdown",
   "id": "6362492d",
   "metadata": {
    "papermill": {
     "duration": 0.105484,
     "end_time": "2022-05-01T11:26:53.593515",
     "exception": false,
     "start_time": "2022-05-01T11:26:53.488031",
     "status": "completed"
    },
    "tags": []
   },
   "source": [
    "# 7.3.6 モデル推論\n",
    "#### スクリプト7-20: 推論用データセットの作成"
   ]
  },
  {
   "cell_type": "code",
   "execution_count": 41,
   "id": "82abb372",
   "metadata": {
    "execution": {
     "iopub.execute_input": "2022-05-01T11:26:53.826145Z",
     "iopub.status.busy": "2022-05-01T11:26:53.825612Z",
     "iopub.status.idle": "2022-05-01T11:26:55.317816Z",
     "shell.execute_reply": "2022-05-01T11:26:55.316839Z"
    },
    "papermill": {
     "duration": 1.620419,
     "end_time": "2022-05-01T11:26:55.320048",
     "exception": false,
     "start_time": "2022-05-01T11:26:53.699629",
     "status": "completed"
    },
    "tags": []
   },
   "outputs": [
    {
     "name": "stdout",
     "output_type": "stream",
     "text": [
      "Memory usage of dataframe is 45.00 MB\n",
      "Memory usage after optimization is: 14.60 MB\n",
      "Decreased by 67.6%\n"
     ]
    }
   ],
   "source": [
    "# ファイルの読み込み\n",
    "application_test = pd.read_csv(\"../input/home-credit-default-risk/application_test.csv\")\n",
    "application_test = reduce_mem_usage(application_test)\n",
    "\n",
    "# データセットの作成\n",
    "x_test = application_test.drop(columns=[\"SK_ID_CURR\" ])\n",
    "id_test = application_test[[\"SK_ID_CURR\"]]\n",
    "\n",
    "# カテゴリ変数をcategory型に変換\n",
    "for col in x_test.columns:\n",
    "    if x_test[col].dtype==\"O\":\n",
    "        x_test[col] = x_test[col].astype(\"category\")"
   ]
  },
  {
   "cell_type": "markdown",
   "id": "bc55e401",
   "metadata": {
    "papermill": {
     "duration": 0.109449,
     "end_time": "2022-05-01T11:26:55.537495",
     "exception": false,
     "start_time": "2022-05-01T11:26:55.428046",
     "status": "completed"
    },
    "tags": []
   },
   "source": [
    "#### スクリプト7-21: 学習済モデルの読み込み"
   ]
  },
  {
   "cell_type": "code",
   "execution_count": 42,
   "id": "2a0d4daa",
   "metadata": {
    "execution": {
     "iopub.execute_input": "2022-05-01T11:26:55.754412Z",
     "iopub.status.busy": "2022-05-01T11:26:55.754050Z",
     "iopub.status.idle": "2022-05-01T11:26:55.773753Z",
     "shell.execute_reply": "2022-05-01T11:26:55.773010Z"
    },
    "papermill": {
     "duration": 0.129157,
     "end_time": "2022-05-01T11:26:55.775801",
     "exception": false,
     "start_time": "2022-05-01T11:26:55.646644",
     "status": "completed"
    },
    "tags": []
   },
   "outputs": [],
   "source": [
    "with open(\"../models/notebooks/model_lgb_fold0.pickle\", \"rb\") as f:\n",
    "    model = pickle.load(f)"
   ]
  },
  {
   "cell_type": "markdown",
   "id": "e23b88cc",
   "metadata": {
    "papermill": {
     "duration": 0.107506,
     "end_time": "2022-05-01T11:26:55.992791",
     "exception": false,
     "start_time": "2022-05-01T11:26:55.885285",
     "status": "completed"
    },
    "tags": []
   },
   "source": [
    "#### スクリプト7-22: モデルを用いた推論"
   ]
  },
  {
   "cell_type": "code",
   "execution_count": 43,
   "id": "b5365e30",
   "metadata": {
    "execution": {
     "iopub.execute_input": "2022-05-01T11:26:56.211503Z",
     "iopub.status.busy": "2022-05-01T11:26:56.211216Z",
     "iopub.status.idle": "2022-05-01T11:26:56.674680Z",
     "shell.execute_reply": "2022-05-01T11:26:56.673958Z"
    },
    "papermill": {
     "duration": 0.574096,
     "end_time": "2022-05-01T11:26:56.677118",
     "exception": false,
     "start_time": "2022-05-01T11:26:56.103022",
     "status": "completed"
    },
    "tags": []
   },
   "outputs": [],
   "source": [
    "# 推論\n",
    "test_pred_fold = model.predict_proba(x_test)[:,1]\n",
    "\n",
    "# 推論値を格納する変数を作成\n",
    "test_pred = np.zeros((len(x_test), 5))\n",
    "\n",
    "# 1fold目の予測値を格納\n",
    "test_pred[:, 0] = test_pred_fold"
   ]
  },
  {
   "cell_type": "markdown",
   "id": "2586479e",
   "metadata": {
    "papermill": {
     "duration": 0.106599,
     "end_time": "2022-05-01T11:26:56.891415",
     "exception": false,
     "start_time": "2022-05-01T11:26:56.784816",
     "status": "completed"
    },
    "tags": []
   },
   "source": [
    "#### スクリプト7-23: 推論用データセットの推論値算出"
   ]
  },
  {
   "cell_type": "code",
   "execution_count": 44,
   "id": "4ca5b8ad",
   "metadata": {
    "execution": {
     "iopub.execute_input": "2022-05-01T11:26:57.107602Z",
     "iopub.status.busy": "2022-05-01T11:26:57.107285Z",
     "iopub.status.idle": "2022-05-01T11:26:57.121509Z",
     "shell.execute_reply": "2022-05-01T11:26:57.120429Z"
    },
    "papermill": {
     "duration": 0.125423,
     "end_time": "2022-05-01T11:26:57.123612",
     "exception": false,
     "start_time": "2022-05-01T11:26:56.998189",
     "status": "completed"
    },
    "tags": []
   },
   "outputs": [
    {
     "data": {
      "text/html": [
       "<div>\n",
       "<style scoped>\n",
       "    .dataframe tbody tr th:only-of-type {\n",
       "        vertical-align: middle;\n",
       "    }\n",
       "\n",
       "    .dataframe tbody tr th {\n",
       "        vertical-align: top;\n",
       "    }\n",
       "\n",
       "    .dataframe thead th {\n",
       "        text-align: right;\n",
       "    }\n",
       "</style>\n",
       "<table border=\"1\" class=\"dataframe\">\n",
       "  <thead>\n",
       "    <tr style=\"text-align: right;\">\n",
       "      <th></th>\n",
       "      <th>SK_ID_CURR</th>\n",
       "      <th>pred</th>\n",
       "    </tr>\n",
       "  </thead>\n",
       "  <tbody>\n",
       "    <tr>\n",
       "      <th>0</th>\n",
       "      <td>100001</td>\n",
       "      <td>0.006572</td>\n",
       "    </tr>\n",
       "    <tr>\n",
       "      <th>1</th>\n",
       "      <td>100005</td>\n",
       "      <td>0.023874</td>\n",
       "    </tr>\n",
       "    <tr>\n",
       "      <th>2</th>\n",
       "      <td>100013</td>\n",
       "      <td>0.004233</td>\n",
       "    </tr>\n",
       "    <tr>\n",
       "      <th>3</th>\n",
       "      <td>100028</td>\n",
       "      <td>0.008966</td>\n",
       "    </tr>\n",
       "    <tr>\n",
       "      <th>4</th>\n",
       "      <td>100038</td>\n",
       "      <td>0.030794</td>\n",
       "    </tr>\n",
       "  </tbody>\n",
       "</table>\n",
       "</div>"
      ],
      "text/plain": [
       "   SK_ID_CURR      pred\n",
       "0      100001  0.006572\n",
       "1      100005  0.023874\n",
       "2      100013  0.004233\n",
       "3      100028  0.008966\n",
       "4      100038  0.030794"
      ]
     },
     "execution_count": 44,
     "metadata": {},
     "output_type": "execute_result"
    }
   ],
   "source": [
    "# 各foldの推論値の平均値を算出\n",
    "test_pred_mean = test_pred.mean(axis=1)\n",
    "\n",
    "# 推論値のデータフレームを作成\n",
    "df_test_pred = pd.concat([\n",
    "        id_test,\n",
    "        pd.DataFrame({\"pred\": test_pred_mean}),\n",
    "    ], axis=1)\n",
    "df_test_pred.head()"
   ]
  },
  {
   "cell_type": "markdown",
   "id": "0042964b",
   "metadata": {
    "papermill": {
     "duration": 0.106328,
     "end_time": "2022-05-01T11:26:57.336268",
     "exception": false,
     "start_time": "2022-05-01T11:26:57.229940",
     "status": "completed"
    },
    "tags": []
   },
   "source": [
    "#### スクリプト7-24: 推論関数の定義"
   ]
  },
  {
   "cell_type": "code",
   "execution_count": 45,
   "id": "8a8cd46e",
   "metadata": {
    "execution": {
     "iopub.execute_input": "2022-05-01T11:26:57.552791Z",
     "iopub.status.busy": "2022-05-01T11:26:57.552013Z",
     "iopub.status.idle": "2022-05-01T11:26:57.560108Z",
     "shell.execute_reply": "2022-05-01T11:26:57.559228Z"
    },
    "papermill": {
     "duration": 0.118831,
     "end_time": "2022-05-01T11:26:57.562308",
     "exception": false,
     "start_time": "2022-05-01T11:26:57.443477",
     "status": "completed"
    },
    "tags": []
   },
   "outputs": [],
   "source": [
    "def predict_lgb(input_x,\n",
    "                input_id,\n",
    "                list_nfold=[0,1,2,3,4],\n",
    "               ):\n",
    "    pred = np.zeros((len(input_x), len(list_nfold)))\n",
    "    for nfold in list_nfold:\n",
    "        print(\"-\"*20, nfold, \"-\"*20)\n",
    "        fname_lgb = \"../models/notebooks/model_lgb_fold{}.pickle\".format(nfold)\n",
    "        with open(fname_lgb, \"rb\") as f:\n",
    "            model = pickle.load(f)\n",
    "        pred[:, nfold] = model.predict_proba(input_x)[:,1]\n",
    "    \n",
    "    pred = pd.concat([\n",
    "        input_id,\n",
    "        pd.DataFrame({\"pred\": pred.mean(axis=1)}),\n",
    "    ], axis=1)\n",
    "    \n",
    "    print(\"Done.\")\n",
    "    \n",
    "    return pred"
   ]
  },
  {
   "cell_type": "markdown",
   "id": "ecdf93fa",
   "metadata": {
    "papermill": {
     "duration": 0.107067,
     "end_time": "2022-05-01T11:26:57.776862",
     "exception": false,
     "start_time": "2022-05-01T11:26:57.669795",
     "status": "completed"
    },
    "tags": []
   },
   "source": [
    "#### スクリプト7-25: 推論処理の実行"
   ]
  },
  {
   "cell_type": "code",
   "execution_count": 46,
   "id": "32d355ba",
   "metadata": {
    "execution": {
     "iopub.execute_input": "2022-05-01T11:26:58.006293Z",
     "iopub.status.busy": "2022-05-01T11:26:58.005385Z",
     "iopub.status.idle": "2022-05-01T11:27:00.495280Z",
     "shell.execute_reply": "2022-05-01T11:27:00.494465Z"
    },
    "papermill": {
     "duration": 2.605278,
     "end_time": "2022-05-01T11:27:00.497844",
     "exception": false,
     "start_time": "2022-05-01T11:26:57.892566",
     "status": "completed"
    },
    "tags": []
   },
   "outputs": [
    {
     "name": "stdout",
     "output_type": "stream",
     "text": [
      "-------------------- 0 --------------------\n",
      "-------------------- 1 --------------------\n",
      "-------------------- 2 --------------------\n",
      "-------------------- 3 --------------------\n",
      "-------------------- 4 --------------------\n",
      "Done.\n"
     ]
    }
   ],
   "source": [
    "test_pred = predict_lgb(x_test,\n",
    "                        id_test,\n",
    "                        list_nfold=[0,1,2,3,4],\n",
    "                       )"
   ]
  },
  {
   "cell_type": "markdown",
   "id": "20bd4751",
   "metadata": {
    "papermill": {
     "duration": 0.114706,
     "end_time": "2022-05-01T11:27:00.725305",
     "exception": false,
     "start_time": "2022-05-01T11:27:00.610599",
     "status": "completed"
    },
    "tags": []
   },
   "source": [
    "#### スクリプト7-26: 提出ファイルの作成"
   ]
  },
  {
   "cell_type": "code",
   "execution_count": 47,
   "id": "be5c9660",
   "metadata": {
    "execution": {
     "iopub.execute_input": "2022-05-01T11:27:00.950870Z",
     "iopub.status.busy": "2022-05-01T11:27:00.950319Z",
     "iopub.status.idle": "2022-05-01T11:27:01.143874Z",
     "shell.execute_reply": "2022-05-01T11:27:01.142874Z"
    },
    "papermill": {
     "duration": 0.312005,
     "end_time": "2022-05-01T11:27:01.146631",
     "exception": false,
     "start_time": "2022-05-01T11:27:00.834626",
     "status": "completed"
    },
    "tags": []
   },
   "outputs": [
    {
     "name": "stdout",
     "output_type": "stream",
     "text": [
      "(48744, 2)\n"
     ]
    },
    {
     "data": {
      "text/html": [
       "<div>\n",
       "<style scoped>\n",
       "    .dataframe tbody tr th:only-of-type {\n",
       "        vertical-align: middle;\n",
       "    }\n",
       "\n",
       "    .dataframe tbody tr th {\n",
       "        vertical-align: top;\n",
       "    }\n",
       "\n",
       "    .dataframe thead th {\n",
       "        text-align: right;\n",
       "    }\n",
       "</style>\n",
       "<table border=\"1\" class=\"dataframe\">\n",
       "  <thead>\n",
       "    <tr style=\"text-align: right;\">\n",
       "      <th></th>\n",
       "      <th>SK_ID_CURR</th>\n",
       "      <th>TARGET</th>\n",
       "    </tr>\n",
       "  </thead>\n",
       "  <tbody>\n",
       "    <tr>\n",
       "      <th>0</th>\n",
       "      <td>100001</td>\n",
       "      <td>0.041810</td>\n",
       "    </tr>\n",
       "    <tr>\n",
       "      <th>1</th>\n",
       "      <td>100005</td>\n",
       "      <td>0.126400</td>\n",
       "    </tr>\n",
       "    <tr>\n",
       "      <th>2</th>\n",
       "      <td>100013</td>\n",
       "      <td>0.022495</td>\n",
       "    </tr>\n",
       "    <tr>\n",
       "      <th>3</th>\n",
       "      <td>100028</td>\n",
       "      <td>0.039680</td>\n",
       "    </tr>\n",
       "    <tr>\n",
       "      <th>4</th>\n",
       "      <td>100038</td>\n",
       "      <td>0.156628</td>\n",
       "    </tr>\n",
       "  </tbody>\n",
       "</table>\n",
       "</div>"
      ],
      "text/plain": [
       "   SK_ID_CURR    TARGET\n",
       "0      100001  0.041810\n",
       "1      100005  0.126400\n",
       "2      100013  0.022495\n",
       "3      100028  0.039680\n",
       "4      100038  0.156628"
      ]
     },
     "metadata": {},
     "output_type": "display_data"
    }
   ],
   "source": [
    "df_submit = test_pred.rename(columns={\"pred\":\"TARGET\"})\n",
    "print(df_submit.shape)\n",
    "display(df_submit.head())\n",
    "\n",
    "# ファイル出力\n",
    "df_submit.to_csv(\"../submit/notebooks/submission_baseline.csv\", index=None)"
   ]
  },
  {
   "cell_type": "markdown",
   "id": "67f297a5",
   "metadata": {
    "papermill": {
     "duration": 0.110437,
     "end_time": "2022-05-01T11:27:01.386007",
     "exception": false,
     "start_time": "2022-05-01T11:27:01.275570",
     "status": "completed"
    },
    "tags": []
   },
   "source": [
    "# 7.4 特徴量エンジニアリング\n",
    "## 7.4.1 特徴量エンジニアリング: application_train.csv"
   ]
  },
  {
   "cell_type": "markdown",
   "id": "8e15e09f",
   "metadata": {
    "papermill": {
     "duration": 0.11214,
     "end_time": "2022-05-01T11:27:01.608941",
     "exception": false,
     "start_time": "2022-05-01T11:27:01.496801",
     "status": "completed"
    },
    "tags": []
   },
   "source": [
    "#### スクリプト7-27: データの確認"
   ]
  },
  {
   "cell_type": "code",
   "execution_count": 48,
   "id": "ae167847",
   "metadata": {
    "execution": {
     "iopub.execute_input": "2022-05-01T11:27:01.831095Z",
     "iopub.status.busy": "2022-05-01T11:27:01.830555Z",
     "iopub.status.idle": "2022-05-01T11:27:01.845079Z",
     "shell.execute_reply": "2022-05-01T11:27:01.844203Z"
    },
    "papermill": {
     "duration": 0.12863,
     "end_time": "2022-05-01T11:27:01.846983",
     "exception": false,
     "start_time": "2022-05-01T11:27:01.718353",
     "status": "completed"
    },
    "tags": []
   },
   "outputs": [
    {
     "data": {
      "text/plain": [
       " 365243    55374\n",
       "-200         156\n",
       "-224         152\n",
       "-230         151\n",
       "-199         151\n",
       "           ...  \n",
       "-13961         1\n",
       "-11827         1\n",
       "-10176         1\n",
       "-9459          1\n",
       "-8694          1\n",
       "Name: DAYS_EMPLOYED, Length: 12574, dtype: int64"
      ]
     },
     "metadata": {},
     "output_type": "display_data"
    },
    {
     "name": "stdout",
     "output_type": "stream",
     "text": [
      "正の値の割合: 0.1801\n",
      "正の値の個数: 55374\n"
     ]
    }
   ],
   "source": [
    "display(application_train[\"DAYS_EMPLOYED\"].value_counts())\n",
    "print(\"正の値の割合: {:.4f}\".format((application_train[\"DAYS_EMPLOYED\"]>0).mean()))\n",
    "print(\"正の値の個数: {}\".format((application_train[\"DAYS_EMPLOYED\"]>0).sum()))\n",
    "# -> 正の値が18%。しかもすべて8割が365243と同一値。働き始めてからの日数をマイナス表記しているためこれは欠損と判断。"
   ]
  },
  {
   "cell_type": "markdown",
   "id": "ff104639",
   "metadata": {
    "papermill": {
     "duration": 0.111319,
     "end_time": "2022-05-01T11:27:02.072922",
     "exception": false,
     "start_time": "2022-05-01T11:27:01.961603",
     "status": "completed"
    },
    "tags": []
   },
   "source": [
    "#### スクリプト7-28: 欠損値の対処（nullに変換）"
   ]
  },
  {
   "cell_type": "code",
   "execution_count": 49,
   "id": "cd74165a",
   "metadata": {
    "execution": {
     "iopub.execute_input": "2022-05-01T11:27:02.318512Z",
     "iopub.status.busy": "2022-05-01T11:27:02.318212Z",
     "iopub.status.idle": "2022-05-01T11:27:02.326796Z",
     "shell.execute_reply": "2022-05-01T11:27:02.325940Z"
    },
    "papermill": {
     "duration": 0.141363,
     "end_time": "2022-05-01T11:27:02.329070",
     "exception": false,
     "start_time": "2022-05-01T11:27:02.187707",
     "status": "completed"
    },
    "tags": []
   },
   "outputs": [],
   "source": [
    "application_train[\"DAYS_EMPLOYED\"] = application_train[\"DAYS_EMPLOYED\"].replace(365243, np.nan)"
   ]
  },
  {
   "cell_type": "markdown",
   "id": "73fcde5b",
   "metadata": {
    "papermill": {
     "duration": 0.118062,
     "end_time": "2022-05-01T11:27:02.563285",
     "exception": false,
     "start_time": "2022-05-01T11:27:02.445223",
     "status": "completed"
    },
    "tags": []
   },
   "source": [
    "#### スクリプト7-29: 仮説に基づく特徴量生成"
   ]
  },
  {
   "cell_type": "code",
   "execution_count": 50,
   "id": "7c9c5d0c",
   "metadata": {
    "execution": {
     "iopub.execute_input": "2022-05-01T11:27:02.790802Z",
     "iopub.status.busy": "2022-05-01T11:27:02.790532Z",
     "iopub.status.idle": "2022-05-01T11:27:03.084152Z",
     "shell.execute_reply": "2022-05-01T11:27:03.083461Z"
    },
    "papermill": {
     "duration": 0.40869,
     "end_time": "2022-05-01T11:27:03.086406",
     "exception": false,
     "start_time": "2022-05-01T11:27:02.677716",
     "status": "completed"
    },
    "tags": []
   },
   "outputs": [],
   "source": [
    "# 特徴量1: 総所得金額を世帯人数で割った値\n",
    "application_train['INCOME_div_PERSON'] = application_train['AMT_INCOME_TOTAL'] / application_train['CNT_FAM_MEMBERS']\n",
    "\n",
    "# 特徴量2: 総所得金額を就労期間で割った値\n",
    "application_train['INCOME_div_EMPLOYED'] = application_train['AMT_INCOME_TOTAL'] / application_train['DAYS_EMPLOYED']\n",
    "\n",
    "# 特徴量3: 外部スコアの平均値など\n",
    "application_train[\"EXT_SOURCE_mean\"] = application_train[[\"EXT_SOURCE_1\", \"EXT_SOURCE_2\", \"EXT_SOURCE_3\"]].mean(axis=1)\n",
    "application_train[\"EXT_SOURCE_max\"] = application_train[[\"EXT_SOURCE_1\", \"EXT_SOURCE_2\", \"EXT_SOURCE_3\"]].max(axis=1)\n",
    "application_train[\"EXT_SOURCE_min\"] = application_train[[\"EXT_SOURCE_1\", \"EXT_SOURCE_2\", \"EXT_SOURCE_3\"]].min(axis=1)\n",
    "application_train[\"EXT_SOURCE_std\"] = application_train[[\"EXT_SOURCE_1\", \"EXT_SOURCE_2\", \"EXT_SOURCE_3\"]].std(axis=1)\n",
    "application_train[\"EXT_SOURCE_count\"] = application_train[[\"EXT_SOURCE_1\", \"EXT_SOURCE_2\", \"EXT_SOURCE_3\"]].notnull().sum(axis=1)\n",
    "\n",
    "# 特徴量4: 就労期間を年齢で割った値 (年齢に占める就労期間の割合)\n",
    "application_train['DAYS_EMPLOYED_div_BIRTH'] = application_train['DAYS_EMPLOYED'] / application_train['DAYS_BIRTH']\n",
    "\n",
    "# 特徴量5: 年金支払額を所得金額で割った値\n",
    "application_train['ANNUITY_div_INCOME'] = application_train['AMT_ANNUITY'] / application_train['AMT_INCOME_TOTAL']\n",
    "\n",
    "# 特徴量6: 年金支払額を借入金で割った値\n",
    "application_train['ANNUITY_div_CREDIT'] = application_train['AMT_ANNUITY'] / application_train['AMT_CREDIT']"
   ]
  },
  {
   "cell_type": "markdown",
   "id": "7d579406",
   "metadata": {
    "papermill": {
     "duration": 0.113109,
     "end_time": "2022-05-01T11:27:03.312463",
     "exception": false,
     "start_time": "2022-05-01T11:27:03.199354",
     "status": "completed"
    },
    "tags": []
   },
   "source": [
    "#### スクリプト7-30: データセットの作成"
   ]
  },
  {
   "cell_type": "code",
   "execution_count": 51,
   "id": "e5b54809",
   "metadata": {
    "execution": {
     "iopub.execute_input": "2022-05-01T11:27:03.567180Z",
     "iopub.status.busy": "2022-05-01T11:27:03.566525Z",
     "iopub.status.idle": "2022-05-01T11:27:04.398322Z",
     "shell.execute_reply": "2022-05-01T11:27:04.397422Z"
    },
    "papermill": {
     "duration": 0.974711,
     "end_time": "2022-05-01T11:27:04.400895",
     "exception": false,
     "start_time": "2022-05-01T11:27:03.426184",
     "status": "completed"
    },
    "tags": []
   },
   "outputs": [],
   "source": [
    "x_train = application_train.drop(columns=[\"TARGET\", \"SK_ID_CURR\"])\n",
    "y_train = application_train[\"TARGET\"]\n",
    "id_train = application_train[[\"SK_ID_CURR\"]]\n",
    "\n",
    "for col in x_train.columns:\n",
    "    if x_train[col].dtype==\"O\":\n",
    "        x_train[col] = x_train[col].astype(\"category\")"
   ]
  },
  {
   "cell_type": "markdown",
   "id": "fde9b08f",
   "metadata": {
    "papermill": {
     "duration": 0.112528,
     "end_time": "2022-05-01T11:27:04.625194",
     "exception": false,
     "start_time": "2022-05-01T11:27:04.512666",
     "status": "completed"
    },
    "tags": []
   },
   "source": [
    "#### スクリプト7-31: モデル学習"
   ]
  },
  {
   "cell_type": "code",
   "execution_count": 52,
   "id": "df10780b",
   "metadata": {
    "execution": {
     "iopub.execute_input": "2022-05-01T11:27:04.852576Z",
     "iopub.status.busy": "2022-05-01T11:27:04.851974Z",
     "iopub.status.idle": "2022-05-01T11:30:38.836750Z",
     "shell.execute_reply": "2022-05-01T11:30:38.835665Z"
    },
    "papermill": {
     "duration": 214.102345,
     "end_time": "2022-05-01T11:30:38.839021",
     "exception": false,
     "start_time": "2022-05-01T11:27:04.736676",
     "status": "completed"
    },
    "tags": []
   },
   "outputs": [
    {
     "name": "stdout",
     "output_type": "stream",
     "text": [
      "-------------------- 0 --------------------\n",
      "(246008, 130) (61503, 130)\n",
      "Training until validation scores don't improve for 100 rounds\n",
      "[100]\ttraining's auc: 0.787668\tvalid_1's auc: 0.760522\n",
      "[200]\ttraining's auc: 0.816663\tvalid_1's auc: 0.764903\n",
      "Early stopping, best iteration is:\n",
      "[199]\ttraining's auc: 0.816433\tvalid_1's auc: 0.764953\n",
      "[auc] tr:0.8164, va:0.7650\n",
      "-------------------- 1 --------------------\n",
      "(246009, 130) (61502, 130)\n",
      "Training until validation scores don't improve for 100 rounds\n",
      "[100]\ttraining's auc: 0.787992\tvalid_1's auc: 0.762948\n",
      "[200]\ttraining's auc: 0.817175\tvalid_1's auc: 0.767282\n",
      "[300]\ttraining's auc: 0.838754\tvalid_1's auc: 0.767874\n",
      "[400]\ttraining's auc: 0.856266\tvalid_1's auc: 0.76818\n",
      "[500]\ttraining's auc: 0.871141\tvalid_1's auc: 0.767794\n",
      "Early stopping, best iteration is:\n",
      "[401]\ttraining's auc: 0.856446\tvalid_1's auc: 0.76821\n",
      "[auc] tr:0.8564, va:0.7682\n",
      "-------------------- 2 --------------------\n",
      "(246009, 130) (61502, 130)\n",
      "Training until validation scores don't improve for 100 rounds\n",
      "[100]\ttraining's auc: 0.787824\tvalid_1's auc: 0.763747\n",
      "[200]\ttraining's auc: 0.817089\tvalid_1's auc: 0.76663\n",
      "[300]\ttraining's auc: 0.838896\tvalid_1's auc: 0.766827\n",
      "Early stopping, best iteration is:\n",
      "[268]\ttraining's auc: 0.832635\tvalid_1's auc: 0.766941\n",
      "[auc] tr:0.8326, va:0.7669\n",
      "-------------------- 3 --------------------\n",
      "(246009, 130) (61502, 130)\n",
      "Training until validation scores don't improve for 100 rounds\n",
      "[100]\ttraining's auc: 0.788183\tvalid_1's auc: 0.761565\n",
      "[200]\ttraining's auc: 0.817164\tvalid_1's auc: 0.764715\n",
      "[300]\ttraining's auc: 0.839524\tvalid_1's auc: 0.764953\n",
      "[400]\ttraining's auc: 0.856689\tvalid_1's auc: 0.765915\n",
      "[500]\ttraining's auc: 0.871817\tvalid_1's auc: 0.765315\n",
      "Early stopping, best iteration is:\n",
      "[411]\ttraining's auc: 0.85873\tvalid_1's auc: 0.766002\n",
      "[auc] tr:0.8587, va:0.7660\n",
      "-------------------- 4 --------------------\n",
      "(246009, 130) (61502, 130)\n",
      "Training until validation scores don't improve for 100 rounds\n",
      "[100]\ttraining's auc: 0.788965\tvalid_1's auc: 0.755417\n",
      "[200]\ttraining's auc: 0.817882\tvalid_1's auc: 0.759401\n",
      "[300]\ttraining's auc: 0.839205\tvalid_1's auc: 0.759635\n",
      "[400]\ttraining's auc: 0.856327\tvalid_1's auc: 0.760345\n",
      "[500]\ttraining's auc: 0.871409\tvalid_1's auc: 0.760281\n",
      "Early stopping, best iteration is:\n",
      "[465]\ttraining's auc: 0.866213\tvalid_1's auc: 0.760432\n",
      "[auc] tr:0.8662, va:0.7604\n",
      "-------------------- result --------------------\n",
      "[[0.         0.81643326 0.76495312]\n",
      " [1.         0.85644575 0.76820957]\n",
      " [2.         0.83263539 0.76694092]\n",
      " [3.         0.8587299  0.76600192]\n",
      " [4.         0.86621296 0.76043236]]\n",
      "[cv] tr:0.8461+-0.0186, va:0.7653+-0.0027\n",
      "[oof] 0.7653\n"
     ]
    }
   ],
   "source": [
    "train_oof, imp, metrics = train_lgb(x_train,\n",
    "                                    y_train,\n",
    "                                    id_train,\n",
    "                                    params,\n",
    "                                    list_nfold=[0,1,2,3,4],\n",
    "                                    n_splits=5,\n",
    "                                   )"
   ]
  },
  {
   "cell_type": "markdown",
   "id": "d8cfef08",
   "metadata": {
    "papermill": {
     "duration": 0.128405,
     "end_time": "2022-05-01T11:30:39.094426",
     "exception": false,
     "start_time": "2022-05-01T11:30:38.966021",
     "status": "completed"
    },
    "tags": []
   },
   "source": [
    "#### スクリプト7-32: 説明変数の重要度の確認"
   ]
  },
  {
   "cell_type": "code",
   "execution_count": 53,
   "id": "49ca05d2",
   "metadata": {
    "execution": {
     "iopub.execute_input": "2022-05-01T11:30:39.344047Z",
     "iopub.status.busy": "2022-05-01T11:30:39.343740Z",
     "iopub.status.idle": "2022-05-01T11:30:39.357450Z",
     "shell.execute_reply": "2022-05-01T11:30:39.356643Z"
    },
    "papermill": {
     "duration": 0.141231,
     "end_time": "2022-05-01T11:30:39.359513",
     "exception": false,
     "start_time": "2022-05-01T11:30:39.218282",
     "status": "completed"
    },
    "tags": []
   },
   "outputs": [
    {
     "data": {
      "text/html": [
       "<div>\n",
       "<style scoped>\n",
       "    .dataframe tbody tr th:only-of-type {\n",
       "        vertical-align: middle;\n",
       "    }\n",
       "\n",
       "    .dataframe tbody tr th {\n",
       "        vertical-align: top;\n",
       "    }\n",
       "\n",
       "    .dataframe thead th {\n",
       "        text-align: right;\n",
       "    }\n",
       "</style>\n",
       "<table border=\"1\" class=\"dataframe\">\n",
       "  <thead>\n",
       "    <tr style=\"text-align: right;\">\n",
       "      <th></th>\n",
       "      <th>col</th>\n",
       "      <th>imp</th>\n",
       "      <th>imp_std</th>\n",
       "    </tr>\n",
       "  </thead>\n",
       "  <tbody>\n",
       "    <tr>\n",
       "      <th>44</th>\n",
       "      <td>EXT_SOURCE_mean</td>\n",
       "      <td>113357.410376</td>\n",
       "      <td>1818.497597</td>\n",
       "    </tr>\n",
       "    <tr>\n",
       "      <th>10</th>\n",
       "      <td>ANNUITY_div_CREDIT</td>\n",
       "      <td>23009.760870</td>\n",
       "      <td>1262.803683</td>\n",
       "    </tr>\n",
       "    <tr>\n",
       "      <th>112</th>\n",
       "      <td>ORGANIZATION_TYPE</td>\n",
       "      <td>21049.869444</td>\n",
       "      <td>2607.626225</td>\n",
       "    </tr>\n",
       "    <tr>\n",
       "      <th>41</th>\n",
       "      <td>EXT_SOURCE_3</td>\n",
       "      <td>11125.102983</td>\n",
       "      <td>1519.486904</td>\n",
       "    </tr>\n",
       "    <tr>\n",
       "      <th>24</th>\n",
       "      <td>DAYS_BIRTH</td>\n",
       "      <td>7440.306312</td>\n",
       "      <td>1062.141927</td>\n",
       "    </tr>\n",
       "    <tr>\n",
       "      <th>45</th>\n",
       "      <td>EXT_SOURCE_min</td>\n",
       "      <td>7153.097732</td>\n",
       "      <td>591.580969</td>\n",
       "    </tr>\n",
       "    <tr>\n",
       "      <th>39</th>\n",
       "      <td>EXT_SOURCE_1</td>\n",
       "      <td>6662.390595</td>\n",
       "      <td>1201.178176</td>\n",
       "    </tr>\n",
       "    <tr>\n",
       "      <th>0</th>\n",
       "      <td>AMT_ANNUITY</td>\n",
       "      <td>5721.869464</td>\n",
       "      <td>968.783761</td>\n",
       "    </tr>\n",
       "    <tr>\n",
       "      <th>2</th>\n",
       "      <td>AMT_GOODS_PRICE</td>\n",
       "      <td>5720.871402</td>\n",
       "      <td>450.625170</td>\n",
       "    </tr>\n",
       "    <tr>\n",
       "      <th>27</th>\n",
       "      <td>DAYS_ID_PUBLISH</td>\n",
       "      <td>5071.785660</td>\n",
       "      <td>1268.443378</td>\n",
       "    </tr>\n",
       "  </tbody>\n",
       "</table>\n",
       "</div>"
      ],
      "text/plain": [
       "                    col            imp      imp_std\n",
       "44      EXT_SOURCE_mean  113357.410376  1818.497597\n",
       "10   ANNUITY_div_CREDIT   23009.760870  1262.803683\n",
       "112   ORGANIZATION_TYPE   21049.869444  2607.626225\n",
       "41         EXT_SOURCE_3   11125.102983  1519.486904\n",
       "24           DAYS_BIRTH    7440.306312  1062.141927\n",
       "45       EXT_SOURCE_min    7153.097732   591.580969\n",
       "39         EXT_SOURCE_1    6662.390595  1201.178176\n",
       "0           AMT_ANNUITY    5721.869464   968.783761\n",
       "2       AMT_GOODS_PRICE    5720.871402   450.625170\n",
       "27      DAYS_ID_PUBLISH    5071.785660  1268.443378"
      ]
     },
     "execution_count": 53,
     "metadata": {},
     "output_type": "execute_result"
    }
   ],
   "source": [
    "imp.sort_values(\"imp\", ascending=False)[:10]"
   ]
  },
  {
   "cell_type": "markdown",
   "id": "261482c1",
   "metadata": {
    "papermill": {
     "duration": 0.123778,
     "end_time": "2022-05-01T11:30:39.606842",
     "exception": false,
     "start_time": "2022-05-01T11:30:39.483064",
     "status": "completed"
    },
    "tags": []
   },
   "source": [
    "#### スクリプト7-33: 推論用データのデータセット作成"
   ]
  },
  {
   "cell_type": "code",
   "execution_count": 54,
   "id": "817e8c75",
   "metadata": {
    "execution": {
     "iopub.execute_input": "2022-05-01T11:30:39.859599Z",
     "iopub.status.busy": "2022-05-01T11:30:39.858712Z",
     "iopub.status.idle": "2022-05-01T11:30:40.077800Z",
     "shell.execute_reply": "2022-05-01T11:30:40.076679Z"
    },
    "papermill": {
     "duration": 0.349718,
     "end_time": "2022-05-01T11:30:40.080266",
     "exception": false,
     "start_time": "2022-05-01T11:30:39.730548",
     "status": "completed"
    },
    "tags": []
   },
   "outputs": [],
   "source": [
    "# nullに置き換え\n",
    "application_test[\"DAYS_EMPLOYED\"] = application_test[\"DAYS_EMPLOYED\"].replace(365243, np.nan)\n",
    "\n",
    "# 特徴量の生成\n",
    "application_test['INCOME_div_PERSON'] = application_test['AMT_INCOME_TOTAL'] / application_test['CNT_FAM_MEMBERS']\n",
    "application_test['INCOME_div_EMPLOYED'] = application_test['AMT_INCOME_TOTAL'] / application_test['DAYS_EMPLOYED']\n",
    "application_test[\"EXT_SOURCE_mean\"] = application_test[[\"EXT_SOURCE_1\", \"EXT_SOURCE_2\", \"EXT_SOURCE_3\"]].mean(axis=1)\n",
    "application_test[\"EXT_SOURCE_max\"] = application_test[[\"EXT_SOURCE_1\", \"EXT_SOURCE_2\", \"EXT_SOURCE_3\"]].max(axis=1)\n",
    "application_test[\"EXT_SOURCE_min\"] = application_test[[\"EXT_SOURCE_1\", \"EXT_SOURCE_2\", \"EXT_SOURCE_3\"]].min(axis=1)\n",
    "application_test[\"EXT_SOURCE_std\"] = application_test[[\"EXT_SOURCE_1\", \"EXT_SOURCE_2\", \"EXT_SOURCE_3\"]].std(axis=1)\n",
    "application_test[\"EXT_SOURCE_count\"] = application_test[[\"EXT_SOURCE_1\", \"EXT_SOURCE_2\", \"EXT_SOURCE_3\"]].notnull().sum(axis=1)\n",
    "application_test['DAYS_EMPLOYED_div_BIRTH'] = application_test['DAYS_EMPLOYED'] / application_test['DAYS_BIRTH']\n",
    "application_test['ANNUITY_div_INCOME'] = application_test['AMT_ANNUITY'] / application_test['AMT_INCOME_TOTAL']\n",
    "application_test['ANNUITY_div_CREDIT'] = application_test['AMT_ANNUITY'] / application_test['AMT_CREDIT']\n",
    "\n",
    "# データセット作成\n",
    "x_test = application_test.drop(columns=[\"SK_ID_CURR\"])\n",
    "id_test = application_test[[\"SK_ID_CURR\"]]\n",
    "\n",
    "# カテゴリ変数をcategory型へ変換\n",
    "for col in x_test.columns:\n",
    "    if x_test[col].dtype==\"O\":\n",
    "        x_test[col] = x_test[col].astype(\"category\")\n"
   ]
  },
  {
   "cell_type": "markdown",
   "id": "853a4f05",
   "metadata": {
    "papermill": {
     "duration": 0.124269,
     "end_time": "2022-05-01T11:30:40.328528",
     "exception": false,
     "start_time": "2022-05-01T11:30:40.204259",
     "status": "completed"
    },
    "tags": []
   },
   "source": [
    "#### スクリプト7-34: 推論処理"
   ]
  },
  {
   "cell_type": "code",
   "execution_count": 55,
   "id": "102332ab",
   "metadata": {
    "execution": {
     "iopub.execute_input": "2022-05-01T11:30:40.580028Z",
     "iopub.status.busy": "2022-05-01T11:30:40.579147Z",
     "iopub.status.idle": "2022-05-01T11:30:44.046619Z",
     "shell.execute_reply": "2022-05-01T11:30:44.045960Z"
    },
    "papermill": {
     "duration": 3.595883,
     "end_time": "2022-05-01T11:30:44.049446",
     "exception": false,
     "start_time": "2022-05-01T11:30:40.453563",
     "status": "completed"
    },
    "tags": []
   },
   "outputs": [
    {
     "name": "stdout",
     "output_type": "stream",
     "text": [
      "-------------------- 0 --------------------\n",
      "-------------------- 1 --------------------\n",
      "-------------------- 2 --------------------\n",
      "-------------------- 3 --------------------\n",
      "-------------------- 4 --------------------\n",
      "Done.\n"
     ]
    }
   ],
   "source": [
    "test_pred = predict_lgb(x_test,\n",
    "                        id_test,\n",
    "                        list_nfold=[0,1,2,3,4],\n",
    "                       )"
   ]
  },
  {
   "cell_type": "markdown",
   "id": "623da284",
   "metadata": {
    "papermill": {
     "duration": 0.130423,
     "end_time": "2022-05-01T11:30:44.310421",
     "exception": false,
     "start_time": "2022-05-01T11:30:44.179998",
     "status": "completed"
    },
    "tags": []
   },
   "source": [
    "#### スクリプト7-35: 提出ファイルの作成"
   ]
  },
  {
   "cell_type": "code",
   "execution_count": 56,
   "id": "25156647",
   "metadata": {
    "execution": {
     "iopub.execute_input": "2022-05-01T11:30:44.567050Z",
     "iopub.status.busy": "2022-05-01T11:30:44.566671Z",
     "iopub.status.idle": "2022-05-01T11:30:44.748300Z",
     "shell.execute_reply": "2022-05-01T11:30:44.747415Z"
    },
    "papermill": {
     "duration": 0.312808,
     "end_time": "2022-05-01T11:30:44.750753",
     "exception": false,
     "start_time": "2022-05-01T11:30:44.437945",
     "status": "completed"
    },
    "tags": []
   },
   "outputs": [
    {
     "name": "stdout",
     "output_type": "stream",
     "text": [
      "(48744, 2)\n"
     ]
    },
    {
     "data": {
      "text/html": [
       "<div>\n",
       "<style scoped>\n",
       "    .dataframe tbody tr th:only-of-type {\n",
       "        vertical-align: middle;\n",
       "    }\n",
       "\n",
       "    .dataframe tbody tr th {\n",
       "        vertical-align: top;\n",
       "    }\n",
       "\n",
       "    .dataframe thead th {\n",
       "        text-align: right;\n",
       "    }\n",
       "</style>\n",
       "<table border=\"1\" class=\"dataframe\">\n",
       "  <thead>\n",
       "    <tr style=\"text-align: right;\">\n",
       "      <th></th>\n",
       "      <th>SK_ID_CURR</th>\n",
       "      <th>TARGET</th>\n",
       "    </tr>\n",
       "  </thead>\n",
       "  <tbody>\n",
       "    <tr>\n",
       "      <th>0</th>\n",
       "      <td>100001</td>\n",
       "      <td>0.027909</td>\n",
       "    </tr>\n",
       "    <tr>\n",
       "      <th>1</th>\n",
       "      <td>100005</td>\n",
       "      <td>0.107449</td>\n",
       "    </tr>\n",
       "    <tr>\n",
       "      <th>2</th>\n",
       "      <td>100013</td>\n",
       "      <td>0.019986</td>\n",
       "    </tr>\n",
       "    <tr>\n",
       "      <th>3</th>\n",
       "      <td>100028</td>\n",
       "      <td>0.043011</td>\n",
       "    </tr>\n",
       "    <tr>\n",
       "      <th>4</th>\n",
       "      <td>100038</td>\n",
       "      <td>0.174850</td>\n",
       "    </tr>\n",
       "  </tbody>\n",
       "</table>\n",
       "</div>"
      ],
      "text/plain": [
       "   SK_ID_CURR    TARGET\n",
       "0      100001  0.027909\n",
       "1      100005  0.107449\n",
       "2      100013  0.019986\n",
       "3      100028  0.043011\n",
       "4      100038  0.174850"
      ]
     },
     "metadata": {},
     "output_type": "display_data"
    }
   ],
   "source": [
    "df_submit = test_pred.rename(columns={\"pred\":\"TARGET\"})\n",
    "print(df_submit.shape)\n",
    "display(df_submit.head())\n",
    "df_submit.to_csv(\"../submit/notebooks/submission_FeatureEngineering1.csv\", index=None)"
   ]
  },
  {
   "cell_type": "markdown",
   "id": "7d8e08e4",
   "metadata": {
    "papermill": {
     "duration": 0.126555,
     "end_time": "2022-05-01T11:30:45.007990",
     "exception": false,
     "start_time": "2022-05-01T11:30:44.881435",
     "status": "completed"
    },
    "tags": []
   },
   "source": [
    "## 7.4.2 特徴量エンジニアリング: POS_CASH_balance.csv"
   ]
  },
  {
   "cell_type": "markdown",
   "id": "acde56b1",
   "metadata": {
    "papermill": {
     "duration": 0.126491,
     "end_time": "2022-05-01T11:30:45.264294",
     "exception": false,
     "start_time": "2022-05-01T11:30:45.137803",
     "status": "completed"
    },
    "tags": []
   },
   "source": [
    "#### スクリプト7-36: ファイル読み込み"
   ]
  },
  {
   "cell_type": "code",
   "execution_count": 57,
   "id": "a40fec6e",
   "metadata": {
    "execution": {
     "iopub.execute_input": "2022-05-01T11:30:45.521101Z",
     "iopub.status.busy": "2022-05-01T11:30:45.520566Z",
     "iopub.status.idle": "2022-05-01T11:30:58.754600Z",
     "shell.execute_reply": "2022-05-01T11:30:58.752353Z"
    },
    "papermill": {
     "duration": 13.364502,
     "end_time": "2022-05-01T11:30:58.756605",
     "exception": false,
     "start_time": "2022-05-01T11:30:45.392103",
     "status": "completed"
    },
    "tags": []
   },
   "outputs": [
    {
     "name": "stdout",
     "output_type": "stream",
     "text": [
      "Memory usage of dataframe is 610.43 MB\n",
      "Memory usage after optimization is: 238.45 MB\n",
      "Decreased by 60.9%\n",
      "(10001358, 8)\n"
     ]
    },
    {
     "data": {
      "text/html": [
       "<div>\n",
       "<style scoped>\n",
       "    .dataframe tbody tr th:only-of-type {\n",
       "        vertical-align: middle;\n",
       "    }\n",
       "\n",
       "    .dataframe tbody tr th {\n",
       "        vertical-align: top;\n",
       "    }\n",
       "\n",
       "    .dataframe thead th {\n",
       "        text-align: right;\n",
       "    }\n",
       "</style>\n",
       "<table border=\"1\" class=\"dataframe\">\n",
       "  <thead>\n",
       "    <tr style=\"text-align: right;\">\n",
       "      <th></th>\n",
       "      <th>SK_ID_PREV</th>\n",
       "      <th>SK_ID_CURR</th>\n",
       "      <th>MONTHS_BALANCE</th>\n",
       "      <th>CNT_INSTALMENT</th>\n",
       "      <th>CNT_INSTALMENT_FUTURE</th>\n",
       "      <th>NAME_CONTRACT_STATUS</th>\n",
       "      <th>SK_DPD</th>\n",
       "      <th>SK_DPD_DEF</th>\n",
       "    </tr>\n",
       "  </thead>\n",
       "  <tbody>\n",
       "    <tr>\n",
       "      <th>0</th>\n",
       "      <td>1803195</td>\n",
       "      <td>182943</td>\n",
       "      <td>-31</td>\n",
       "      <td>48.0</td>\n",
       "      <td>45.0</td>\n",
       "      <td>Active</td>\n",
       "      <td>0</td>\n",
       "      <td>0</td>\n",
       "    </tr>\n",
       "    <tr>\n",
       "      <th>1</th>\n",
       "      <td>1715348</td>\n",
       "      <td>367990</td>\n",
       "      <td>-33</td>\n",
       "      <td>36.0</td>\n",
       "      <td>35.0</td>\n",
       "      <td>Active</td>\n",
       "      <td>0</td>\n",
       "      <td>0</td>\n",
       "    </tr>\n",
       "    <tr>\n",
       "      <th>2</th>\n",
       "      <td>1784872</td>\n",
       "      <td>397406</td>\n",
       "      <td>-32</td>\n",
       "      <td>12.0</td>\n",
       "      <td>9.0</td>\n",
       "      <td>Active</td>\n",
       "      <td>0</td>\n",
       "      <td>0</td>\n",
       "    </tr>\n",
       "    <tr>\n",
       "      <th>3</th>\n",
       "      <td>1903291</td>\n",
       "      <td>269225</td>\n",
       "      <td>-35</td>\n",
       "      <td>48.0</td>\n",
       "      <td>42.0</td>\n",
       "      <td>Active</td>\n",
       "      <td>0</td>\n",
       "      <td>0</td>\n",
       "    </tr>\n",
       "    <tr>\n",
       "      <th>4</th>\n",
       "      <td>2341044</td>\n",
       "      <td>334279</td>\n",
       "      <td>-35</td>\n",
       "      <td>36.0</td>\n",
       "      <td>35.0</td>\n",
       "      <td>Active</td>\n",
       "      <td>0</td>\n",
       "      <td>0</td>\n",
       "    </tr>\n",
       "  </tbody>\n",
       "</table>\n",
       "</div>"
      ],
      "text/plain": [
       "   SK_ID_PREV  SK_ID_CURR  MONTHS_BALANCE  CNT_INSTALMENT  \\\n",
       "0     1803195      182943             -31            48.0   \n",
       "1     1715348      367990             -33            36.0   \n",
       "2     1784872      397406             -32            12.0   \n",
       "3     1903291      269225             -35            48.0   \n",
       "4     2341044      334279             -35            36.0   \n",
       "\n",
       "   CNT_INSTALMENT_FUTURE NAME_CONTRACT_STATUS  SK_DPD  SK_DPD_DEF  \n",
       "0                   45.0               Active       0           0  \n",
       "1                   35.0               Active       0           0  \n",
       "2                    9.0               Active       0           0  \n",
       "3                   42.0               Active       0           0  \n",
       "4                   35.0               Active       0           0  "
      ]
     },
     "execution_count": 57,
     "metadata": {},
     "output_type": "execute_result"
    }
   ],
   "source": [
    "pos = pd.read_csv(\"../input/home-credit-default-risk/POS_CASH_balance.csv\")\n",
    "pos = reduce_mem_usage(pos)\n",
    "print(pos.shape)\n",
    "pos.head()"
   ]
  },
  {
   "cell_type": "markdown",
   "id": "767c4b36",
   "metadata": {
    "papermill": {
     "duration": 0.128707,
     "end_time": "2022-05-01T11:30:59.015356",
     "exception": false,
     "start_time": "2022-05-01T11:30:58.886649",
     "status": "completed"
    },
    "tags": []
   },
   "source": [
    "#### スクリプト7-37: ①カテゴリ変数をone-hot-encodingで数値に変換"
   ]
  },
  {
   "cell_type": "code",
   "execution_count": 58,
   "id": "d0d165c5",
   "metadata": {
    "execution": {
     "iopub.execute_input": "2022-05-01T11:30:59.273793Z",
     "iopub.status.busy": "2022-05-01T11:30:59.273179Z",
     "iopub.status.idle": "2022-05-01T11:31:01.261033Z",
     "shell.execute_reply": "2022-05-01T11:31:01.260190Z"
    },
    "papermill": {
     "duration": 2.119406,
     "end_time": "2022-05-01T11:31:01.263171",
     "exception": false,
     "start_time": "2022-05-01T11:30:59.143765",
     "status": "completed"
    },
    "tags": []
   },
   "outputs": [
    {
     "name": "stdout",
     "output_type": "stream",
     "text": [
      "10\n"
     ]
    },
    {
     "data": {
      "text/plain": [
       "['NAME_CONTRACT_STATUS_Active',\n",
       " 'NAME_CONTRACT_STATUS_Amortized debt',\n",
       " 'NAME_CONTRACT_STATUS_Approved',\n",
       " 'NAME_CONTRACT_STATUS_Canceled',\n",
       " 'NAME_CONTRACT_STATUS_Completed',\n",
       " 'NAME_CONTRACT_STATUS_Demand',\n",
       " 'NAME_CONTRACT_STATUS_Returned to the store',\n",
       " 'NAME_CONTRACT_STATUS_Signed',\n",
       " 'NAME_CONTRACT_STATUS_XNA',\n",
       " 'NAME_CONTRACT_STATUS_nan']"
      ]
     },
     "execution_count": 58,
     "metadata": {},
     "output_type": "execute_result"
    }
   ],
   "source": [
    "pos_ohe = pd.get_dummies(pos, columns=[\"NAME_CONTRACT_STATUS\"], dummy_na=True)\n",
    "col_ohe = sorted(list(set(pos_ohe.columns) - set(pos.columns)))\n",
    "print(len(col_ohe))\n",
    "col_ohe"
   ]
  },
  {
   "cell_type": "markdown",
   "id": "be76fd46",
   "metadata": {
    "papermill": {
     "duration": 0.128657,
     "end_time": "2022-05-01T11:31:01.523431",
     "exception": false,
     "start_time": "2022-05-01T11:31:01.394774",
     "status": "completed"
    },
    "tags": []
   },
   "source": [
    "#### スクリプト7-38: ②SK_ID_CURRをキーに集約処理"
   ]
  },
  {
   "cell_type": "code",
   "execution_count": 59,
   "id": "0aa4008f",
   "metadata": {
    "execution": {
     "iopub.execute_input": "2022-05-01T11:31:01.781242Z",
     "iopub.status.busy": "2022-05-01T11:31:01.780940Z",
     "iopub.status.idle": "2022-05-01T11:31:15.305533Z",
     "shell.execute_reply": "2022-05-01T11:31:15.304654Z"
    },
    "papermill": {
     "duration": 13.6563,
     "end_time": "2022-05-01T11:31:15.307656",
     "exception": false,
     "start_time": "2022-05-01T11:31:01.651356",
     "status": "completed"
    },
    "tags": []
   },
   "outputs": [
    {
     "name": "stdout",
     "output_type": "stream",
     "text": [
      "(337252, 33)\n"
     ]
    },
    {
     "data": {
      "text/html": [
       "<div>\n",
       "<style scoped>\n",
       "    .dataframe tbody tr th:only-of-type {\n",
       "        vertical-align: middle;\n",
       "    }\n",
       "\n",
       "    .dataframe tbody tr th {\n",
       "        vertical-align: top;\n",
       "    }\n",
       "\n",
       "    .dataframe thead th {\n",
       "        text-align: right;\n",
       "    }\n",
       "</style>\n",
       "<table border=\"1\" class=\"dataframe\">\n",
       "  <thead>\n",
       "    <tr style=\"text-align: right;\">\n",
       "      <th></th>\n",
       "      <th>SK_ID_CURR</th>\n",
       "      <th>MONTHS_BALANCE_mean</th>\n",
       "      <th>MONTHS_BALANCE_std</th>\n",
       "      <th>MONTHS_BALANCE_min</th>\n",
       "      <th>MONTHS_BALANCE_max</th>\n",
       "      <th>CNT_INSTALMENT_mean</th>\n",
       "      <th>CNT_INSTALMENT_std</th>\n",
       "      <th>CNT_INSTALMENT_min</th>\n",
       "      <th>CNT_INSTALMENT_max</th>\n",
       "      <th>CNT_INSTALMENT_FUTURE_mean</th>\n",
       "      <th>...</th>\n",
       "      <th>NAME_CONTRACT_STATUS_Approved_mean</th>\n",
       "      <th>NAME_CONTRACT_STATUS_Canceled_mean</th>\n",
       "      <th>NAME_CONTRACT_STATUS_Completed_mean</th>\n",
       "      <th>NAME_CONTRACT_STATUS_Demand_mean</th>\n",
       "      <th>NAME_CONTRACT_STATUS_Returned to the store_mean</th>\n",
       "      <th>NAME_CONTRACT_STATUS_Signed_mean</th>\n",
       "      <th>NAME_CONTRACT_STATUS_XNA_mean</th>\n",
       "      <th>NAME_CONTRACT_STATUS_nan_mean</th>\n",
       "      <th>SK_ID_PREV_count</th>\n",
       "      <th>SK_ID_PREV_nunique</th>\n",
       "    </tr>\n",
       "  </thead>\n",
       "  <tbody>\n",
       "    <tr>\n",
       "      <th>0</th>\n",
       "      <td>100001</td>\n",
       "      <td>-72.555556</td>\n",
       "      <td>20.863312</td>\n",
       "      <td>-96</td>\n",
       "      <td>-53</td>\n",
       "      <td>4.000000</td>\n",
       "      <td>0.000000</td>\n",
       "      <td>4.0</td>\n",
       "      <td>4.0</td>\n",
       "      <td>1.444336</td>\n",
       "      <td>...</td>\n",
       "      <td>0.0</td>\n",
       "      <td>0.0</td>\n",
       "      <td>0.222222</td>\n",
       "      <td>0.0</td>\n",
       "      <td>0.0</td>\n",
       "      <td>0.000000</td>\n",
       "      <td>0.0</td>\n",
       "      <td>0.0</td>\n",
       "      <td>9</td>\n",
       "      <td>2</td>\n",
       "    </tr>\n",
       "    <tr>\n",
       "      <th>1</th>\n",
       "      <td>100002</td>\n",
       "      <td>-10.000000</td>\n",
       "      <td>5.627314</td>\n",
       "      <td>-19</td>\n",
       "      <td>-1</td>\n",
       "      <td>24.000000</td>\n",
       "      <td>0.000000</td>\n",
       "      <td>24.0</td>\n",
       "      <td>24.0</td>\n",
       "      <td>15.000000</td>\n",
       "      <td>...</td>\n",
       "      <td>0.0</td>\n",
       "      <td>0.0</td>\n",
       "      <td>0.000000</td>\n",
       "      <td>0.0</td>\n",
       "      <td>0.0</td>\n",
       "      <td>0.000000</td>\n",
       "      <td>0.0</td>\n",
       "      <td>0.0</td>\n",
       "      <td>19</td>\n",
       "      <td>1</td>\n",
       "    </tr>\n",
       "    <tr>\n",
       "      <th>2</th>\n",
       "      <td>100003</td>\n",
       "      <td>-43.785714</td>\n",
       "      <td>24.640162</td>\n",
       "      <td>-77</td>\n",
       "      <td>-18</td>\n",
       "      <td>10.109375</td>\n",
       "      <td>2.806597</td>\n",
       "      <td>6.0</td>\n",
       "      <td>12.0</td>\n",
       "      <td>5.785156</td>\n",
       "      <td>...</td>\n",
       "      <td>0.0</td>\n",
       "      <td>0.0</td>\n",
       "      <td>0.071429</td>\n",
       "      <td>0.0</td>\n",
       "      <td>0.0</td>\n",
       "      <td>0.000000</td>\n",
       "      <td>0.0</td>\n",
       "      <td>0.0</td>\n",
       "      <td>28</td>\n",
       "      <td>3</td>\n",
       "    </tr>\n",
       "    <tr>\n",
       "      <th>3</th>\n",
       "      <td>100004</td>\n",
       "      <td>-25.500000</td>\n",
       "      <td>1.290994</td>\n",
       "      <td>-27</td>\n",
       "      <td>-24</td>\n",
       "      <td>3.750000</td>\n",
       "      <td>0.500000</td>\n",
       "      <td>3.0</td>\n",
       "      <td>4.0</td>\n",
       "      <td>2.250000</td>\n",
       "      <td>...</td>\n",
       "      <td>0.0</td>\n",
       "      <td>0.0</td>\n",
       "      <td>0.250000</td>\n",
       "      <td>0.0</td>\n",
       "      <td>0.0</td>\n",
       "      <td>0.000000</td>\n",
       "      <td>0.0</td>\n",
       "      <td>0.0</td>\n",
       "      <td>4</td>\n",
       "      <td>1</td>\n",
       "    </tr>\n",
       "    <tr>\n",
       "      <th>4</th>\n",
       "      <td>100005</td>\n",
       "      <td>-20.000000</td>\n",
       "      <td>3.316625</td>\n",
       "      <td>-25</td>\n",
       "      <td>-15</td>\n",
       "      <td>11.703125</td>\n",
       "      <td>0.948683</td>\n",
       "      <td>9.0</td>\n",
       "      <td>12.0</td>\n",
       "      <td>7.199219</td>\n",
       "      <td>...</td>\n",
       "      <td>0.0</td>\n",
       "      <td>0.0</td>\n",
       "      <td>0.090909</td>\n",
       "      <td>0.0</td>\n",
       "      <td>0.0</td>\n",
       "      <td>0.090909</td>\n",
       "      <td>0.0</td>\n",
       "      <td>0.0</td>\n",
       "      <td>11</td>\n",
       "      <td>1</td>\n",
       "    </tr>\n",
       "  </tbody>\n",
       "</table>\n",
       "<p>5 rows × 33 columns</p>\n",
       "</div>"
      ],
      "text/plain": [
       "   SK_ID_CURR  MONTHS_BALANCE_mean  MONTHS_BALANCE_std  MONTHS_BALANCE_min  \\\n",
       "0      100001           -72.555556           20.863312                 -96   \n",
       "1      100002           -10.000000            5.627314                 -19   \n",
       "2      100003           -43.785714           24.640162                 -77   \n",
       "3      100004           -25.500000            1.290994                 -27   \n",
       "4      100005           -20.000000            3.316625                 -25   \n",
       "\n",
       "   MONTHS_BALANCE_max  CNT_INSTALMENT_mean  CNT_INSTALMENT_std  \\\n",
       "0                 -53             4.000000            0.000000   \n",
       "1                  -1            24.000000            0.000000   \n",
       "2                 -18            10.109375            2.806597   \n",
       "3                 -24             3.750000            0.500000   \n",
       "4                 -15            11.703125            0.948683   \n",
       "\n",
       "   CNT_INSTALMENT_min  CNT_INSTALMENT_max  CNT_INSTALMENT_FUTURE_mean  ...  \\\n",
       "0                 4.0                 4.0                    1.444336  ...   \n",
       "1                24.0                24.0                   15.000000  ...   \n",
       "2                 6.0                12.0                    5.785156  ...   \n",
       "3                 3.0                 4.0                    2.250000  ...   \n",
       "4                 9.0                12.0                    7.199219  ...   \n",
       "\n",
       "   NAME_CONTRACT_STATUS_Approved_mean  NAME_CONTRACT_STATUS_Canceled_mean  \\\n",
       "0                                 0.0                                 0.0   \n",
       "1                                 0.0                                 0.0   \n",
       "2                                 0.0                                 0.0   \n",
       "3                                 0.0                                 0.0   \n",
       "4                                 0.0                                 0.0   \n",
       "\n",
       "   NAME_CONTRACT_STATUS_Completed_mean  NAME_CONTRACT_STATUS_Demand_mean  \\\n",
       "0                             0.222222                               0.0   \n",
       "1                             0.000000                               0.0   \n",
       "2                             0.071429                               0.0   \n",
       "3                             0.250000                               0.0   \n",
       "4                             0.090909                               0.0   \n",
       "\n",
       "   NAME_CONTRACT_STATUS_Returned to the store_mean  \\\n",
       "0                                              0.0   \n",
       "1                                              0.0   \n",
       "2                                              0.0   \n",
       "3                                              0.0   \n",
       "4                                              0.0   \n",
       "\n",
       "   NAME_CONTRACT_STATUS_Signed_mean  NAME_CONTRACT_STATUS_XNA_mean  \\\n",
       "0                          0.000000                            0.0   \n",
       "1                          0.000000                            0.0   \n",
       "2                          0.000000                            0.0   \n",
       "3                          0.000000                            0.0   \n",
       "4                          0.090909                            0.0   \n",
       "\n",
       "   NAME_CONTRACT_STATUS_nan_mean  SK_ID_PREV_count  SK_ID_PREV_nunique  \n",
       "0                            0.0                 9                   2  \n",
       "1                            0.0                19                   1  \n",
       "2                            0.0                28                   3  \n",
       "3                            0.0                 4                   1  \n",
       "4                            0.0                11                   1  \n",
       "\n",
       "[5 rows x 33 columns]"
      ]
     },
     "execution_count": 59,
     "metadata": {},
     "output_type": "execute_result"
    }
   ],
   "source": [
    "pos_ohe_agg = pos_ohe.groupby(\"SK_ID_CURR\").agg(\n",
    "    {\n",
    "        # 数値の集約\n",
    "        \"MONTHS_BALANCE\": [\"mean\", \"std\", \"min\", \"max\"],\n",
    "        \"CNT_INSTALMENT\": [\"mean\", \"std\", \"min\", \"max\"],\n",
    "        \"CNT_INSTALMENT_FUTURE\": [\"mean\", \"std\", \"min\", \"max\"],\n",
    "        \"SK_DPD\": [\"mean\", \"std\", \"min\", \"max\"],\n",
    "        \"SK_DPD_DEF\": [\"mean\", \"std\", \"min\", \"max\"],\n",
    "        # カテゴリ変数をone-hot-encodingした値の集約\n",
    "        \"NAME_CONTRACT_STATUS_Active\": [\"mean\"],\n",
    "        \"NAME_CONTRACT_STATUS_Amortized debt\": [\"mean\"],\n",
    "        \"NAME_CONTRACT_STATUS_Approved\": [\"mean\"],\n",
    "        \"NAME_CONTRACT_STATUS_Canceled\": [\"mean\"],\n",
    "        \"NAME_CONTRACT_STATUS_Completed\": [\"mean\"],\n",
    "        \"NAME_CONTRACT_STATUS_Demand\": [\"mean\"],\n",
    "        \"NAME_CONTRACT_STATUS_Returned to the store\": [\"mean\"],\n",
    "        \"NAME_CONTRACT_STATUS_Signed\": [\"mean\"],\n",
    "        \"NAME_CONTRACT_STATUS_XNA\": [\"mean\"],\n",
    "        \"NAME_CONTRACT_STATUS_nan\": [\"mean\"],\n",
    "        # IDのユニーク数をカウント (ついでにレコード数もカウント)\n",
    "        \"SK_ID_PREV\":[\"count\", \"nunique\"],\n",
    "    }\n",
    ")\n",
    "\n",
    "# カラム名の付与\n",
    "pos_ohe_agg.columns = [i + \"_\" + j for i,j in pos_ohe_agg.columns]\n",
    "pos_ohe_agg = pos_ohe_agg.reset_index(drop=False)\n",
    "\n",
    "print(pos_ohe_agg.shape)\n",
    "pos_ohe_agg.head()"
   ]
  },
  {
   "cell_type": "markdown",
   "id": "271833dd",
   "metadata": {
    "papermill": {
     "duration": 0.130064,
     "end_time": "2022-05-01T11:31:15.568260",
     "exception": false,
     "start_time": "2022-05-01T11:31:15.438196",
     "status": "completed"
    },
    "tags": []
   },
   "source": [
    "#### スクリプト7-39: ③SK_ID_CURRをキーにして結合"
   ]
  },
  {
   "cell_type": "code",
   "execution_count": 60,
   "id": "33581bef",
   "metadata": {
    "execution": {
     "iopub.execute_input": "2022-05-01T11:31:15.831479Z",
     "iopub.status.busy": "2022-05-01T11:31:15.831171Z",
     "iopub.status.idle": "2022-05-01T11:31:18.240166Z",
     "shell.execute_reply": "2022-05-01T11:31:18.239462Z"
    },
    "papermill": {
     "duration": 2.544773,
     "end_time": "2022-05-01T11:31:18.242604",
     "exception": false,
     "start_time": "2022-05-01T11:31:15.697831",
     "status": "completed"
    },
    "tags": []
   },
   "outputs": [
    {
     "name": "stdout",
     "output_type": "stream",
     "text": [
      "(307511, 164)\n"
     ]
    },
    {
     "data": {
      "text/html": [
       "<div>\n",
       "<style scoped>\n",
       "    .dataframe tbody tr th:only-of-type {\n",
       "        vertical-align: middle;\n",
       "    }\n",
       "\n",
       "    .dataframe tbody tr th {\n",
       "        vertical-align: top;\n",
       "    }\n",
       "\n",
       "    .dataframe thead th {\n",
       "        text-align: right;\n",
       "    }\n",
       "</style>\n",
       "<table border=\"1\" class=\"dataframe\">\n",
       "  <thead>\n",
       "    <tr style=\"text-align: right;\">\n",
       "      <th></th>\n",
       "      <th>SK_ID_CURR</th>\n",
       "      <th>TARGET</th>\n",
       "      <th>NAME_CONTRACT_TYPE</th>\n",
       "      <th>CODE_GENDER</th>\n",
       "      <th>FLAG_OWN_CAR</th>\n",
       "      <th>FLAG_OWN_REALTY</th>\n",
       "      <th>CNT_CHILDREN</th>\n",
       "      <th>AMT_INCOME_TOTAL</th>\n",
       "      <th>AMT_CREDIT</th>\n",
       "      <th>AMT_ANNUITY</th>\n",
       "      <th>...</th>\n",
       "      <th>NAME_CONTRACT_STATUS_Approved_mean</th>\n",
       "      <th>NAME_CONTRACT_STATUS_Canceled_mean</th>\n",
       "      <th>NAME_CONTRACT_STATUS_Completed_mean</th>\n",
       "      <th>NAME_CONTRACT_STATUS_Demand_mean</th>\n",
       "      <th>NAME_CONTRACT_STATUS_Returned to the store_mean</th>\n",
       "      <th>NAME_CONTRACT_STATUS_Signed_mean</th>\n",
       "      <th>NAME_CONTRACT_STATUS_XNA_mean</th>\n",
       "      <th>NAME_CONTRACT_STATUS_nan_mean</th>\n",
       "      <th>SK_ID_PREV_count</th>\n",
       "      <th>SK_ID_PREV_nunique</th>\n",
       "    </tr>\n",
       "  </thead>\n",
       "  <tbody>\n",
       "    <tr>\n",
       "      <th>0</th>\n",
       "      <td>100002</td>\n",
       "      <td>1</td>\n",
       "      <td>Cash loans</td>\n",
       "      <td>M</td>\n",
       "      <td>N</td>\n",
       "      <td>Y</td>\n",
       "      <td>0</td>\n",
       "      <td>202500.0</td>\n",
       "      <td>406597.5</td>\n",
       "      <td>24700.5</td>\n",
       "      <td>...</td>\n",
       "      <td>0.0</td>\n",
       "      <td>0.0</td>\n",
       "      <td>0.000000</td>\n",
       "      <td>0.0</td>\n",
       "      <td>0.000000</td>\n",
       "      <td>0.000000</td>\n",
       "      <td>0.0</td>\n",
       "      <td>0.0</td>\n",
       "      <td>19.0</td>\n",
       "      <td>1.0</td>\n",
       "    </tr>\n",
       "    <tr>\n",
       "      <th>1</th>\n",
       "      <td>100003</td>\n",
       "      <td>0</td>\n",
       "      <td>Cash loans</td>\n",
       "      <td>F</td>\n",
       "      <td>N</td>\n",
       "      <td>N</td>\n",
       "      <td>0</td>\n",
       "      <td>270000.0</td>\n",
       "      <td>1293502.5</td>\n",
       "      <td>35698.5</td>\n",
       "      <td>...</td>\n",
       "      <td>0.0</td>\n",
       "      <td>0.0</td>\n",
       "      <td>0.071429</td>\n",
       "      <td>0.0</td>\n",
       "      <td>0.000000</td>\n",
       "      <td>0.000000</td>\n",
       "      <td>0.0</td>\n",
       "      <td>0.0</td>\n",
       "      <td>28.0</td>\n",
       "      <td>3.0</td>\n",
       "    </tr>\n",
       "    <tr>\n",
       "      <th>2</th>\n",
       "      <td>100004</td>\n",
       "      <td>0</td>\n",
       "      <td>Revolving loans</td>\n",
       "      <td>M</td>\n",
       "      <td>Y</td>\n",
       "      <td>Y</td>\n",
       "      <td>0</td>\n",
       "      <td>67500.0</td>\n",
       "      <td>135000.0</td>\n",
       "      <td>6750.0</td>\n",
       "      <td>...</td>\n",
       "      <td>0.0</td>\n",
       "      <td>0.0</td>\n",
       "      <td>0.250000</td>\n",
       "      <td>0.0</td>\n",
       "      <td>0.000000</td>\n",
       "      <td>0.000000</td>\n",
       "      <td>0.0</td>\n",
       "      <td>0.0</td>\n",
       "      <td>4.0</td>\n",
       "      <td>1.0</td>\n",
       "    </tr>\n",
       "    <tr>\n",
       "      <th>3</th>\n",
       "      <td>100006</td>\n",
       "      <td>0</td>\n",
       "      <td>Cash loans</td>\n",
       "      <td>F</td>\n",
       "      <td>N</td>\n",
       "      <td>Y</td>\n",
       "      <td>0</td>\n",
       "      <td>135000.0</td>\n",
       "      <td>312682.5</td>\n",
       "      <td>29686.5</td>\n",
       "      <td>...</td>\n",
       "      <td>0.0</td>\n",
       "      <td>0.0</td>\n",
       "      <td>0.095238</td>\n",
       "      <td>0.0</td>\n",
       "      <td>0.047619</td>\n",
       "      <td>0.000000</td>\n",
       "      <td>0.0</td>\n",
       "      <td>0.0</td>\n",
       "      <td>21.0</td>\n",
       "      <td>3.0</td>\n",
       "    </tr>\n",
       "    <tr>\n",
       "      <th>4</th>\n",
       "      <td>100007</td>\n",
       "      <td>0</td>\n",
       "      <td>Cash loans</td>\n",
       "      <td>M</td>\n",
       "      <td>N</td>\n",
       "      <td>Y</td>\n",
       "      <td>0</td>\n",
       "      <td>121500.0</td>\n",
       "      <td>513000.0</td>\n",
       "      <td>21865.5</td>\n",
       "      <td>...</td>\n",
       "      <td>0.0</td>\n",
       "      <td>0.0</td>\n",
       "      <td>0.045455</td>\n",
       "      <td>0.0</td>\n",
       "      <td>0.000000</td>\n",
       "      <td>0.015152</td>\n",
       "      <td>0.0</td>\n",
       "      <td>0.0</td>\n",
       "      <td>66.0</td>\n",
       "      <td>5.0</td>\n",
       "    </tr>\n",
       "  </tbody>\n",
       "</table>\n",
       "<p>5 rows × 164 columns</p>\n",
       "</div>"
      ],
      "text/plain": [
       "   SK_ID_CURR  TARGET NAME_CONTRACT_TYPE CODE_GENDER FLAG_OWN_CAR  \\\n",
       "0      100002       1         Cash loans           M            N   \n",
       "1      100003       0         Cash loans           F            N   \n",
       "2      100004       0    Revolving loans           M            Y   \n",
       "3      100006       0         Cash loans           F            N   \n",
       "4      100007       0         Cash loans           M            N   \n",
       "\n",
       "  FLAG_OWN_REALTY  CNT_CHILDREN  AMT_INCOME_TOTAL  AMT_CREDIT  AMT_ANNUITY  \\\n",
       "0               Y             0          202500.0    406597.5      24700.5   \n",
       "1               N             0          270000.0   1293502.5      35698.5   \n",
       "2               Y             0           67500.0    135000.0       6750.0   \n",
       "3               Y             0          135000.0    312682.5      29686.5   \n",
       "4               Y             0          121500.0    513000.0      21865.5   \n",
       "\n",
       "   ...  NAME_CONTRACT_STATUS_Approved_mean NAME_CONTRACT_STATUS_Canceled_mean  \\\n",
       "0  ...                                 0.0                                0.0   \n",
       "1  ...                                 0.0                                0.0   \n",
       "2  ...                                 0.0                                0.0   \n",
       "3  ...                                 0.0                                0.0   \n",
       "4  ...                                 0.0                                0.0   \n",
       "\n",
       "  NAME_CONTRACT_STATUS_Completed_mean NAME_CONTRACT_STATUS_Demand_mean  \\\n",
       "0                            0.000000                              0.0   \n",
       "1                            0.071429                              0.0   \n",
       "2                            0.250000                              0.0   \n",
       "3                            0.095238                              0.0   \n",
       "4                            0.045455                              0.0   \n",
       "\n",
       "  NAME_CONTRACT_STATUS_Returned to the store_mean  \\\n",
       "0                                        0.000000   \n",
       "1                                        0.000000   \n",
       "2                                        0.000000   \n",
       "3                                        0.047619   \n",
       "4                                        0.000000   \n",
       "\n",
       "  NAME_CONTRACT_STATUS_Signed_mean  NAME_CONTRACT_STATUS_XNA_mean  \\\n",
       "0                         0.000000                            0.0   \n",
       "1                         0.000000                            0.0   \n",
       "2                         0.000000                            0.0   \n",
       "3                         0.000000                            0.0   \n",
       "4                         0.015152                            0.0   \n",
       "\n",
       "   NAME_CONTRACT_STATUS_nan_mean  SK_ID_PREV_count  SK_ID_PREV_nunique  \n",
       "0                            0.0              19.0                 1.0  \n",
       "1                            0.0              28.0                 3.0  \n",
       "2                            0.0               4.0                 1.0  \n",
       "3                            0.0              21.0                 3.0  \n",
       "4                            0.0              66.0                 5.0  \n",
       "\n",
       "[5 rows x 164 columns]"
      ]
     },
     "execution_count": 60,
     "metadata": {},
     "output_type": "execute_result"
    }
   ],
   "source": [
    "df_train = pd.merge(application_train, pos_ohe_agg, on=\"SK_ID_CURR\", how=\"left\")\n",
    "print(df_train.shape)\n",
    "df_train.head()"
   ]
  },
  {
   "cell_type": "markdown",
   "id": "84c51d99",
   "metadata": {
    "papermill": {
     "duration": 0.131253,
     "end_time": "2022-05-01T11:31:18.506874",
     "exception": false,
     "start_time": "2022-05-01T11:31:18.375621",
     "status": "completed"
    },
    "tags": []
   },
   "source": [
    "#### スクリプト7-40: データセット作成"
   ]
  },
  {
   "cell_type": "code",
   "execution_count": 61,
   "id": "7d96a711",
   "metadata": {
    "execution": {
     "iopub.execute_input": "2022-05-01T11:31:18.771678Z",
     "iopub.status.busy": "2022-05-01T11:31:18.770853Z",
     "iopub.status.idle": "2022-05-01T11:31:19.936006Z",
     "shell.execute_reply": "2022-05-01T11:31:19.935195Z"
    },
    "papermill": {
     "duration": 1.300659,
     "end_time": "2022-05-01T11:31:19.938531",
     "exception": false,
     "start_time": "2022-05-01T11:31:18.637872",
     "status": "completed"
    },
    "tags": []
   },
   "outputs": [],
   "source": [
    "x_train = df_train.drop(columns=[\"TARGET\", \"SK_ID_CURR\"])\n",
    "y_train = df_train[\"TARGET\"]\n",
    "id_train = df_train[[\"SK_ID_CURR\"]]\n",
    "\n",
    "for col in x_train.columns:\n",
    "    if x_train[col].dtype==\"O\":\n",
    "        x_train[col] = x_train[col].astype(\"category\")"
   ]
  },
  {
   "cell_type": "markdown",
   "id": "25e44649",
   "metadata": {
    "papermill": {
     "duration": 0.131185,
     "end_time": "2022-05-01T11:31:20.202247",
     "exception": false,
     "start_time": "2022-05-01T11:31:20.071062",
     "status": "completed"
    },
    "tags": []
   },
   "source": [
    "#### スクリプト7-41: モデル学習"
   ]
  },
  {
   "cell_type": "code",
   "execution_count": 62,
   "id": "eddd96a5",
   "metadata": {
    "execution": {
     "iopub.execute_input": "2022-05-01T11:31:20.468525Z",
     "iopub.status.busy": "2022-05-01T11:31:20.467933Z",
     "iopub.status.idle": "2022-05-01T11:35:06.319460Z",
     "shell.execute_reply": "2022-05-01T11:35:06.318483Z"
    },
    "papermill": {
     "duration": 226.129661,
     "end_time": "2022-05-01T11:35:06.464703",
     "exception": false,
     "start_time": "2022-05-01T11:31:20.335042",
     "status": "completed"
    },
    "tags": []
   },
   "outputs": [
    {
     "name": "stdout",
     "output_type": "stream",
     "text": [
      "-------------------- 0 --------------------\n",
      "(246008, 162) (61503, 162)\n",
      "Training until validation scores don't improve for 100 rounds\n",
      "[100]\ttraining's auc: 0.795088\tvalid_1's auc: 0.765593\n",
      "[200]\ttraining's auc: 0.825361\tvalid_1's auc: 0.770839\n",
      "[300]\ttraining's auc: 0.848039\tvalid_1's auc: 0.771873\n",
      "[400]\ttraining's auc: 0.866707\tvalid_1's auc: 0.771772\n",
      "Early stopping, best iteration is:\n",
      "[351]\ttraining's auc: 0.858291\tvalid_1's auc: 0.772055\n",
      "[auc] tr:0.8583, va:0.7721\n",
      "-------------------- 1 --------------------\n",
      "(246009, 162) (61502, 162)\n",
      "Training until validation scores don't improve for 100 rounds\n",
      "[100]\ttraining's auc: 0.794927\tvalid_1's auc: 0.770144\n",
      "[200]\ttraining's auc: 0.82505\tvalid_1's auc: 0.775788\n",
      "[300]\ttraining's auc: 0.846934\tvalid_1's auc: 0.77623\n",
      "Early stopping, best iteration is:\n",
      "[283]\ttraining's auc: 0.843236\tvalid_1's auc: 0.776499\n",
      "[auc] tr:0.8432, va:0.7765\n",
      "-------------------- 2 --------------------\n",
      "(246009, 162) (61502, 162)\n",
      "Training until validation scores don't improve for 100 rounds\n",
      "[100]\ttraining's auc: 0.795419\tvalid_1's auc: 0.769509\n",
      "[200]\ttraining's auc: 0.825819\tvalid_1's auc: 0.773107\n",
      "[300]\ttraining's auc: 0.847677\tvalid_1's auc: 0.773247\n",
      "[400]\ttraining's auc: 0.865794\tvalid_1's auc: 0.773531\n",
      "Early stopping, best iteration is:\n",
      "[376]\ttraining's auc: 0.861787\tvalid_1's auc: 0.773753\n",
      "[auc] tr:0.8618, va:0.7738\n",
      "-------------------- 3 --------------------\n",
      "(246009, 162) (61502, 162)\n",
      "Training until validation scores don't improve for 100 rounds\n",
      "[100]\ttraining's auc: 0.794522\tvalid_1's auc: 0.765856\n",
      "[200]\ttraining's auc: 0.825827\tvalid_1's auc: 0.770631\n",
      "[300]\ttraining's auc: 0.847782\tvalid_1's auc: 0.771752\n",
      "[400]\ttraining's auc: 0.865526\tvalid_1's auc: 0.771991\n",
      "[500]\ttraining's auc: 0.880741\tvalid_1's auc: 0.772264\n",
      "[600]\ttraining's auc: 0.894174\tvalid_1's auc: 0.772507\n",
      "[700]\ttraining's auc: 0.904506\tvalid_1's auc: 0.772344\n",
      "Early stopping, best iteration is:\n",
      "[626]\ttraining's auc: 0.896959\tvalid_1's auc: 0.772687\n",
      "[auc] tr:0.8970, va:0.7727\n",
      "-------------------- 4 --------------------\n",
      "(246009, 162) (61502, 162)\n",
      "Training until validation scores don't improve for 100 rounds\n",
      "[100]\ttraining's auc: 0.795717\tvalid_1's auc: 0.761191\n",
      "[200]\ttraining's auc: 0.826665\tvalid_1's auc: 0.765881\n",
      "[300]\ttraining's auc: 0.848797\tvalid_1's auc: 0.766532\n",
      "Early stopping, best iteration is:\n",
      "[263]\ttraining's auc: 0.841403\tvalid_1's auc: 0.766666\n",
      "[auc] tr:0.8414, va:0.7667\n",
      "-------------------- result --------------------\n",
      "[[0.         0.85829127 0.77205509]\n",
      " [1.         0.8432356  0.77649947]\n",
      " [2.         0.86178672 0.77375333]\n",
      " [3.         0.89695926 0.77268723]\n",
      " [4.         0.84140313 0.76666555]]\n",
      "[cv] tr:0.8603+-0.0200, va:0.7723+-0.0032\n",
      "[oof] 0.7723\n"
     ]
    }
   ],
   "source": [
    "train_oof, imp, metrics = train_lgb(x_train,\n",
    "                                    y_train,\n",
    "                                    id_train,\n",
    "                                    params,\n",
    "                                    list_nfold=[0,1,2,3,4],\n",
    "                                    n_splits=5,\n",
    "                                   )"
   ]
  },
  {
   "cell_type": "markdown",
   "id": "85d9e7e9",
   "metadata": {
    "papermill": {
     "duration": 0.142576,
     "end_time": "2022-05-01T11:35:06.749634",
     "exception": false,
     "start_time": "2022-05-01T11:35:06.607058",
     "status": "completed"
    },
    "tags": []
   },
   "source": [
    "#### スクリプト7-42: 説明変数の重要度の確認"
   ]
  },
  {
   "cell_type": "code",
   "execution_count": 63,
   "id": "819289bc",
   "metadata": {
    "execution": {
     "iopub.execute_input": "2022-05-01T11:35:07.038364Z",
     "iopub.status.busy": "2022-05-01T11:35:07.037740Z",
     "iopub.status.idle": "2022-05-01T11:35:07.050618Z",
     "shell.execute_reply": "2022-05-01T11:35:07.049564Z"
    },
    "papermill": {
     "duration": 0.161161,
     "end_time": "2022-05-01T11:35:07.052868",
     "exception": false,
     "start_time": "2022-05-01T11:35:06.891707",
     "status": "completed"
    },
    "tags": []
   },
   "outputs": [
    {
     "data": {
      "text/html": [
       "<div>\n",
       "<style scoped>\n",
       "    .dataframe tbody tr th:only-of-type {\n",
       "        vertical-align: middle;\n",
       "    }\n",
       "\n",
       "    .dataframe tbody tr th {\n",
       "        vertical-align: top;\n",
       "    }\n",
       "\n",
       "    .dataframe thead th {\n",
       "        text-align: right;\n",
       "    }\n",
       "</style>\n",
       "<table border=\"1\" class=\"dataframe\">\n",
       "  <thead>\n",
       "    <tr style=\"text-align: right;\">\n",
       "      <th></th>\n",
       "      <th>col</th>\n",
       "      <th>imp</th>\n",
       "      <th>imp_std</th>\n",
       "    </tr>\n",
       "  </thead>\n",
       "  <tbody>\n",
       "    <tr>\n",
       "      <th>52</th>\n",
       "      <td>EXT_SOURCE_mean</td>\n",
       "      <td>112696.230138</td>\n",
       "      <td>1466.943131</td>\n",
       "    </tr>\n",
       "    <tr>\n",
       "      <th>134</th>\n",
       "      <td>ORGANIZATION_TYPE</td>\n",
       "      <td>21907.995104</td>\n",
       "      <td>3164.458317</td>\n",
       "    </tr>\n",
       "    <tr>\n",
       "      <th>10</th>\n",
       "      <td>ANNUITY_div_CREDIT</td>\n",
       "      <td>18585.842348</td>\n",
       "      <td>1070.211982</td>\n",
       "    </tr>\n",
       "    <tr>\n",
       "      <th>49</th>\n",
       "      <td>EXT_SOURCE_3</td>\n",
       "      <td>10649.690041</td>\n",
       "      <td>1772.668033</td>\n",
       "    </tr>\n",
       "    <tr>\n",
       "      <th>53</th>\n",
       "      <td>EXT_SOURCE_min</td>\n",
       "      <td>7366.997531</td>\n",
       "      <td>720.317856</td>\n",
       "    </tr>\n",
       "    <tr>\n",
       "      <th>32</th>\n",
       "      <td>DAYS_BIRTH</td>\n",
       "      <td>6943.280226</td>\n",
       "      <td>1240.753351</td>\n",
       "    </tr>\n",
       "    <tr>\n",
       "      <th>47</th>\n",
       "      <td>EXT_SOURCE_1</td>\n",
       "      <td>6385.091305</td>\n",
       "      <td>945.138950</td>\n",
       "    </tr>\n",
       "    <tr>\n",
       "      <th>21</th>\n",
       "      <td>CNT_INSTALMENT_FUTURE_mean</td>\n",
       "      <td>6384.904319</td>\n",
       "      <td>1198.580535</td>\n",
       "    </tr>\n",
       "    <tr>\n",
       "      <th>108</th>\n",
       "      <td>MONTHS_BALANCE_std</td>\n",
       "      <td>5684.483723</td>\n",
       "      <td>758.402778</td>\n",
       "    </tr>\n",
       "    <tr>\n",
       "      <th>0</th>\n",
       "      <td>AMT_ANNUITY</td>\n",
       "      <td>5544.795909</td>\n",
       "      <td>1023.177548</td>\n",
       "    </tr>\n",
       "  </tbody>\n",
       "</table>\n",
       "</div>"
      ],
      "text/plain": [
       "                            col            imp      imp_std\n",
       "52              EXT_SOURCE_mean  112696.230138  1466.943131\n",
       "134           ORGANIZATION_TYPE   21907.995104  3164.458317\n",
       "10           ANNUITY_div_CREDIT   18585.842348  1070.211982\n",
       "49                 EXT_SOURCE_3   10649.690041  1772.668033\n",
       "53               EXT_SOURCE_min    7366.997531   720.317856\n",
       "32                   DAYS_BIRTH    6943.280226  1240.753351\n",
       "47                 EXT_SOURCE_1    6385.091305   945.138950\n",
       "21   CNT_INSTALMENT_FUTURE_mean    6384.904319  1198.580535\n",
       "108          MONTHS_BALANCE_std    5684.483723   758.402778\n",
       "0                   AMT_ANNUITY    5544.795909  1023.177548"
      ]
     },
     "execution_count": 63,
     "metadata": {},
     "output_type": "execute_result"
    }
   ],
   "source": [
    "imp.sort_values(\"imp\", ascending=False)[:10]"
   ]
  },
  {
   "cell_type": "markdown",
   "id": "eed26057",
   "metadata": {
    "papermill": {
     "duration": 0.143372,
     "end_time": "2022-05-01T11:35:07.340008",
     "exception": false,
     "start_time": "2022-05-01T11:35:07.196636",
     "status": "completed"
    },
    "tags": []
   },
   "source": [
    "#### スクリプト7-43: 推論用のデータセット作成"
   ]
  },
  {
   "cell_type": "code",
   "execution_count": 64,
   "id": "a0a96c14",
   "metadata": {
    "execution": {
     "iopub.execute_input": "2022-05-01T11:35:07.632659Z",
     "iopub.status.busy": "2022-05-01T11:35:07.632133Z",
     "iopub.status.idle": "2022-05-01T11:35:08.198806Z",
     "shell.execute_reply": "2022-05-01T11:35:08.197999Z"
    },
    "papermill": {
     "duration": 0.713921,
     "end_time": "2022-05-01T11:35:08.201008",
     "exception": false,
     "start_time": "2022-05-01T11:35:07.487087",
     "status": "completed"
    },
    "tags": []
   },
   "outputs": [],
   "source": [
    "# テーブル結合\n",
    "df_test = pd.merge(application_test, pos_ohe_agg, on=\"SK_ID_CURR\", how=\"left\")\n",
    "\n",
    "# データセット作成\n",
    "x_test = df_test.drop(columns=[\"SK_ID_CURR\"])\n",
    "id_test = df_test[[\"SK_ID_CURR\"]]\n",
    "\n",
    "# カテゴリ変数をcategory型へ変換\n",
    "for col in x_test.columns:\n",
    "    if x_test[col].dtype==\"O\":\n",
    "        x_test[col] = x_test[col].astype(\"category\")"
   ]
  },
  {
   "cell_type": "markdown",
   "id": "a757bc55",
   "metadata": {
    "papermill": {
     "duration": 0.222787,
     "end_time": "2022-05-01T11:35:08.566253",
     "exception": false,
     "start_time": "2022-05-01T11:35:08.343466",
     "status": "completed"
    },
    "tags": []
   },
   "source": [
    "#### スクリプト7-44: 推論用データセットを用いた推論処理"
   ]
  },
  {
   "cell_type": "code",
   "execution_count": 65,
   "id": "4b4192a8",
   "metadata": {
    "execution": {
     "iopub.execute_input": "2022-05-01T11:35:08.853686Z",
     "iopub.status.busy": "2022-05-01T11:35:08.853392Z",
     "iopub.status.idle": "2022-05-01T11:35:12.140460Z",
     "shell.execute_reply": "2022-05-01T11:35:12.139665Z"
    },
    "papermill": {
     "duration": 3.433811,
     "end_time": "2022-05-01T11:35:12.142741",
     "exception": false,
     "start_time": "2022-05-01T11:35:08.708930",
     "status": "completed"
    },
    "tags": []
   },
   "outputs": [
    {
     "name": "stdout",
     "output_type": "stream",
     "text": [
      "-------------------- 0 --------------------\n",
      "-------------------- 1 --------------------\n",
      "-------------------- 2 --------------------\n",
      "-------------------- 3 --------------------\n",
      "-------------------- 4 --------------------\n",
      "Done.\n"
     ]
    }
   ],
   "source": [
    "test_pred = predict_lgb(x_test,\n",
    "                        id_test,\n",
    "                        list_nfold=[0,1,2,3,4],\n",
    "                       )"
   ]
  },
  {
   "cell_type": "markdown",
   "id": "686b267d",
   "metadata": {
    "papermill": {
     "duration": 0.147468,
     "end_time": "2022-05-01T11:35:12.437547",
     "exception": false,
     "start_time": "2022-05-01T11:35:12.290079",
     "status": "completed"
    },
    "tags": []
   },
   "source": [
    "#### スクリプト7-45: 提出ファイルの作成"
   ]
  },
  {
   "cell_type": "code",
   "execution_count": 66,
   "id": "db52fd46",
   "metadata": {
    "execution": {
     "iopub.execute_input": "2022-05-01T11:35:12.738731Z",
     "iopub.status.busy": "2022-05-01T11:35:12.738403Z",
     "iopub.status.idle": "2022-05-01T11:35:12.919120Z",
     "shell.execute_reply": "2022-05-01T11:35:12.918344Z"
    },
    "papermill": {
     "duration": 0.335519,
     "end_time": "2022-05-01T11:35:12.921376",
     "exception": false,
     "start_time": "2022-05-01T11:35:12.585857",
     "status": "completed"
    },
    "tags": []
   },
   "outputs": [
    {
     "name": "stdout",
     "output_type": "stream",
     "text": [
      "(48744, 2)\n"
     ]
    },
    {
     "data": {
      "text/html": [
       "<div>\n",
       "<style scoped>\n",
       "    .dataframe tbody tr th:only-of-type {\n",
       "        vertical-align: middle;\n",
       "    }\n",
       "\n",
       "    .dataframe tbody tr th {\n",
       "        vertical-align: top;\n",
       "    }\n",
       "\n",
       "    .dataframe thead th {\n",
       "        text-align: right;\n",
       "    }\n",
       "</style>\n",
       "<table border=\"1\" class=\"dataframe\">\n",
       "  <thead>\n",
       "    <tr style=\"text-align: right;\">\n",
       "      <th></th>\n",
       "      <th>SK_ID_CURR</th>\n",
       "      <th>TARGET</th>\n",
       "    </tr>\n",
       "  </thead>\n",
       "  <tbody>\n",
       "    <tr>\n",
       "      <th>0</th>\n",
       "      <td>100001</td>\n",
       "      <td>0.035337</td>\n",
       "    </tr>\n",
       "    <tr>\n",
       "      <th>1</th>\n",
       "      <td>100005</td>\n",
       "      <td>0.111115</td>\n",
       "    </tr>\n",
       "    <tr>\n",
       "      <th>2</th>\n",
       "      <td>100013</td>\n",
       "      <td>0.027314</td>\n",
       "    </tr>\n",
       "    <tr>\n",
       "      <th>3</th>\n",
       "      <td>100028</td>\n",
       "      <td>0.043957</td>\n",
       "    </tr>\n",
       "    <tr>\n",
       "      <th>4</th>\n",
       "      <td>100038</td>\n",
       "      <td>0.209936</td>\n",
       "    </tr>\n",
       "  </tbody>\n",
       "</table>\n",
       "</div>"
      ],
      "text/plain": [
       "   SK_ID_CURR    TARGET\n",
       "0      100001  0.035337\n",
       "1      100005  0.111115\n",
       "2      100013  0.027314\n",
       "3      100028  0.043957\n",
       "4      100038  0.209936"
      ]
     },
     "metadata": {},
     "output_type": "display_data"
    }
   ],
   "source": [
    "df_submit = test_pred.rename(columns={\"pred\":\"TARGET\"})\n",
    "print(df_submit.shape)\n",
    "display(df_submit.head())\n",
    "df_submit.to_csv(\"../submit/notebooks/submission_FeatureEngineering2.csv\", index=None)"
   ]
  },
  {
   "cell_type": "markdown",
   "id": "0a097fd9",
   "metadata": {
    "papermill": {
     "duration": 0.146216,
     "end_time": "2022-05-01T11:35:13.215746",
     "exception": false,
     "start_time": "2022-05-01T11:35:13.069530",
     "status": "completed"
    },
    "tags": []
   },
   "source": [
    "# 7.5 モデルチューニング\n",
    "- LightGBMのハイパーパラメータのチューニング"
   ]
  },
  {
   "cell_type": "markdown",
   "id": "6c43e2fd",
   "metadata": {
    "papermill": {
     "duration": 0.148631,
     "end_time": "2022-05-01T11:35:13.509592",
     "exception": false,
     "start_time": "2022-05-01T11:35:13.360961",
     "status": "completed"
    },
    "tags": []
   },
   "source": [
    "#### スクリプト7-46: 重要度を用いて絞り込んだ特徴量リストの作成（以降では利用しない）"
   ]
  },
  {
   "cell_type": "code",
   "execution_count": 67,
   "id": "51439a89",
   "metadata": {
    "execution": {
     "iopub.execute_input": "2022-05-01T11:35:13.802911Z",
     "iopub.status.busy": "2022-05-01T11:35:13.802439Z",
     "iopub.status.idle": "2022-05-01T11:35:13.806936Z",
     "shell.execute_reply": "2022-05-01T11:35:13.806387Z"
    },
    "papermill": {
     "duration": 0.153624,
     "end_time": "2022-05-01T11:35:13.808877",
     "exception": false,
     "start_time": "2022-05-01T11:35:13.655253",
     "status": "completed"
    },
    "tags": []
   },
   "outputs": [],
   "source": [
    "col_filter = sorted(list(imp.sort_values(\"imp\", ascending=False)[:100][\"col\"]))\n",
    "# col_filter"
   ]
  },
  {
   "cell_type": "markdown",
   "id": "c00fdb59",
   "metadata": {
    "papermill": {
     "duration": 0.146137,
     "end_time": "2022-05-01T11:35:14.102011",
     "exception": false,
     "start_time": "2022-05-01T11:35:13.955874",
     "status": "completed"
    },
    "tags": []
   },
   "source": [
    "## 7.5.1 optunaによる自動チューニングの実行"
   ]
  },
  {
   "cell_type": "markdown",
   "id": "51ddb5e4",
   "metadata": {
    "papermill": {
     "duration": 0.145865,
     "end_time": "2022-05-01T11:35:14.394379",
     "exception": false,
     "start_time": "2022-05-01T11:35:14.248514",
     "status": "completed"
    },
    "tags": []
   },
   "source": [
    "#### スクリプト7-47: optunaライブラリのインポート"
   ]
  },
  {
   "cell_type": "code",
   "execution_count": 68,
   "id": "8778ba93",
   "metadata": {
    "execution": {
     "iopub.execute_input": "2022-05-01T11:35:14.694725Z",
     "iopub.status.busy": "2022-05-01T11:35:14.694296Z",
     "iopub.status.idle": "2022-05-01T11:35:15.627402Z",
     "shell.execute_reply": "2022-05-01T11:35:15.626661Z"
    },
    "papermill": {
     "duration": 1.084849,
     "end_time": "2022-05-01T11:35:15.629683",
     "exception": false,
     "start_time": "2022-05-01T11:35:14.544834",
     "status": "completed"
    },
    "tags": []
   },
   "outputs": [],
   "source": [
    "import optuna"
   ]
  },
  {
   "cell_type": "markdown",
   "id": "235b872e",
   "metadata": {
    "papermill": {
     "duration": 0.148374,
     "end_time": "2022-05-01T11:35:15.924368",
     "exception": false,
     "start_time": "2022-05-01T11:35:15.775994",
     "status": "completed"
    },
    "tags": []
   },
   "source": [
    "#### スクリプト7-48: 学習用のデータセット作成"
   ]
  },
  {
   "cell_type": "code",
   "execution_count": 69,
   "id": "92fc6c3b",
   "metadata": {
    "execution": {
     "iopub.execute_input": "2022-05-01T11:35:16.222635Z",
     "iopub.status.busy": "2022-05-01T11:35:16.221951Z",
     "iopub.status.idle": "2022-05-01T11:35:17.139348Z",
     "shell.execute_reply": "2022-05-01T11:35:17.138574Z"
    },
    "papermill": {
     "duration": 1.068789,
     "end_time": "2022-05-01T11:35:17.141790",
     "exception": false,
     "start_time": "2022-05-01T11:35:16.073001",
     "status": "completed"
    },
    "tags": []
   },
   "outputs": [],
   "source": [
    "x_train = df_train.drop(columns=[\"TARGET\", \"SK_ID_CURR\"])\n",
    "y_train = df_train[\"TARGET\"]\n",
    "id_train = df_train[[\"SK_ID_CURR\"]]\n",
    "\n",
    "for col in x_train.columns:\n",
    "    if x_train[col].dtype==\"O\":\n",
    "        x_train[col] = x_train[col].astype(\"category\")"
   ]
  },
  {
   "cell_type": "markdown",
   "id": "dbe997da",
   "metadata": {
    "papermill": {
     "duration": 0.148323,
     "end_time": "2022-05-01T11:35:17.463652",
     "exception": false,
     "start_time": "2022-05-01T11:35:17.315329",
     "status": "completed"
    },
    "tags": []
   },
   "source": [
    "#### スクリプト7-49: 目的関数の定義"
   ]
  },
  {
   "cell_type": "code",
   "execution_count": 70,
   "id": "196f92af",
   "metadata": {
    "execution": {
     "iopub.execute_input": "2022-05-01T11:35:17.762448Z",
     "iopub.status.busy": "2022-05-01T11:35:17.762177Z",
     "iopub.status.idle": "2022-05-01T11:35:17.775488Z",
     "shell.execute_reply": "2022-05-01T11:35:17.774575Z"
    },
    "papermill": {
     "duration": 0.166098,
     "end_time": "2022-05-01T11:35:17.777348",
     "exception": false,
     "start_time": "2022-05-01T11:35:17.611250",
     "status": "completed"
    },
    "tags": []
   },
   "outputs": [],
   "source": [
    "# 探索しないハイパーパラメータ\n",
    "params_base = {\n",
    "    \"boosting_type\": \"gbdt\",\n",
    "    \"objective\": \"binary\",\n",
    "    \"metric\": \"auc\",\n",
    "    \"verbosity\": -1,\n",
    "    \"learning_rate\": 0.05,\n",
    "    \"n_estimators\": 100000,\n",
    "    \"bagging_freq\": 1,\n",
    "    \"random_state\": 123,\n",
    "}\n",
    "\n",
    "# 目的関数の定義\n",
    "def objective(trial):\n",
    "    # 探索するハイパーパラメータ\n",
    "    params_tuning = {\n",
    "        \"num_leaves\": trial.suggest_int(\"num_leaves\", 8, 256),\n",
    "        \"min_child_samples\": trial.suggest_int(\"min_child_samples\", 5, 200),\n",
    "        \"min_sum_hessian_in_leaf\": trial.suggest_float(\"min_sum_hessian_in_leaf\", 1e-5, 1e-2, log=True),\n",
    "        \"feature_fraction\": trial.suggest_float(\"feature_fraction\", 0.5, 1.0),\n",
    "        \"bagging_fraction\": trial.suggest_float(\"bagging_fraction\", 0.5, 1.0),\n",
    "        \"lambda_l1\": trial.suggest_float(\"lambda_l1\", 1e-2, 1e+2, log=True),\n",
    "        \"lambda_l2\": trial.suggest_float(\"lambda_l2\", 1e-2, 1e+2, log=True),\n",
    "    }\n",
    "    params_tuning.update(params_base)\n",
    "    \n",
    "    # モデル学習・評価\n",
    "    list_metrics = []\n",
    "    cv = list(StratifiedKFold(n_splits=5, shuffle=True, random_state=123).split(x_train, y_train))\n",
    "    list_fold = [0]  # 処理高速化のために1つめのfoldのみとする。\n",
    "    for nfold in list_fold:\n",
    "        idx_tr, idx_va = cv[nfold][0], cv[nfold][1]\n",
    "        x_tr, y_tr = x_train.loc[idx_tr, :], y_train[idx_tr]\n",
    "        x_va, y_va = x_train.loc[idx_va, :], y_train[idx_va]\n",
    "        model = lgb.LGBMClassifier(**params_tuning)\n",
    "        model.fit(x_tr,\n",
    "                  y_tr,\n",
    "                  eval_set=[(x_tr,y_tr), (x_va,y_va)],\n",
    "                  early_stopping_rounds=100,\n",
    "                  verbose=0,\n",
    "                 )\n",
    "        y_va_pred = model.predict_proba(x_va)[:,1]\n",
    "        metric_va = roc_auc_score(y_va, y_va_pred) # 評価指標をAUCにする\n",
    "        list_metrics.append(metric_va)\n",
    "    \n",
    "    # 評価指標の算出\n",
    "    metrics = np.mean(list_metrics)\n",
    "    \n",
    "    return metrics"
   ]
  },
  {
   "cell_type": "markdown",
   "id": "8547ffca",
   "metadata": {
    "papermill": {
     "duration": 0.14578,
     "end_time": "2022-05-01T11:35:18.070904",
     "exception": false,
     "start_time": "2022-05-01T11:35:17.925124",
     "status": "completed"
    },
    "tags": []
   },
   "source": [
    "#### スクリプト7-50: 最適化処理（探索の実行）\n",
    "- 注意点\n",
    "    - optunaではシード固定しても探索結果の再現性がありません。このため，これ以降は書籍と結果が異なります。\n",
    "    - 再現性を求める場合は，並列化なし（n_jobs=1）としてください。"
   ]
  },
  {
   "cell_type": "code",
   "execution_count": 71,
   "id": "972bdf0d",
   "metadata": {
    "execution": {
     "iopub.execute_input": "2022-05-01T11:35:18.363309Z",
     "iopub.status.busy": "2022-05-01T11:35:18.363019Z",
     "iopub.status.idle": "2022-05-01T12:16:37.168175Z",
     "shell.execute_reply": "2022-05-01T12:16:37.167221Z"
    },
    "papermill": {
     "duration": 2479.134634,
     "end_time": "2022-05-01T12:16:37.350918",
     "exception": false,
     "start_time": "2022-05-01T11:35:18.216284",
     "status": "completed"
    },
    "tags": []
   },
   "outputs": [
    {
     "name": "stderr",
     "output_type": "stream",
     "text": [
      "\u001b[32m[I 2022-08-21 21:34:54,268]\u001b[0m A new study created in memory with name: no-name-380d55aa-9ff4-4984-b4cf-befc2febcb2f\u001b[0m\n"
     ]
    },
    {
     "name": "stdout",
     "output_type": "stream",
     "text": [
      "[LightGBM] [Warning] lambda_l1 is set=15.716753441011617, reg_alpha=0.0 will be ignored. Current value: lambda_l1=15.716753441011617\n",
      "[LightGBM] [Warning] lambda_l2 is set=21.463911049577813, reg_lambda=0.0 will be ignored. Current value: lambda_l2=21.463911049577813\n",
      "[LightGBM] [Warning] feature_fraction is set=0.9043259491835924, colsample_bytree=1.0 will be ignored. Current value: feature_fraction=0.9043259491835924\n",
      "[LightGBM] [Warning] bagging_fraction is set=0.906359643839176, subsample=1.0 will be ignored. Current value: bagging_fraction=0.906359643839176\n",
      "[LightGBM] [Warning] bagging_freq is set=1, subsample_freq=0 will be ignored. Current value: bagging_freq=1\n",
      "[LightGBM] [Warning] min_sum_hessian_in_leaf is set=5.48452014988092e-05, min_child_weight=0.001 will be ignored. Current value: min_sum_hessian_in_leaf=5.48452014988092e-05\n",
      "[LightGBM] [Warning] lambda_l1 is set=0.06495342460248797, reg_alpha=0.0 will be ignored. Current value: lambda_l1=0.06495342460248797\n",
      "[LightGBM] [Warning] lambda_l2 is set=1.0144298733024533, reg_lambda=0.0 will be ignored. Current value: lambda_l2=1.0144298733024533\n",
      "[LightGBM] [Warning] feature_fraction is set=0.7493588391159747, colsample_bytree=1.0 will be ignored. Current value: feature_fraction=0.7493588391159747\n",
      "[LightGBM] [Warning] bagging_fraction is set=0.9170175332611694, subsample=1.0 will be ignored. Current value: bagging_fraction=0.9170175332611694\n",
      "[LightGBM] [Warning] bagging_freq is set=1, subsample_freq=0 will be ignored. Current value: bagging_freq=1\n",
      "[LightGBM] [Warning] min_sum_hessian_in_leaf is set=0.003791879258201651, min_child_weight=0.001 will be ignored. Current value: min_sum_hessian_in_leaf=0.003791879258201651\n",
      "[LightGBM] [Warning] lambda_l1 is set=91.22214347058602, reg_alpha=0.0 will be ignored. Current value: lambda_l1=91.22214347058602\n",
      "[LightGBM] [Warning] lambda_l2 is set=0.6980850615572954, reg_lambda=0.0 will be ignored. Current value: lambda_l2=0.6980850615572954\n",
      "[LightGBM] [Warning] feature_fraction is set=0.5870319296708764, colsample_bytree=1.0 will be ignored. Current value: feature_fraction=0.5870319296708764\n",
      "[LightGBM] [Warning] bagging_fraction is set=0.5537508294943094, subsample=1.0 will be ignored. Current value: bagging_fraction=0.5537508294943094\n",
      "[LightGBM] [Warning] bagging_freq is set=1, subsample_freq=0 will be ignored. Current value: bagging_freq=1\n",
      "[LightGBM] [Warning] min_sum_hessian_in_leaf is set=8.347220513308408e-05, min_child_weight=0.001 will be ignored. Current value: min_sum_hessian_in_leaf=8.347220513308408e-05\n",
      "[LightGBM] [Warning] lambda_l1 is set=0.04050998057439114, reg_alpha=0.0 will be ignored. Current value: lambda_l1=0.04050998057439114\n",
      "[LightGBM] [Warning] lambda_l2 is set=0.2805297379820472, reg_lambda=0.0 will be ignored. Current value: lambda_l2=0.2805297379820472\n",
      "[LightGBM] [Warning] feature_fraction is set=0.9239728168223107, colsample_bytree=1.0 will be ignored. Current value: feature_fraction=0.9239728168223107\n",
      "[LightGBM] [Warning] bagging_fraction is set=0.8639423753629069, subsample=1.0 will be ignored. Current value: bagging_fraction=0.8639423753629069\n",
      "[LightGBM] [Warning] bagging_freq is set=1, subsample_freq=0 will be ignored. Current value: bagging_freq=1\n",
      "[LightGBM] [Warning] min_sum_hessian_in_leaf is set=1.680280298742381e-05, min_child_weight=0.001 will be ignored. Current value: min_sum_hessian_in_leaf=1.680280298742381e-05\n",
      "[LightGBM] [Warning] lambda_l1 is set=0.49244525250715315, reg_alpha=0.0 will be ignored. Current value: lambda_l1=0.49244525250715315\n",
      "[LightGBM] [Warning] lambda_l2 is set=0.047432327623995234, reg_lambda=0.0 will be ignored. Current value: lambda_l2=0.047432327623995234\n",
      "[LightGBM] [Warning] feature_fraction is set=0.5397040294456684, colsample_bytree=1.0 will be ignored. Current value: feature_fraction=0.5397040294456684\n",
      "[LightGBM] [Warning] bagging_fraction is set=0.9679591669887634, subsample=1.0 will be ignored. Current value: bagging_fraction=0.9679591669887634\n",
      "[LightGBM] [Warning] bagging_freq is set=1, subsample_freq=0 will be ignored. Current value: bagging_freq=1\n",
      "[LightGBM] [Warning] min_sum_hessian_in_leaf is set=8.188012497463723e-05, min_child_weight=0.001 will be ignored. Current value: min_sum_hessian_in_leaf=8.188012497463723e-05\n"
     ]
    },
    {
     "name": "stderr",
     "output_type": "stream",
     "text": [
      "\u001b[32m[I 2022-08-21 21:38:34,137]\u001b[0m Trial 2 finished with value: 0.7723815514715714 and parameters: {'num_leaves': 42, 'min_child_samples': 48, 'min_sum_hessian_in_leaf': 5.48452014988092e-05, 'feature_fraction': 0.9043259491835924, 'bagging_fraction': 0.906359643839176, 'lambda_l1': 15.716753441011617, 'lambda_l2': 21.463911049577813}. Best is trial 2 with value: 0.7723815514715714.\u001b[0m\n"
     ]
    },
    {
     "name": "stdout",
     "output_type": "stream",
     "text": [
      "[LightGBM] [Warning] lambda_l1 is set=0.01859106961325507, reg_alpha=0.0 will be ignored. Current value: lambda_l1=0.01859106961325507\n",
      "[LightGBM] [Warning] lambda_l2 is set=13.828628749394621, reg_lambda=0.0 will be ignored. Current value: lambda_l2=13.828628749394621\n",
      "[LightGBM] [Warning] feature_fraction is set=0.7965720493309374, colsample_bytree=1.0 will be ignored. Current value: feature_fraction=0.7965720493309374\n",
      "[LightGBM] [Warning] bagging_fraction is set=0.962498848817301, subsample=1.0 will be ignored. Current value: bagging_fraction=0.962498848817301\n",
      "[LightGBM] [Warning] bagging_freq is set=1, subsample_freq=0 will be ignored. Current value: bagging_freq=1\n",
      "[LightGBM] [Warning] min_sum_hessian_in_leaf is set=3.297325495339889e-05, min_child_weight=0.001 will be ignored. Current value: min_sum_hessian_in_leaf=3.297325495339889e-05\n"
     ]
    },
    {
     "name": "stderr",
     "output_type": "stream",
     "text": [
      "\u001b[32m[I 2022-08-21 21:38:42,195]\u001b[0m Trial 4 finished with value: 0.770205927323804 and parameters: {'num_leaves': 95, 'min_child_samples': 140, 'min_sum_hessian_in_leaf': 1.680280298742381e-05, 'feature_fraction': 0.9239728168223107, 'bagging_fraction': 0.8639423753629069, 'lambda_l1': 0.04050998057439114, 'lambda_l2': 0.2805297379820472}. Best is trial 2 with value: 0.7723815514715714.\u001b[0m\n"
     ]
    },
    {
     "name": "stdout",
     "output_type": "stream",
     "text": [
      "[LightGBM] [Warning] lambda_l1 is set=5.184428046558282, reg_alpha=0.0 will be ignored. Current value: lambda_l1=5.184428046558282\n",
      "[LightGBM] [Warning] lambda_l2 is set=48.165441146964, reg_lambda=0.0 will be ignored. Current value: lambda_l2=48.165441146964\n",
      "[LightGBM] [Warning] feature_fraction is set=0.8620390787205185, colsample_bytree=1.0 will be ignored. Current value: feature_fraction=0.8620390787205185\n",
      "[LightGBM] [Warning] bagging_fraction is set=0.8649616391001265, subsample=1.0 will be ignored. Current value: bagging_fraction=0.8649616391001265\n",
      "[LightGBM] [Warning] bagging_freq is set=1, subsample_freq=0 will be ignored. Current value: bagging_freq=1\n",
      "[LightGBM] [Warning] min_sum_hessian_in_leaf is set=1.913416784830372e-05, min_child_weight=0.001 will be ignored. Current value: min_sum_hessian_in_leaf=1.913416784830372e-05\n"
     ]
    },
    {
     "name": "stderr",
     "output_type": "stream",
     "text": [
      "\u001b[32m[I 2022-08-21 21:41:34,208]\u001b[0m Trial 0 finished with value: 0.7683445407605262 and parameters: {'num_leaves': 223, 'min_child_samples': 61, 'min_sum_hessian_in_leaf': 8.188012497463723e-05, 'feature_fraction': 0.5397040294456684, 'bagging_fraction': 0.9679591669887634, 'lambda_l1': 0.49244525250715315, 'lambda_l2': 0.047432327623995234}. Best is trial 2 with value: 0.7723815514715714.\u001b[0m\n"
     ]
    },
    {
     "name": "stdout",
     "output_type": "stream",
     "text": [
      "[LightGBM] [Warning] lambda_l1 is set=10.644070295927321, reg_alpha=0.0 will be ignored. Current value: lambda_l1=10.644070295927321\n",
      "[LightGBM] [Warning] lambda_l2 is set=0.016482547045625122, reg_lambda=0.0 will be ignored. Current value: lambda_l2=0.016482547045625122\n",
      "[LightGBM] [Warning] feature_fraction is set=0.9862171045107081, colsample_bytree=1.0 will be ignored. Current value: feature_fraction=0.9862171045107081\n",
      "[LightGBM] [Warning] bagging_fraction is set=0.9718332909528424, subsample=1.0 will be ignored. Current value: bagging_fraction=0.9718332909528424\n",
      "[LightGBM] [Warning] bagging_freq is set=1, subsample_freq=0 will be ignored. Current value: bagging_freq=1\n",
      "[LightGBM] [Warning] min_sum_hessian_in_leaf is set=4.1480225645145224e-05, min_child_weight=0.001 will be ignored. Current value: min_sum_hessian_in_leaf=4.1480225645145224e-05\n"
     ]
    },
    {
     "name": "stderr",
     "output_type": "stream",
     "text": [
      "\u001b[32m[I 2022-08-21 21:42:21,280]\u001b[0m Trial 3 finished with value: 0.7707029435273274 and parameters: {'num_leaves': 80, 'min_child_samples': 153, 'min_sum_hessian_in_leaf': 8.347220513308408e-05, 'feature_fraction': 0.5870319296708764, 'bagging_fraction': 0.5537508294943094, 'lambda_l1': 91.22214347058602, 'lambda_l2': 0.6980850615572954}. Best is trial 2 with value: 0.7723815514715714.\u001b[0m\n"
     ]
    },
    {
     "name": "stdout",
     "output_type": "stream",
     "text": [
      "[LightGBM] [Warning] lambda_l1 is set=27.368285231713507, reg_alpha=0.0 will be ignored. Current value: lambda_l1=27.368285231713507\n",
      "[LightGBM] [Warning] lambda_l2 is set=1.00806822133648, reg_lambda=0.0 will be ignored. Current value: lambda_l2=1.00806822133648\n",
      "[LightGBM] [Warning] feature_fraction is set=0.9583625483675053, colsample_bytree=1.0 will be ignored. Current value: feature_fraction=0.9583625483675053\n",
      "[LightGBM] [Warning] bagging_fraction is set=0.6935068486513007, subsample=1.0 will be ignored. Current value: bagging_fraction=0.6935068486513007\n",
      "[LightGBM] [Warning] bagging_freq is set=1, subsample_freq=0 will be ignored. Current value: bagging_freq=1\n",
      "[LightGBM] [Warning] min_sum_hessian_in_leaf is set=0.003819760032630982, min_child_weight=0.001 will be ignored. Current value: min_sum_hessian_in_leaf=0.003819760032630982\n"
     ]
    },
    {
     "name": "stderr",
     "output_type": "stream",
     "text": [
      "\u001b[32m[I 2022-08-21 21:42:54,177]\u001b[0m Trial 1 finished with value: 0.7696970590803353 and parameters: {'num_leaves': 256, 'min_child_samples': 193, 'min_sum_hessian_in_leaf': 0.003791879258201651, 'feature_fraction': 0.7493588391159747, 'bagging_fraction': 0.9170175332611694, 'lambda_l1': 0.06495342460248797, 'lambda_l2': 1.0144298733024533}. Best is trial 2 with value: 0.7723815514715714.\u001b[0m\n"
     ]
    },
    {
     "name": "stdout",
     "output_type": "stream",
     "text": [
      "[LightGBM] [Warning] lambda_l1 is set=3.103731814449755, reg_alpha=0.0 will be ignored. Current value: lambda_l1=3.103731814449755\n",
      "[LightGBM] [Warning] lambda_l2 is set=7.571708344736487, reg_lambda=0.0 will be ignored. Current value: lambda_l2=7.571708344736487\n",
      "[LightGBM] [Warning] feature_fraction is set=0.7478516013363387, colsample_bytree=1.0 will be ignored. Current value: feature_fraction=0.7478516013363387\n",
      "[LightGBM] [Warning] bagging_fraction is set=0.7165852232540617, subsample=1.0 will be ignored. Current value: bagging_fraction=0.7165852232540617\n",
      "[LightGBM] [Warning] bagging_freq is set=1, subsample_freq=0 will be ignored. Current value: bagging_freq=1\n",
      "[LightGBM] [Warning] min_sum_hessian_in_leaf is set=0.0020923782772411517, min_child_weight=0.001 will be ignored. Current value: min_sum_hessian_in_leaf=0.0020923782772411517\n"
     ]
    },
    {
     "name": "stderr",
     "output_type": "stream",
     "text": [
      "\u001b[32m[I 2022-08-21 21:44:49,350]\u001b[0m Trial 6 finished with value: 0.7716175170371739 and parameters: {'num_leaves': 184, 'min_child_samples': 155, 'min_sum_hessian_in_leaf': 1.913416784830372e-05, 'feature_fraction': 0.8620390787205185, 'bagging_fraction': 0.8649616391001265, 'lambda_l1': 5.184428046558282, 'lambda_l2': 48.165441146964}. Best is trial 2 with value: 0.7723815514715714.\u001b[0m\n"
     ]
    },
    {
     "name": "stdout",
     "output_type": "stream",
     "text": [
      "[LightGBM] [Warning] lambda_l1 is set=1.4374313799719816, reg_alpha=0.0 will be ignored. Current value: lambda_l1=1.4374313799719816\n",
      "[LightGBM] [Warning] lambda_l2 is set=61.87523451399158, reg_lambda=0.0 will be ignored. Current value: lambda_l2=61.87523451399158\n",
      "[LightGBM] [Warning] feature_fraction is set=0.9853969801852647, colsample_bytree=1.0 will be ignored. Current value: feature_fraction=0.9853969801852647\n",
      "[LightGBM] [Warning] bagging_fraction is set=0.9007943724981138, subsample=1.0 will be ignored. Current value: bagging_fraction=0.9007943724981138\n",
      "[LightGBM] [Warning] bagging_freq is set=1, subsample_freq=0 will be ignored. Current value: bagging_freq=1\n",
      "[LightGBM] [Warning] min_sum_hessian_in_leaf is set=0.002850601245173647, min_child_weight=0.001 will be ignored. Current value: min_sum_hessian_in_leaf=0.002850601245173647\n"
     ]
    },
    {
     "name": "stderr",
     "output_type": "stream",
     "text": [
      "\u001b[32m[I 2022-08-21 21:45:34,984]\u001b[0m Trial 5 finished with value: 0.7709259627965641 and parameters: {'num_leaves': 165, 'min_child_samples': 57, 'min_sum_hessian_in_leaf': 3.297325495339889e-05, 'feature_fraction': 0.7965720493309374, 'bagging_fraction': 0.962498848817301, 'lambda_l1': 0.01859106961325507, 'lambda_l2': 13.828628749394621}. Best is trial 2 with value: 0.7723815514715714.\u001b[0m\n"
     ]
    },
    {
     "name": "stdout",
     "output_type": "stream",
     "text": [
      "[LightGBM] [Warning] lambda_l1 is set=0.028989117784750305, reg_alpha=0.0 will be ignored. Current value: lambda_l1=0.028989117784750305\n",
      "[LightGBM] [Warning] lambda_l2 is set=0.12631235500930701, reg_lambda=0.0 will be ignored. Current value: lambda_l2=0.12631235500930701\n",
      "[LightGBM] [Warning] feature_fraction is set=0.7121905945353033, colsample_bytree=1.0 will be ignored. Current value: feature_fraction=0.7121905945353033\n",
      "[LightGBM] [Warning] bagging_fraction is set=0.8249893233238543, subsample=1.0 will be ignored. Current value: bagging_fraction=0.8249893233238543\n",
      "[LightGBM] [Warning] bagging_freq is set=1, subsample_freq=0 will be ignored. Current value: bagging_freq=1\n",
      "[LightGBM] [Warning] min_sum_hessian_in_leaf is set=0.002759576180776497, min_child_weight=0.001 will be ignored. Current value: min_sum_hessian_in_leaf=0.002759576180776497\n"
     ]
    },
    {
     "name": "stderr",
     "output_type": "stream",
     "text": [
      "\u001b[32m[I 2022-08-21 21:46:26,283]\u001b[0m Trial 7 finished with value: 0.7714110663996734 and parameters: {'num_leaves': 150, 'min_child_samples': 110, 'min_sum_hessian_in_leaf': 4.1480225645145224e-05, 'feature_fraction': 0.9862171045107081, 'bagging_fraction': 0.9718332909528424, 'lambda_l1': 10.644070295927321, 'lambda_l2': 0.016482547045625122}. Best is trial 2 with value: 0.7723815514715714.\u001b[0m\n"
     ]
    },
    {
     "name": "stdout",
     "output_type": "stream",
     "text": [
      "[LightGBM] [Warning] lambda_l1 is set=12.052854078897502, reg_alpha=0.0 will be ignored. Current value: lambda_l1=12.052854078897502\n",
      "[LightGBM] [Warning] lambda_l2 is set=6.8779315156364795, reg_lambda=0.0 will be ignored. Current value: lambda_l2=6.8779315156364795\n",
      "[LightGBM] [Warning] feature_fraction is set=0.5274996492216553, colsample_bytree=1.0 will be ignored. Current value: feature_fraction=0.5274996492216553\n",
      "[LightGBM] [Warning] bagging_fraction is set=0.7728409310636082, subsample=1.0 will be ignored. Current value: bagging_fraction=0.7728409310636082\n",
      "[LightGBM] [Warning] bagging_freq is set=1, subsample_freq=0 will be ignored. Current value: bagging_freq=1\n",
      "[LightGBM] [Warning] min_sum_hessian_in_leaf is set=0.0010572567404040878, min_child_weight=0.001 will be ignored. Current value: min_sum_hessian_in_leaf=0.0010572567404040878\n"
     ]
    },
    {
     "name": "stderr",
     "output_type": "stream",
     "text": [
      "\u001b[32m[I 2022-08-21 21:48:37,376]\u001b[0m Trial 10 finished with value: 0.7727876236631409 and parameters: {'num_leaves': 38, 'min_child_samples': 98, 'min_sum_hessian_in_leaf': 0.002850601245173647, 'feature_fraction': 0.9853969801852647, 'bagging_fraction': 0.9007943724981138, 'lambda_l1': 1.4374313799719816, 'lambda_l2': 61.87523451399158}. Best is trial 10 with value: 0.7727876236631409.\u001b[0m\n"
     ]
    },
    {
     "name": "stdout",
     "output_type": "stream",
     "text": [
      "[LightGBM] [Warning] lambda_l1 is set=0.013761581861878694, reg_alpha=0.0 will be ignored. Current value: lambda_l1=0.013761581861878694\n",
      "[LightGBM] [Warning] lambda_l2 is set=2.5873069322178197, reg_lambda=0.0 will be ignored. Current value: lambda_l2=2.5873069322178197\n",
      "[LightGBM] [Warning] feature_fraction is set=0.8466180549901794, colsample_bytree=1.0 will be ignored. Current value: feature_fraction=0.8466180549901794\n",
      "[LightGBM] [Warning] bagging_fraction is set=0.9330100185353658, subsample=1.0 will be ignored. Current value: bagging_fraction=0.9330100185353658\n",
      "[LightGBM] [Warning] bagging_freq is set=1, subsample_freq=0 will be ignored. Current value: bagging_freq=1\n",
      "[LightGBM] [Warning] min_sum_hessian_in_leaf is set=0.0021607205429487325, min_child_weight=0.001 will be ignored. Current value: min_sum_hessian_in_leaf=0.0021607205429487325\n"
     ]
    },
    {
     "name": "stderr",
     "output_type": "stream",
     "text": [
      "\u001b[32m[I 2022-08-21 21:48:46,489]\u001b[0m Trial 9 finished with value: 0.7692262940587651 and parameters: {'num_leaves': 206, 'min_child_samples': 156, 'min_sum_hessian_in_leaf': 0.0020923782772411517, 'feature_fraction': 0.7478516013363387, 'bagging_fraction': 0.7165852232540617, 'lambda_l1': 3.103731814449755, 'lambda_l2': 7.571708344736487}. Best is trial 10 with value: 0.7727876236631409.\u001b[0m\n"
     ]
    },
    {
     "name": "stdout",
     "output_type": "stream",
     "text": [
      "[LightGBM] [Warning] lambda_l1 is set=0.4757958376528302, reg_alpha=0.0 will be ignored. Current value: lambda_l1=0.4757958376528302\n",
      "[LightGBM] [Warning] lambda_l2 is set=3.9882014023017227, reg_lambda=0.0 will be ignored. Current value: lambda_l2=3.9882014023017227\n",
      "[LightGBM] [Warning] feature_fraction is set=0.6618652337303669, colsample_bytree=1.0 will be ignored. Current value: feature_fraction=0.6618652337303669\n",
      "[LightGBM] [Warning] bagging_fraction is set=0.7316326062463285, subsample=1.0 will be ignored. Current value: bagging_fraction=0.7316326062463285\n",
      "[LightGBM] [Warning] bagging_freq is set=1, subsample_freq=0 will be ignored. Current value: bagging_freq=1\n",
      "[LightGBM] [Warning] min_sum_hessian_in_leaf is set=0.0008537367695460064, min_child_weight=0.001 will be ignored. Current value: min_sum_hessian_in_leaf=0.0008537367695460064\n"
     ]
    },
    {
     "name": "stderr",
     "output_type": "stream",
     "text": [
      "\u001b[32m[I 2022-08-21 21:49:04,859]\u001b[0m Trial 8 finished with value: 0.7698051915782332 and parameters: {'num_leaves': 197, 'min_child_samples': 187, 'min_sum_hessian_in_leaf': 0.003819760032630982, 'feature_fraction': 0.9583625483675053, 'bagging_fraction': 0.6935068486513007, 'lambda_l1': 27.368285231713507, 'lambda_l2': 1.00806822133648}. Best is trial 10 with value: 0.7727876236631409.\u001b[0m\n"
     ]
    },
    {
     "name": "stdout",
     "output_type": "stream",
     "text": [
      "[LightGBM] [Warning] lambda_l1 is set=0.6119046221190197, reg_alpha=0.0 will be ignored. Current value: lambda_l1=0.6119046221190197\n",
      "[LightGBM] [Warning] lambda_l2 is set=97.2197733485338, reg_lambda=0.0 will be ignored. Current value: lambda_l2=97.2197733485338\n",
      "[LightGBM] [Warning] feature_fraction is set=0.8700519646182532, colsample_bytree=1.0 will be ignored. Current value: feature_fraction=0.8700519646182532\n",
      "[LightGBM] [Warning] bagging_fraction is set=0.8045252953849011, subsample=1.0 will be ignored. Current value: bagging_fraction=0.8045252953849011\n",
      "[LightGBM] [Warning] bagging_freq is set=1, subsample_freq=0 will be ignored. Current value: bagging_freq=1\n",
      "[LightGBM] [Warning] min_sum_hessian_in_leaf is set=0.0005377484945380236, min_child_weight=0.001 will be ignored. Current value: min_sum_hessian_in_leaf=0.0005377484945380236\n"
     ]
    },
    {
     "name": "stderr",
     "output_type": "stream",
     "text": [
      "\u001b[32m[I 2022-08-21 21:51:56,174]\u001b[0m Trial 14 finished with value: 0.7735956463720343 and parameters: {'num_leaves': 8, 'min_child_samples': 22, 'min_sum_hessian_in_leaf': 0.0008537367695460064, 'feature_fraction': 0.6618652337303669, 'bagging_fraction': 0.7316326062463285, 'lambda_l1': 0.4757958376528302, 'lambda_l2': 3.9882014023017227}. Best is trial 14 with value: 0.7735956463720343.\u001b[0m\n"
     ]
    },
    {
     "name": "stdout",
     "output_type": "stream",
     "text": [
      "[LightGBM] [Warning] lambda_l1 is set=0.46294047928162146, reg_alpha=0.0 will be ignored. Current value: lambda_l1=0.46294047928162146\n",
      "[LightGBM] [Warning] lambda_l2 is set=96.86920831027837, reg_lambda=0.0 will be ignored. Current value: lambda_l2=96.86920831027837\n",
      "[LightGBM] [Warning] feature_fraction is set=0.6568605137864092, colsample_bytree=1.0 will be ignored. Current value: feature_fraction=0.6568605137864092\n",
      "[LightGBM] [Warning] bagging_fraction is set=0.6213237656233003, subsample=1.0 will be ignored. Current value: bagging_fraction=0.6213237656233003\n",
      "[LightGBM] [Warning] bagging_freq is set=1, subsample_freq=0 will be ignored. Current value: bagging_freq=1\n",
      "[LightGBM] [Warning] min_sum_hessian_in_leaf is set=0.0006370656145601116, min_child_weight=0.001 will be ignored. Current value: min_sum_hessian_in_leaf=0.0006370656145601116\n"
     ]
    },
    {
     "name": "stderr",
     "output_type": "stream",
     "text": [
      "\u001b[32m[I 2022-08-21 21:52:16,503]\u001b[0m Trial 11 finished with value: 0.7689225263105846 and parameters: {'num_leaves': 161, 'min_child_samples': 139, 'min_sum_hessian_in_leaf': 0.002759576180776497, 'feature_fraction': 0.7121905945353033, 'bagging_fraction': 0.8249893233238543, 'lambda_l1': 0.028989117784750305, 'lambda_l2': 0.12631235500930701}. Best is trial 14 with value: 0.7735956463720343.\u001b[0m\n"
     ]
    },
    {
     "name": "stdout",
     "output_type": "stream",
     "text": [
      "[LightGBM] [Warning] lambda_l1 is set=0.451463794135174, reg_alpha=0.0 will be ignored. Current value: lambda_l1=0.451463794135174\n",
      "[LightGBM] [Warning] lambda_l2 is set=95.6242124403054, reg_lambda=0.0 will be ignored. Current value: lambda_l2=95.6242124403054\n",
      "[LightGBM] [Warning] feature_fraction is set=0.6476982553618769, colsample_bytree=1.0 will be ignored. Current value: feature_fraction=0.6476982553618769\n",
      "[LightGBM] [Warning] bagging_fraction is set=0.6366533872241327, subsample=1.0 will be ignored. Current value: bagging_fraction=0.6366533872241327\n",
      "[LightGBM] [Warning] bagging_freq is set=1, subsample_freq=0 will be ignored. Current value: bagging_freq=1\n",
      "[LightGBM] [Warning] min_sum_hessian_in_leaf is set=0.0007083324760446812, min_child_weight=0.001 will be ignored. Current value: min_sum_hessian_in_leaf=0.0007083324760446812\n"
     ]
    },
    {
     "name": "stderr",
     "output_type": "stream",
     "text": [
      "\u001b[32m[I 2022-08-21 21:53:21,194]\u001b[0m Trial 15 finished with value: 0.7743778489470154 and parameters: {'num_leaves': 11, 'min_child_samples': 25, 'min_sum_hessian_in_leaf': 0.0005377484945380236, 'feature_fraction': 0.8700519646182532, 'bagging_fraction': 0.8045252953849011, 'lambda_l1': 0.6119046221190197, 'lambda_l2': 97.2197733485338}. Best is trial 15 with value: 0.7743778489470154.\u001b[0m\n"
     ]
    },
    {
     "name": "stdout",
     "output_type": "stream",
     "text": [
      "[LightGBM] [Warning] lambda_l1 is set=0.2687709640587736, reg_alpha=0.0 will be ignored. Current value: lambda_l1=0.2687709640587736\n",
      "[LightGBM] [Warning] lambda_l2 is set=4.09992535314581, reg_lambda=0.0 will be ignored. Current value: lambda_l2=4.09992535314581\n",
      "[LightGBM] [Warning] feature_fraction is set=0.6375425703752879, colsample_bytree=1.0 will be ignored. Current value: feature_fraction=0.6375425703752879\n",
      "[LightGBM] [Warning] bagging_fraction is set=0.6167245335046145, subsample=1.0 will be ignored. Current value: bagging_fraction=0.6167245335046145\n",
      "[LightGBM] [Warning] bagging_freq is set=1, subsample_freq=0 will be ignored. Current value: bagging_freq=1\n",
      "[LightGBM] [Warning] min_sum_hessian_in_leaf is set=0.0005374585600936909, min_child_weight=0.001 will be ignored. Current value: min_sum_hessian_in_leaf=0.0005374585600936909\n"
     ]
    },
    {
     "name": "stderr",
     "output_type": "stream",
     "text": [
      "\u001b[32m[I 2022-08-21 21:55:10,895]\u001b[0m Trial 12 finished with value: 0.7707402380888513 and parameters: {'num_leaves': 166, 'min_child_samples': 106, 'min_sum_hessian_in_leaf': 0.0010572567404040878, 'feature_fraction': 0.5274996492216553, 'bagging_fraction': 0.7728409310636082, 'lambda_l1': 12.052854078897502, 'lambda_l2': 6.8779315156364795}. Best is trial 15 with value: 0.7743778489470154.\u001b[0m\n"
     ]
    },
    {
     "name": "stdout",
     "output_type": "stream",
     "text": [
      "[LightGBM] [Warning] lambda_l1 is set=0.20097462144205303, reg_alpha=0.0 will be ignored. Current value: lambda_l1=0.20097462144205303\n",
      "[LightGBM] [Warning] lambda_l2 is set=4.308715813475768, reg_lambda=0.0 will be ignored. Current value: lambda_l2=4.308715813475768\n",
      "[LightGBM] [Warning] feature_fraction is set=0.6598927001875795, colsample_bytree=1.0 will be ignored. Current value: feature_fraction=0.6598927001875795\n",
      "[LightGBM] [Warning] bagging_fraction is set=0.6334560805088645, subsample=1.0 will be ignored. Current value: bagging_fraction=0.6334560805088645\n",
      "[LightGBM] [Warning] bagging_freq is set=1, subsample_freq=0 will be ignored. Current value: bagging_freq=1\n",
      "[LightGBM] [Warning] min_sum_hessian_in_leaf is set=0.0002913867240366815, min_child_weight=0.001 will be ignored. Current value: min_sum_hessian_in_leaf=0.0002913867240366815\n"
     ]
    },
    {
     "name": "stderr",
     "output_type": "stream",
     "text": [
      "\u001b[32m[I 2022-08-21 21:56:53,093]\u001b[0m Trial 16 finished with value: 0.7742569275030987 and parameters: {'num_leaves': 14, 'min_child_samples': 7, 'min_sum_hessian_in_leaf': 0.0006370656145601116, 'feature_fraction': 0.6568605137864092, 'bagging_fraction': 0.6213237656233003, 'lambda_l1': 0.46294047928162146, 'lambda_l2': 96.86920831027837}. Best is trial 15 with value: 0.7743778489470154.\u001b[0m\n"
     ]
    },
    {
     "name": "stdout",
     "output_type": "stream",
     "text": [
      "[LightGBM] [Warning] lambda_l1 is set=0.15212155658205656, reg_alpha=0.0 will be ignored. Current value: lambda_l1=0.15212155658205656\n",
      "[LightGBM] [Warning] lambda_l2 is set=65.50106228300132, reg_lambda=0.0 will be ignored. Current value: lambda_l2=65.50106228300132\n",
      "[LightGBM] [Warning] feature_fraction is set=0.6384579130093758, colsample_bytree=1.0 will be ignored. Current value: feature_fraction=0.6384579130093758\n",
      "[LightGBM] [Warning] bagging_fraction is set=0.6209132714820212, subsample=1.0 will be ignored. Current value: bagging_fraction=0.6209132714820212\n",
      "[LightGBM] [Warning] bagging_freq is set=1, subsample_freq=0 will be ignored. Current value: bagging_freq=1\n",
      "[LightGBM] [Warning] min_sum_hessian_in_leaf is set=0.0002616829846359229, min_child_weight=0.001 will be ignored. Current value: min_sum_hessian_in_leaf=0.0002616829846359229\n"
     ]
    },
    {
     "name": "stderr",
     "output_type": "stream",
     "text": [
      "\u001b[32m[I 2022-08-21 21:57:09,461]\u001b[0m Trial 18 finished with value: 0.7735479496594311 and parameters: {'num_leaves': 17, 'min_child_samples': 13, 'min_sum_hessian_in_leaf': 0.0005374585600936909, 'feature_fraction': 0.6375425703752879, 'bagging_fraction': 0.6167245335046145, 'lambda_l1': 0.2687709640587736, 'lambda_l2': 4.09992535314581}. Best is trial 15 with value: 0.7743778489470154.\u001b[0m\n"
     ]
    },
    {
     "name": "stdout",
     "output_type": "stream",
     "text": [
      "[LightGBM] [Warning] lambda_l1 is set=0.13577554664706304, reg_alpha=0.0 will be ignored. Current value: lambda_l1=0.13577554664706304\n",
      "[LightGBM] [Warning] lambda_l2 is set=68.17221152510142, reg_lambda=0.0 will be ignored. Current value: lambda_l2=68.17221152510142\n",
      "[LightGBM] [Warning] feature_fraction is set=0.837722806918509, colsample_bytree=1.0 will be ignored. Current value: feature_fraction=0.837722806918509\n",
      "[LightGBM] [Warning] bagging_fraction is set=0.6485046104509826, subsample=1.0 will be ignored. Current value: bagging_fraction=0.6485046104509826\n",
      "[LightGBM] [Warning] bagging_freq is set=1, subsample_freq=0 will be ignored. Current value: bagging_freq=1\n",
      "[LightGBM] [Warning] min_sum_hessian_in_leaf is set=0.00022286335046331693, min_child_weight=0.001 will be ignored. Current value: min_sum_hessian_in_leaf=0.00022286335046331693\n"
     ]
    },
    {
     "name": "stderr",
     "output_type": "stream",
     "text": [
      "\u001b[32m[I 2022-08-21 21:57:14,971]\u001b[0m Trial 17 finished with value: 0.773915181216337 and parameters: {'num_leaves': 18, 'min_child_samples': 8, 'min_sum_hessian_in_leaf': 0.0007083324760446812, 'feature_fraction': 0.6476982553618769, 'bagging_fraction': 0.6366533872241327, 'lambda_l1': 0.451463794135174, 'lambda_l2': 95.6242124403054}. Best is trial 15 with value: 0.7743778489470154.\u001b[0m\n"
     ]
    },
    {
     "name": "stdout",
     "output_type": "stream",
     "text": [
      "[LightGBM] [Warning] lambda_l1 is set=0.13145339432513747, reg_alpha=0.0 will be ignored. Current value: lambda_l1=0.13145339432513747\n",
      "[LightGBM] [Warning] lambda_l2 is set=25.96489595798558, reg_lambda=0.0 will be ignored. Current value: lambda_l2=25.96489595798558\n",
      "[LightGBM] [Warning] feature_fraction is set=0.8269598949103292, colsample_bytree=1.0 will be ignored. Current value: feature_fraction=0.8269598949103292\n",
      "[LightGBM] [Warning] bagging_fraction is set=0.5292011024479542, subsample=1.0 will be ignored. Current value: bagging_fraction=0.5292011024479542\n",
      "[LightGBM] [Warning] bagging_freq is set=1, subsample_freq=0 will be ignored. Current value: bagging_freq=1\n",
      "[LightGBM] [Warning] min_sum_hessian_in_leaf is set=0.009656101907847128, min_child_weight=0.001 will be ignored. Current value: min_sum_hessian_in_leaf=0.009656101907847128\n"
     ]
    },
    {
     "name": "stderr",
     "output_type": "stream",
     "text": [
      "\u001b[32m[I 2022-08-21 21:58:56,454]\u001b[0m Trial 19 finished with value: 0.7733959785070184 and parameters: {'num_leaves': 10, 'min_child_samples': 15, 'min_sum_hessian_in_leaf': 0.0002913867240366815, 'feature_fraction': 0.6598927001875795, 'bagging_fraction': 0.6334560805088645, 'lambda_l1': 0.20097462144205303, 'lambda_l2': 4.308715813475768}. Best is trial 15 with value: 0.7743778489470154.\u001b[0m\n"
     ]
    },
    {
     "name": "stdout",
     "output_type": "stream",
     "text": [
      "[LightGBM] [Warning] lambda_l1 is set=0.08876904032962252, reg_alpha=0.0 will be ignored. Current value: lambda_l1=0.08876904032962252\n",
      "[LightGBM] [Warning] lambda_l2 is set=27.456180865036266, reg_lambda=0.0 will be ignored. Current value: lambda_l2=27.456180865036266\n",
      "[LightGBM] [Warning] feature_fraction is set=0.8263722048810497, colsample_bytree=1.0 will be ignored. Current value: feature_fraction=0.8263722048810497\n",
      "[LightGBM] [Warning] bagging_fraction is set=0.506500111952988, subsample=1.0 will be ignored. Current value: bagging_fraction=0.506500111952988\n",
      "[LightGBM] [Warning] bagging_freq is set=1, subsample_freq=0 will be ignored. Current value: bagging_freq=1\n",
      "[LightGBM] [Warning] min_sum_hessian_in_leaf is set=0.009591191054901827, min_child_weight=0.001 will be ignored. Current value: min_sum_hessian_in_leaf=0.009591191054901827\n"
     ]
    },
    {
     "name": "stderr",
     "output_type": "stream",
     "text": [
      "\u001b[32m[I 2022-08-21 21:59:14,569]\u001b[0m Trial 13 finished with value: 0.768148919759766 and parameters: {'num_leaves': 236, 'min_child_samples': 150, 'min_sum_hessian_in_leaf': 0.0021607205429487325, 'feature_fraction': 0.8466180549901794, 'bagging_fraction': 0.9330100185353658, 'lambda_l1': 0.013761581861878694, 'lambda_l2': 2.5873069322178197}. Best is trial 15 with value: 0.7743778489470154.\u001b[0m\n"
     ]
    },
    {
     "name": "stdout",
     "output_type": "stream",
     "text": [
      "[LightGBM] [Warning] lambda_l1 is set=0.09946189132071201, reg_alpha=0.0 will be ignored. Current value: lambda_l1=0.09946189132071201\n",
      "[LightGBM] [Warning] lambda_l2 is set=25.795535011686788, reg_lambda=0.0 will be ignored. Current value: lambda_l2=25.795535011686788\n",
      "[LightGBM] [Warning] feature_fraction is set=0.7883119056201539, colsample_bytree=1.0 will be ignored. Current value: feature_fraction=0.7883119056201539\n",
      "[LightGBM] [Warning] bagging_fraction is set=0.5008753654809175, subsample=1.0 will be ignored. Current value: bagging_fraction=0.5008753654809175\n",
      "[LightGBM] [Warning] bagging_freq is set=1, subsample_freq=0 will be ignored. Current value: bagging_freq=1\n",
      "[LightGBM] [Warning] min_sum_hessian_in_leaf is set=0.0002263021076537235, min_child_weight=0.001 will be ignored. Current value: min_sum_hessian_in_leaf=0.0002263021076537235\n"
     ]
    },
    {
     "name": "stderr",
     "output_type": "stream",
     "text": [
      "\u001b[32m[I 2022-08-21 22:01:44,991]\u001b[0m Trial 22 finished with value: 0.769621650609771 and parameters: {'num_leaves': 91, 'min_child_samples': 34, 'min_sum_hessian_in_leaf': 0.009656101907847128, 'feature_fraction': 0.8269598949103292, 'bagging_fraction': 0.5292011024479542, 'lambda_l1': 0.13145339432513747, 'lambda_l2': 25.96489595798558}. Best is trial 15 with value: 0.7743778489470154.\u001b[0m\n"
     ]
    },
    {
     "name": "stdout",
     "output_type": "stream",
     "text": [
      "[LightGBM] [Warning] lambda_l1 is set=1.1485240167796371, reg_alpha=0.0 will be ignored. Current value: lambda_l1=1.1485240167796371\n",
      "[LightGBM] [Warning] lambda_l2 is set=71.45012425188267, reg_lambda=0.0 will be ignored. Current value: lambda_l2=71.45012425188267\n",
      "[LightGBM] [Warning] feature_fraction is set=0.5963809969244953, colsample_bytree=1.0 will be ignored. Current value: feature_fraction=0.5963809969244953\n",
      "[LightGBM] [Warning] bagging_fraction is set=0.6298445712145154, subsample=1.0 will be ignored. Current value: bagging_fraction=0.6298445712145154\n",
      "[LightGBM] [Warning] bagging_freq is set=1, subsample_freq=0 will be ignored. Current value: bagging_freq=1\n",
      "[LightGBM] [Warning] min_sum_hessian_in_leaf is set=0.00022628702977767887, min_child_weight=0.001 will be ignored. Current value: min_sum_hessian_in_leaf=0.00022628702977767887\n"
     ]
    },
    {
     "name": "stderr",
     "output_type": "stream",
     "text": [
      "\u001b[32m[I 2022-08-21 22:02:10,620]\u001b[0m Trial 20 finished with value: 0.7737752615971784 and parameters: {'num_leaves': 8, 'min_child_samples': 7, 'min_sum_hessian_in_leaf': 0.0002616829846359229, 'feature_fraction': 0.6384579130093758, 'bagging_fraction': 0.6209132714820212, 'lambda_l1': 0.15212155658205656, 'lambda_l2': 65.50106228300132}. Best is trial 15 with value: 0.7743778489470154.\u001b[0m\n"
     ]
    },
    {
     "name": "stdout",
     "output_type": "stream",
     "text": [
      "[LightGBM] [Warning] lambda_l1 is set=0.8362953493097847, reg_alpha=0.0 will be ignored. Current value: lambda_l1=0.8362953493097847\n",
      "[LightGBM] [Warning] lambda_l2 is set=73.48235991742617, reg_lambda=0.0 will be ignored. Current value: lambda_l2=73.48235991742617\n",
      "[LightGBM] [Warning] feature_fraction is set=0.709648124306598, colsample_bytree=1.0 will be ignored. Current value: feature_fraction=0.709648124306598\n",
      "[LightGBM] [Warning] bagging_fraction is set=0.7837580614950457, subsample=1.0 will be ignored. Current value: bagging_fraction=0.7837580614950457\n",
      "[LightGBM] [Warning] bagging_freq is set=1, subsample_freq=0 will be ignored. Current value: bagging_freq=1\n",
      "[LightGBM] [Warning] min_sum_hessian_in_leaf is set=0.0001621890040525774, min_child_weight=0.001 will be ignored. Current value: min_sum_hessian_in_leaf=0.0001621890040525774\n"
     ]
    },
    {
     "name": "stderr",
     "output_type": "stream",
     "text": [
      "\u001b[32m[I 2022-08-21 22:02:32,380]\u001b[0m Trial 21 finished with value: 0.7703975976445826 and parameters: {'num_leaves': 101, 'min_child_samples': 36, 'min_sum_hessian_in_leaf': 0.00022286335046331693, 'feature_fraction': 0.837722806918509, 'bagging_fraction': 0.6485046104509826, 'lambda_l1': 0.13577554664706304, 'lambda_l2': 68.17221152510142}. Best is trial 15 with value: 0.7743778489470154.\u001b[0m\n"
     ]
    },
    {
     "name": "stdout",
     "output_type": "stream",
     "text": [
      "[LightGBM] [Warning] lambda_l1 is set=1.0125480729560796, reg_alpha=0.0 will be ignored. Current value: lambda_l1=1.0125480729560796\n",
      "[LightGBM] [Warning] lambda_l2 is set=96.70883077409039, reg_lambda=0.0 will be ignored. Current value: lambda_l2=96.70883077409039\n",
      "[LightGBM] [Warning] feature_fraction is set=0.5889218291922617, colsample_bytree=1.0 will be ignored. Current value: feature_fraction=0.5889218291922617\n",
      "[LightGBM] [Warning] bagging_fraction is set=0.7946029314001878, subsample=1.0 will be ignored. Current value: bagging_fraction=0.7946029314001878\n",
      "[LightGBM] [Warning] bagging_freq is set=1, subsample_freq=0 will be ignored. Current value: bagging_freq=1\n",
      "[LightGBM] [Warning] min_sum_hessian_in_leaf is set=0.0005382052780821857, min_child_weight=0.001 will be ignored. Current value: min_sum_hessian_in_leaf=0.0005382052780821857\n"
     ]
    },
    {
     "name": "stderr",
     "output_type": "stream",
     "text": [
      "\u001b[32m[I 2022-08-21 22:04:12,613]\u001b[0m Trial 24 finished with value: 0.7698946714517986 and parameters: {'num_leaves': 92, 'min_child_samples': 35, 'min_sum_hessian_in_leaf': 0.0002263021076537235, 'feature_fraction': 0.7883119056201539, 'bagging_fraction': 0.5008753654809175, 'lambda_l1': 0.09946189132071201, 'lambda_l2': 25.795535011686788}. Best is trial 15 with value: 0.7743778489470154.\u001b[0m\n"
     ]
    },
    {
     "name": "stdout",
     "output_type": "stream",
     "text": [
      "[LightGBM] [Warning] lambda_l1 is set=0.9421152160273982, reg_alpha=0.0 will be ignored. Current value: lambda_l1=0.9421152160273982\n",
      "[LightGBM] [Warning] lambda_l2 is set=99.85221188382968, reg_lambda=0.0 will be ignored. Current value: lambda_l2=99.85221188382968\n",
      "[LightGBM] [Warning] feature_fraction is set=0.6955844817303791, colsample_bytree=1.0 will be ignored. Current value: feature_fraction=0.6955844817303791\n",
      "[LightGBM] [Warning] bagging_fraction is set=0.77320309738644, subsample=1.0 will be ignored. Current value: bagging_fraction=0.77320309738644\n",
      "[LightGBM] [Warning] bagging_freq is set=1, subsample_freq=0 will be ignored. Current value: bagging_freq=1\n",
      "[LightGBM] [Warning] min_sum_hessian_in_leaf is set=0.0005396332277942413, min_child_weight=0.001 will be ignored. Current value: min_sum_hessian_in_leaf=0.0005396332277942413\n"
     ]
    },
    {
     "name": "stderr",
     "output_type": "stream",
     "text": [
      "\u001b[32m[I 2022-08-21 22:04:25,623]\u001b[0m Trial 23 finished with value: 0.7679614815470293 and parameters: {'num_leaves': 97, 'min_child_samples': 36, 'min_sum_hessian_in_leaf': 0.009591191054901827, 'feature_fraction': 0.8263722048810497, 'bagging_fraction': 0.506500111952988, 'lambda_l1': 0.08876904032962252, 'lambda_l2': 27.456180865036266}. Best is trial 15 with value: 0.7743778489470154.\u001b[0m\n"
     ]
    },
    {
     "name": "stdout",
     "output_type": "stream",
     "text": [
      "[LightGBM] [Warning] lambda_l1 is set=0.9208759962726251, reg_alpha=0.0 will be ignored. Current value: lambda_l1=0.9208759962726251\n",
      "[LightGBM] [Warning] lambda_l2 is set=75.88913346000611, reg_lambda=0.0 will be ignored. Current value: lambda_l2=75.88913346000611\n",
      "[LightGBM] [Warning] feature_fraction is set=0.5885879784580903, colsample_bytree=1.0 will be ignored. Current value: feature_fraction=0.5885879784580903\n",
      "[LightGBM] [Warning] bagging_fraction is set=0.5811970231350583, subsample=1.0 will be ignored. Current value: bagging_fraction=0.5811970231350583\n",
      "[LightGBM] [Warning] bagging_freq is set=1, subsample_freq=0 will be ignored. Current value: bagging_freq=1\n",
      "[LightGBM] [Warning] min_sum_hessian_in_leaf is set=0.0005220392266875909, min_child_weight=0.001 will be ignored. Current value: min_sum_hessian_in_leaf=0.0005220392266875909\n"
     ]
    },
    {
     "name": "stderr",
     "output_type": "stream",
     "text": [
      "\u001b[32m[I 2022-08-21 22:06:06,701]\u001b[0m Trial 26 finished with value: 0.7723215004233712 and parameters: {'num_leaves': 55, 'min_child_samples': 76, 'min_sum_hessian_in_leaf': 0.0001621890040525774, 'feature_fraction': 0.709648124306598, 'bagging_fraction': 0.7837580614950457, 'lambda_l1': 0.8362953493097847, 'lambda_l2': 73.48235991742617}. Best is trial 15 with value: 0.7743778489470154.\u001b[0m\n"
     ]
    },
    {
     "name": "stdout",
     "output_type": "stream",
     "text": [
      "[LightGBM] [Warning] lambda_l1 is set=2.4726434246074382, reg_alpha=0.0 will be ignored. Current value: lambda_l1=2.4726434246074382\n",
      "[LightGBM] [Warning] lambda_l2 is set=91.07248537769459, reg_lambda=0.0 will be ignored. Current value: lambda_l2=91.07248537769459\n",
      "[LightGBM] [Warning] feature_fraction is set=0.5909683742127303, colsample_bytree=1.0 will be ignored. Current value: feature_fraction=0.5909683742127303\n",
      "[LightGBM] [Warning] bagging_fraction is set=0.5801630596092617, subsample=1.0 will be ignored. Current value: bagging_fraction=0.5801630596092617\n",
      "[LightGBM] [Warning] bagging_freq is set=1, subsample_freq=0 will be ignored. Current value: bagging_freq=1\n",
      "[LightGBM] [Warning] min_sum_hessian_in_leaf is set=0.0005772052474626425, min_child_weight=0.001 will be ignored. Current value: min_sum_hessian_in_leaf=0.0005772052474626425\n"
     ]
    },
    {
     "name": "stderr",
     "output_type": "stream",
     "text": [
      "\u001b[32m[I 2022-08-21 22:06:51,334]\u001b[0m Trial 25 finished with value: 0.7725751775392479 and parameters: {'num_leaves': 57, 'min_child_samples': 6, 'min_sum_hessian_in_leaf': 0.00022628702977767887, 'feature_fraction': 0.5963809969244953, 'bagging_fraction': 0.6298445712145154, 'lambda_l1': 1.1485240167796371, 'lambda_l2': 71.45012425188267}. Best is trial 15 with value: 0.7743778489470154.\u001b[0m\n"
     ]
    },
    {
     "name": "stdout",
     "output_type": "stream",
     "text": [
      "[LightGBM] [Warning] lambda_l1 is set=2.601715296568575, reg_alpha=0.0 will be ignored. Current value: lambda_l1=2.601715296568575\n",
      "[LightGBM] [Warning] lambda_l2 is set=13.158035397868995, reg_lambda=0.0 will be ignored. Current value: lambda_l2=13.158035397868995\n",
      "[LightGBM] [Warning] feature_fraction is set=0.6998672667670904, colsample_bytree=1.0 will be ignored. Current value: feature_fraction=0.6998672667670904\n",
      "[LightGBM] [Warning] bagging_fraction is set=0.5818869874266809, subsample=1.0 will be ignored. Current value: bagging_fraction=0.5818869874266809\n",
      "[LightGBM] [Warning] bagging_freq is set=1, subsample_freq=0 will be ignored. Current value: bagging_freq=1\n",
      "[LightGBM] [Warning] min_sum_hessian_in_leaf is set=0.0006280765446565473, min_child_weight=0.001 will be ignored. Current value: min_sum_hessian_in_leaf=0.0006280765446565473\n"
     ]
    },
    {
     "name": "stderr",
     "output_type": "stream",
     "text": [
      "\u001b[32m[I 2022-08-21 22:07:31,447]\u001b[0m Trial 27 finished with value: 0.7725169860536721 and parameters: {'num_leaves': 56, 'min_child_samples': 75, 'min_sum_hessian_in_leaf': 0.0005382052780821857, 'feature_fraction': 0.5889218291922617, 'bagging_fraction': 0.7946029314001878, 'lambda_l1': 1.0125480729560796, 'lambda_l2': 96.70883077409039}. Best is trial 15 with value: 0.7743778489470154.\u001b[0m\n"
     ]
    },
    {
     "name": "stdout",
     "output_type": "stream",
     "text": [
      "[LightGBM] [Warning] lambda_l1 is set=2.585091633053706, reg_alpha=0.0 will be ignored. Current value: lambda_l1=2.585091633053706\n",
      "[LightGBM] [Warning] lambda_l2 is set=12.21106402728719, reg_lambda=0.0 will be ignored. Current value: lambda_l2=12.21106402728719\n",
      "[LightGBM] [Warning] feature_fraction is set=0.696155685443899, colsample_bytree=1.0 will be ignored. Current value: feature_fraction=0.696155685443899\n",
      "[LightGBM] [Warning] bagging_fraction is set=0.5786623013489685, subsample=1.0 will be ignored. Current value: bagging_fraction=0.5786623013489685\n",
      "[LightGBM] [Warning] bagging_freq is set=1, subsample_freq=0 will be ignored. Current value: bagging_freq=1\n",
      "[LightGBM] [Warning] min_sum_hessian_in_leaf is set=0.0011694591436236309, min_child_weight=0.001 will be ignored. Current value: min_sum_hessian_in_leaf=0.0011694591436236309\n"
     ]
    },
    {
     "name": "stderr",
     "output_type": "stream",
     "text": [
      "\u001b[32m[I 2022-08-21 22:09:02,381]\u001b[0m Trial 28 finished with value: 0.7727382098831337 and parameters: {'num_leaves': 48, 'min_child_samples': 74, 'min_sum_hessian_in_leaf': 0.0005396332277942413, 'feature_fraction': 0.6955844817303791, 'bagging_fraction': 0.77320309738644, 'lambda_l1': 0.9421152160273982, 'lambda_l2': 99.85221188382968}. Best is trial 15 with value: 0.7743778489470154.\u001b[0m\n"
     ]
    },
    {
     "name": "stdout",
     "output_type": "stream",
     "text": [
      "[LightGBM] [Warning] lambda_l1 is set=2.4347841662054392, reg_alpha=0.0 will be ignored. Current value: lambda_l1=2.4347841662054392\n",
      "[LightGBM] [Warning] lambda_l2 is set=10.185296917613021, reg_lambda=0.0 will be ignored. Current value: lambda_l2=10.185296917613021\n",
      "[LightGBM] [Warning] feature_fraction is set=0.5728186836546812, colsample_bytree=1.0 will be ignored. Current value: feature_fraction=0.5728186836546812\n",
      "[LightGBM] [Warning] bagging_fraction is set=0.6839786197906818, subsample=1.0 will be ignored. Current value: bagging_fraction=0.6839786197906818\n",
      "[LightGBM] [Warning] bagging_freq is set=1, subsample_freq=0 will be ignored. Current value: bagging_freq=1\n",
      "[LightGBM] [Warning] min_sum_hessian_in_leaf is set=0.0010714299685246624, min_child_weight=0.001 will be ignored. Current value: min_sum_hessian_in_leaf=0.0010714299685246624\n"
     ]
    },
    {
     "name": "stderr",
     "output_type": "stream",
     "text": [
      "\u001b[32m[I 2022-08-21 22:09:19,867]\u001b[0m Trial 29 finished with value: 0.7715146390505231 and parameters: {'num_leaves': 55, 'min_child_samples': 78, 'min_sum_hessian_in_leaf': 0.0005220392266875909, 'feature_fraction': 0.5885879784580903, 'bagging_fraction': 0.5811970231350583, 'lambda_l1': 0.9208759962726251, 'lambda_l2': 75.88913346000611}. Best is trial 15 with value: 0.7743778489470154.\u001b[0m\n"
     ]
    },
    {
     "name": "stdout",
     "output_type": "stream",
     "text": [
      "[LightGBM] [Warning] lambda_l1 is set=0.35410464652622836, reg_alpha=0.0 will be ignored. Current value: lambda_l1=0.35410464652622836\n",
      "[LightGBM] [Warning] lambda_l2 is set=9.242984865681791, reg_lambda=0.0 will be ignored. Current value: lambda_l2=9.242984865681791\n",
      "[LightGBM] [Warning] feature_fraction is set=0.5583392496388081, colsample_bytree=1.0 will be ignored. Current value: feature_fraction=0.5583392496388081\n",
      "[LightGBM] [Warning] bagging_fraction is set=0.6859971415305488, subsample=1.0 will be ignored. Current value: bagging_fraction=0.6859971415305488\n",
      "[LightGBM] [Warning] bagging_freq is set=1, subsample_freq=0 will be ignored. Current value: bagging_freq=1\n",
      "[LightGBM] [Warning] min_sum_hessian_in_leaf is set=0.001189586086519933, min_child_weight=0.001 will be ignored. Current value: min_sum_hessian_in_leaf=0.001189586086519933\n"
     ]
    },
    {
     "name": "stderr",
     "output_type": "stream",
     "text": [
      "\u001b[32m[I 2022-08-21 22:10:18,609]\u001b[0m Trial 31 finished with value: 0.7720608552912233 and parameters: {'num_leaves': 34, 'min_child_samples': 78, 'min_sum_hessian_in_leaf': 0.0006280765446565473, 'feature_fraction': 0.6998672667670904, 'bagging_fraction': 0.5818869874266809, 'lambda_l1': 2.601715296568575, 'lambda_l2': 13.158035397868995}. Best is trial 15 with value: 0.7743778489470154.\u001b[0m\n"
     ]
    },
    {
     "name": "stdout",
     "output_type": "stream",
     "text": [
      "[LightGBM] [Warning] lambda_l1 is set=0.3112176052743112, reg_alpha=0.0 will be ignored. Current value: lambda_l1=0.3112176052743112\n",
      "[LightGBM] [Warning] lambda_l2 is set=34.24149165193612, reg_lambda=0.0 will be ignored. Current value: lambda_l2=34.24149165193612\n",
      "[LightGBM] [Warning] feature_fraction is set=0.6313249468259439, colsample_bytree=1.0 will be ignored. Current value: feature_fraction=0.6313249468259439\n",
      "[LightGBM] [Warning] bagging_fraction is set=0.679286485899536, subsample=1.0 will be ignored. Current value: bagging_fraction=0.679286485899536\n",
      "[LightGBM] [Warning] bagging_freq is set=1, subsample_freq=0 will be ignored. Current value: bagging_freq=1\n",
      "[LightGBM] [Warning] min_sum_hessian_in_leaf is set=0.0010854048215552905, min_child_weight=0.001 will be ignored. Current value: min_sum_hessian_in_leaf=0.0010854048215552905\n"
     ]
    },
    {
     "name": "stderr",
     "output_type": "stream",
     "text": [
      "\u001b[32m[I 2022-08-21 22:35:15,490]\u001b[0m Trial 30 finished with value: 0.7712849225059338 and parameters: {'num_leaves': 66, 'min_child_samples': 76, 'min_sum_hessian_in_leaf': 0.0005772052474626425, 'feature_fraction': 0.5909683742127303, 'bagging_fraction': 0.5801630596092617, 'lambda_l1': 2.4726434246074382, 'lambda_l2': 91.07248537769459}. Best is trial 15 with value: 0.7743778489470154.\u001b[0m\n"
     ]
    },
    {
     "name": "stdout",
     "output_type": "stream",
     "text": [
      "[LightGBM] [Warning] lambda_l1 is set=0.33717136037550877, reg_alpha=0.0 will be ignored. Current value: lambda_l1=0.33717136037550877\n",
      "[LightGBM] [Warning] lambda_l2 is set=42.5427504666616, reg_lambda=0.0 will be ignored. Current value: lambda_l2=42.5427504666616\n",
      "[LightGBM] [Warning] feature_fraction is set=0.6299131067618229, colsample_bytree=1.0 will be ignored. Current value: feature_fraction=0.6299131067618229\n",
      "[LightGBM] [Warning] bagging_fraction is set=0.6769058599490055, subsample=1.0 will be ignored. Current value: bagging_fraction=0.6769058599490055\n",
      "[LightGBM] [Warning] bagging_freq is set=1, subsample_freq=0 will be ignored. Current value: bagging_freq=1\n",
      "[LightGBM] [Warning] min_sum_hessian_in_leaf is set=0.00012205367773072142, min_child_weight=0.001 will be ignored. Current value: min_sum_hessian_in_leaf=0.00012205367773072142\n"
     ]
    },
    {
     "name": "stderr",
     "output_type": "stream",
     "text": [
      "\u001b[32m[I 2022-08-21 22:37:06,610]\u001b[0m Trial 32 finished with value: 0.769152855584621 and parameters: {'num_leaves': 121, 'min_child_samples': 23, 'min_sum_hessian_in_leaf': 0.0011694591436236309, 'feature_fraction': 0.696155685443899, 'bagging_fraction': 0.5786623013489685, 'lambda_l1': 2.585091633053706, 'lambda_l2': 12.21106402728719}. Best is trial 15 with value: 0.7743778489470154.\u001b[0m\n"
     ]
    },
    {
     "name": "stdout",
     "output_type": "stream",
     "text": [
      "[LightGBM] [Warning] lambda_l1 is set=0.44557725629656164, reg_alpha=0.0 will be ignored. Current value: lambda_l1=0.44557725629656164\n",
      "[LightGBM] [Warning] lambda_l2 is set=38.760723520938335, reg_lambda=0.0 will be ignored. Current value: lambda_l2=38.760723520938335\n",
      "[LightGBM] [Warning] feature_fraction is set=0.6354557011290742, colsample_bytree=1.0 will be ignored. Current value: feature_fraction=0.6354557011290742\n",
      "[LightGBM] [Warning] bagging_fraction is set=0.6855657760434649, subsample=1.0 will be ignored. Current value: bagging_fraction=0.6855657760434649\n",
      "[LightGBM] [Warning] bagging_freq is set=1, subsample_freq=0 will be ignored. Current value: bagging_freq=1\n",
      "[LightGBM] [Warning] min_sum_hessian_in_leaf is set=0.00012425892083694424, min_child_weight=0.001 will be ignored. Current value: min_sum_hessian_in_leaf=0.00012425892083694424\n"
     ]
    },
    {
     "name": "stderr",
     "output_type": "stream",
     "text": [
      "\u001b[32m[I 2022-08-21 22:37:24,514]\u001b[0m Trial 34 finished with value: 0.7729377673143538 and parameters: {'num_leaves': 29, 'min_child_samples': 24, 'min_sum_hessian_in_leaf': 0.001189586086519933, 'feature_fraction': 0.5583392496388081, 'bagging_fraction': 0.6859971415305488, 'lambda_l1': 0.35410464652622836, 'lambda_l2': 9.242984865681791}. Best is trial 15 with value: 0.7743778489470154.\u001b[0m\n"
     ]
    },
    {
     "name": "stdout",
     "output_type": "stream",
     "text": [
      "[LightGBM] [Warning] lambda_l1 is set=0.5556614027922642, reg_alpha=0.0 will be ignored. Current value: lambda_l1=0.5556614027922642\n",
      "[LightGBM] [Warning] lambda_l2 is set=37.72787263039407, reg_lambda=0.0 will be ignored. Current value: lambda_l2=37.72787263039407\n",
      "[LightGBM] [Warning] feature_fraction is set=0.6389002825903655, colsample_bytree=1.0 will be ignored. Current value: feature_fraction=0.6389002825903655\n",
      "[LightGBM] [Warning] bagging_fraction is set=0.6651164523515503, subsample=1.0 will be ignored. Current value: bagging_fraction=0.6651164523515503\n",
      "[LightGBM] [Warning] bagging_freq is set=1, subsample_freq=0 will be ignored. Current value: bagging_freq=1\n",
      "[LightGBM] [Warning] min_sum_hessian_in_leaf is set=9.11884557943438e-05, min_child_weight=0.001 will be ignored. Current value: min_sum_hessian_in_leaf=9.11884557943438e-05\n"
     ]
    },
    {
     "name": "stderr",
     "output_type": "stream",
     "text": [
      "\u001b[32m[I 2022-08-21 22:38:19,704]\u001b[0m Trial 35 finished with value: 0.7738965214672434 and parameters: {'num_leaves': 24, 'min_child_samples': 27, 'min_sum_hessian_in_leaf': 0.0010854048215552905, 'feature_fraction': 0.6313249468259439, 'bagging_fraction': 0.679286485899536, 'lambda_l1': 0.3112176052743112, 'lambda_l2': 34.24149165193612}. Best is trial 15 with value: 0.7743778489470154.\u001b[0m\n"
     ]
    },
    {
     "name": "stdout",
     "output_type": "stream",
     "text": [
      "[LightGBM] [Warning] lambda_l1 is set=0.38362766323687636, reg_alpha=0.0 will be ignored. Current value: lambda_l1=0.38362766323687636\n",
      "[LightGBM] [Warning] lambda_l2 is set=39.72397156052672, reg_lambda=0.0 will be ignored. Current value: lambda_l2=39.72397156052672\n",
      "[LightGBM] [Warning] feature_fraction is set=0.5105983538090473, colsample_bytree=1.0 will be ignored. Current value: feature_fraction=0.5105983538090473\n",
      "[LightGBM] [Warning] bagging_fraction is set=0.6676157659858872, subsample=1.0 will be ignored. Current value: bagging_fraction=0.6676157659858872\n",
      "[LightGBM] [Warning] bagging_freq is set=1, subsample_freq=0 will be ignored. Current value: bagging_freq=1\n",
      "[LightGBM] [Warning] min_sum_hessian_in_leaf is set=0.00013889526566401947, min_child_weight=0.001 will be ignored. Current value: min_sum_hessian_in_leaf=0.00013889526566401947\n"
     ]
    },
    {
     "name": "stderr",
     "output_type": "stream",
     "text": [
      "\u001b[32m[I 2022-08-21 22:38:33,327]\u001b[0m Trial 33 finished with value: 0.7701037511261131 and parameters: {'num_leaves': 124, 'min_child_samples': 24, 'min_sum_hessian_in_leaf': 0.0010714299685246624, 'feature_fraction': 0.5728186836546812, 'bagging_fraction': 0.6839786197906818, 'lambda_l1': 2.4347841662054392, 'lambda_l2': 10.185296917613021}. Best is trial 15 with value: 0.7743778489470154.\u001b[0m\n"
     ]
    },
    {
     "name": "stdout",
     "output_type": "stream",
     "text": [
      "[LightGBM] [Warning] lambda_l1 is set=0.5969701115584823, reg_alpha=0.0 will be ignored. Current value: lambda_l1=0.5969701115584823\n",
      "[LightGBM] [Warning] lambda_l2 is set=40.42049721652675, reg_lambda=0.0 will be ignored. Current value: lambda_l2=40.42049721652675\n",
      "[LightGBM] [Warning] feature_fraction is set=0.5052669693699762, colsample_bytree=1.0 will be ignored. Current value: feature_fraction=0.5052669693699762\n",
      "[LightGBM] [Warning] bagging_fraction is set=0.6515519634968636, subsample=1.0 will be ignored. Current value: bagging_fraction=0.6515519634968636\n",
      "[LightGBM] [Warning] bagging_freq is set=1, subsample_freq=0 will be ignored. Current value: bagging_freq=1\n",
      "[LightGBM] [Warning] min_sum_hessian_in_leaf is set=0.00011576211875463494, min_child_weight=0.001 will be ignored. Current value: min_sum_hessian_in_leaf=0.00011576211875463494\n"
     ]
    },
    {
     "name": "stderr",
     "output_type": "stream",
     "text": [
      "\u001b[32m[I 2022-08-21 22:39:44,150]\u001b[0m Trial 36 finished with value: 0.7729688918328401 and parameters: {'num_leaves': 24, 'min_child_samples': 23, 'min_sum_hessian_in_leaf': 0.00012205367773072142, 'feature_fraction': 0.6299131067618229, 'bagging_fraction': 0.6769058599490055, 'lambda_l1': 0.33717136037550877, 'lambda_l2': 42.5427504666616}. Best is trial 15 with value: 0.7743778489470154.\u001b[0m\n"
     ]
    },
    {
     "name": "stdout",
     "output_type": "stream",
     "text": [
      "[LightGBM] [Warning] lambda_l1 is set=0.0460083311275667, reg_alpha=0.0 will be ignored. Current value: lambda_l1=0.0460083311275667\n",
      "[LightGBM] [Warning] lambda_l2 is set=42.968253699991706, reg_lambda=0.0 will be ignored. Current value: lambda_l2=42.968253699991706\n",
      "[LightGBM] [Warning] feature_fraction is set=0.5018564168469755, colsample_bytree=1.0 will be ignored. Current value: feature_fraction=0.5018564168469755\n",
      "[LightGBM] [Warning] bagging_fraction is set=0.7331042365408436, subsample=1.0 will be ignored. Current value: bagging_fraction=0.7331042365408436\n",
      "[LightGBM] [Warning] bagging_freq is set=1, subsample_freq=0 will be ignored. Current value: bagging_freq=1\n",
      "[LightGBM] [Warning] min_sum_hessian_in_leaf is set=0.0003756593404049351, min_child_weight=0.001 will be ignored. Current value: min_sum_hessian_in_leaf=0.0003756593404049351\n"
     ]
    },
    {
     "name": "stderr",
     "output_type": "stream",
     "text": [
      "\u001b[32m[I 2022-08-21 22:41:29,655]\u001b[0m Trial 37 finished with value: 0.7733490655181268 and parameters: {'num_leaves': 26, 'min_child_samples': 7, 'min_sum_hessian_in_leaf': 0.00012425892083694424, 'feature_fraction': 0.6354557011290742, 'bagging_fraction': 0.6855657760434649, 'lambda_l1': 0.44557725629656164, 'lambda_l2': 38.760723520938335}. Best is trial 15 with value: 0.7743778489470154.\u001b[0m\n"
     ]
    },
    {
     "name": "stdout",
     "output_type": "stream",
     "text": [
      "[LightGBM] [Warning] lambda_l1 is set=0.06521264419856194, reg_alpha=0.0 will be ignored. Current value: lambda_l1=0.06521264419856194\n",
      "[LightGBM] [Warning] lambda_l2 is set=21.35980731909481, reg_lambda=0.0 will be ignored. Current value: lambda_l2=21.35980731909481\n",
      "[LightGBM] [Warning] feature_fraction is set=0.7415269109179271, colsample_bytree=1.0 will be ignored. Current value: feature_fraction=0.7415269109179271\n",
      "[LightGBM] [Warning] bagging_fraction is set=0.7439692935261962, subsample=1.0 will be ignored. Current value: bagging_fraction=0.7439692935261962\n",
      "[LightGBM] [Warning] bagging_freq is set=1, subsample_freq=0 will be ignored. Current value: bagging_freq=1\n",
      "[LightGBM] [Warning] min_sum_hessian_in_leaf is set=0.0016839622609232396, min_child_weight=0.001 will be ignored. Current value: min_sum_hessian_in_leaf=0.0016839622609232396\n"
     ]
    },
    {
     "name": "stderr",
     "output_type": "stream",
     "text": [
      "\u001b[32m[I 2022-08-21 22:42:52,627]\u001b[0m Trial 38 finished with value: 0.7728548422209206 and parameters: {'num_leaves': 23, 'min_child_samples': 6, 'min_sum_hessian_in_leaf': 9.11884557943438e-05, 'feature_fraction': 0.6389002825903655, 'bagging_fraction': 0.6651164523515503, 'lambda_l1': 0.5556614027922642, 'lambda_l2': 37.72787263039407}. Best is trial 15 with value: 0.7743778489470154.\u001b[0m\n"
     ]
    },
    {
     "name": "stdout",
     "output_type": "stream",
     "text": [
      "[LightGBM] [Warning] lambda_l1 is set=0.050727657901384136, reg_alpha=0.0 will be ignored. Current value: lambda_l1=0.050727657901384136\n",
      "[LightGBM] [Warning] lambda_l2 is set=20.34289028817362, reg_lambda=0.0 will be ignored. Current value: lambda_l2=20.34289028817362\n",
      "[LightGBM] [Warning] feature_fraction is set=0.9095119535993936, colsample_bytree=1.0 will be ignored. Current value: feature_fraction=0.9095119535993936\n",
      "[LightGBM] [Warning] bagging_fraction is set=0.7332540411938898, subsample=1.0 will be ignored. Current value: bagging_fraction=0.7332540411938898\n",
      "[LightGBM] [Warning] bagging_freq is set=1, subsample_freq=0 will be ignored. Current value: bagging_freq=1\n",
      "[LightGBM] [Warning] min_sum_hessian_in_leaf is set=0.000399940301694095, min_child_weight=0.001 will be ignored. Current value: min_sum_hessian_in_leaf=0.000399940301694095\n"
     ]
    },
    {
     "name": "stderr",
     "output_type": "stream",
     "text": [
      "\u001b[32m[I 2022-08-21 22:43:09,478]\u001b[0m Trial 40 finished with value: 0.7744227741275845 and parameters: {'num_leaves': 25, 'min_child_samples': 48, 'min_sum_hessian_in_leaf': 0.00011576211875463494, 'feature_fraction': 0.5052669693699762, 'bagging_fraction': 0.6515519634968636, 'lambda_l1': 0.5969701115584823, 'lambda_l2': 40.42049721652675}. Best is trial 40 with value: 0.7744227741275845.\u001b[0m\n"
     ]
    },
    {
     "name": "stdout",
     "output_type": "stream",
     "text": [
      "[LightGBM] [Warning] lambda_l1 is set=0.07008737795111225, reg_alpha=0.0 will be ignored. Current value: lambda_l1=0.07008737795111225\n",
      "[LightGBM] [Warning] lambda_l2 is set=18.614918849733407, reg_lambda=0.0 will be ignored. Current value: lambda_l2=18.614918849733407\n",
      "[LightGBM] [Warning] feature_fraction is set=0.8957080658568564, colsample_bytree=1.0 will be ignored. Current value: feature_fraction=0.8957080658568564\n",
      "[LightGBM] [Warning] bagging_fraction is set=0.8311059959309851, subsample=1.0 will be ignored. Current value: bagging_fraction=0.8311059959309851\n",
      "[LightGBM] [Warning] bagging_freq is set=1, subsample_freq=0 will be ignored. Current value: bagging_freq=1\n",
      "[LightGBM] [Warning] min_sum_hessian_in_leaf is set=1.0811726426435334e-05, min_child_weight=0.001 will be ignored. Current value: min_sum_hessian_in_leaf=1.0811726426435334e-05\n"
     ]
    },
    {
     "name": "stderr",
     "output_type": "stream",
     "text": [
      "\u001b[32m[I 2022-08-21 22:43:45,721]\u001b[0m Trial 39 finished with value: 0.7744757965990453 and parameters: {'num_leaves': 26, 'min_child_samples': 46, 'min_sum_hessian_in_leaf': 0.00013889526566401947, 'feature_fraction': 0.5105983538090473, 'bagging_fraction': 0.6676157659858872, 'lambda_l1': 0.38362766323687636, 'lambda_l2': 39.72397156052672}. Best is trial 39 with value: 0.7744757965990453.\u001b[0m\n"
     ]
    },
    {
     "name": "stdout",
     "output_type": "stream",
     "text": [
      "[LightGBM] [Warning] lambda_l1 is set=0.05846319482193868, reg_alpha=0.0 will be ignored. Current value: lambda_l1=0.05846319482193868\n",
      "[LightGBM] [Warning] lambda_l2 is set=20.327663533529226, reg_lambda=0.0 will be ignored. Current value: lambda_l2=20.327663533529226\n",
      "[LightGBM] [Warning] feature_fraction is set=0.5151309845848788, colsample_bytree=1.0 will be ignored. Current value: feature_fraction=0.5151309845848788\n",
      "[LightGBM] [Warning] bagging_fraction is set=0.7139232256788839, subsample=1.0 will be ignored. Current value: bagging_fraction=0.7139232256788839\n",
      "[LightGBM] [Warning] bagging_freq is set=1, subsample_freq=0 will be ignored. Current value: bagging_freq=1\n",
      "[LightGBM] [Warning] min_sum_hessian_in_leaf is set=5.6419929130068696e-05, min_child_weight=0.001 will be ignored. Current value: min_sum_hessian_in_leaf=5.6419929130068696e-05\n"
     ]
    },
    {
     "name": "stderr",
     "output_type": "stream",
     "text": [
      "\u001b[32m[I 2022-08-21 22:45:07,101]\u001b[0m Trial 41 finished with value: 0.7726356988216749 and parameters: {'num_leaves': 72, 'min_child_samples': 52, 'min_sum_hessian_in_leaf': 0.0003756593404049351, 'feature_fraction': 0.5018564168469755, 'bagging_fraction': 0.7331042365408436, 'lambda_l1': 0.0460083311275667, 'lambda_l2': 42.968253699991706}. Best is trial 39 with value: 0.7744757965990453.\u001b[0m\n"
     ]
    },
    {
     "name": "stdout",
     "output_type": "stream",
     "text": [
      "[LightGBM] [Warning] lambda_l1 is set=0.6506276764727431, reg_alpha=0.0 will be ignored. Current value: lambda_l1=0.6506276764727431\n",
      "[LightGBM] [Warning] lambda_l2 is set=18.41821758774759, reg_lambda=0.0 will be ignored. Current value: lambda_l2=18.41821758774759\n",
      "[LightGBM] [Warning] feature_fraction is set=0.5229989238889968, colsample_bytree=1.0 will be ignored. Current value: feature_fraction=0.5229989238889968\n",
      "[LightGBM] [Warning] bagging_fraction is set=0.603379945749202, subsample=1.0 will be ignored. Current value: bagging_fraction=0.603379945749202\n",
      "[LightGBM] [Warning] bagging_freq is set=1, subsample_freq=0 will be ignored. Current value: bagging_freq=1\n",
      "[LightGBM] [Warning] min_sum_hessian_in_leaf is set=4.768461476953447e-05, min_child_weight=0.001 will be ignored. Current value: min_sum_hessian_in_leaf=4.768461476953447e-05\n"
     ]
    },
    {
     "name": "stderr",
     "output_type": "stream",
     "text": [
      "\u001b[32m[I 2022-08-21 23:16:15,997]\u001b[0m Trial 45 finished with value: 0.7740011663946255 and parameters: {'num_leaves': 42, 'min_child_samples': 58, 'min_sum_hessian_in_leaf': 5.6419929130068696e-05, 'feature_fraction': 0.5151309845848788, 'bagging_fraction': 0.7139232256788839, 'lambda_l1': 0.05846319482193868, 'lambda_l2': 20.327663533529226}. Best is trial 39 with value: 0.7744757965990453.\u001b[0m\n"
     ]
    },
    {
     "name": "stdout",
     "output_type": "stream",
     "text": [
      "[LightGBM] [Warning] lambda_l1 is set=6.476016351326427, reg_alpha=0.0 will be ignored. Current value: lambda_l1=6.476016351326427\n",
      "[LightGBM] [Warning] lambda_l2 is set=17.840762451930942, reg_lambda=0.0 will be ignored. Current value: lambda_l2=17.840762451930942\n",
      "[LightGBM] [Warning] feature_fraction is set=0.5266875150222537, colsample_bytree=1.0 will be ignored. Current value: feature_fraction=0.5266875150222537\n",
      "[LightGBM] [Warning] bagging_fraction is set=0.8256269944770529, subsample=1.0 will be ignored. Current value: bagging_fraction=0.8256269944770529\n",
      "[LightGBM] [Warning] bagging_freq is set=1, subsample_freq=0 will be ignored. Current value: bagging_freq=1\n",
      "[LightGBM] [Warning] min_sum_hessian_in_leaf is set=5.463572210554921e-05, min_child_weight=0.001 will be ignored. Current value: min_sum_hessian_in_leaf=5.463572210554921e-05\n"
     ]
    },
    {
     "name": "stderr",
     "output_type": "stream",
     "text": [
      "\u001b[32m[I 2022-08-21 23:16:48,916]\u001b[0m Trial 44 finished with value: 0.7722637898591638 and parameters: {'num_leaves': 69, 'min_child_samples': 51, 'min_sum_hessian_in_leaf': 1.0811726426435334e-05, 'feature_fraction': 0.8957080658568564, 'bagging_fraction': 0.8311059959309851, 'lambda_l1': 0.07008737795111225, 'lambda_l2': 18.614918849733407}. Best is trial 39 with value: 0.7744757965990453.\u001b[0m\n"
     ]
    },
    {
     "name": "stdout",
     "output_type": "stream",
     "text": [
      "[LightGBM] [Warning] lambda_l1 is set=5.011693559862145, reg_alpha=0.0 will be ignored. Current value: lambda_l1=5.011693559862145\n",
      "[LightGBM] [Warning] lambda_l2 is set=0.49066149406917287, reg_lambda=0.0 will be ignored. Current value: lambda_l2=0.49066149406917287\n",
      "[LightGBM] [Warning] feature_fraction is set=0.5085479577949474, colsample_bytree=1.0 will be ignored. Current value: feature_fraction=0.5085479577949474\n",
      "[LightGBM] [Warning] bagging_fraction is set=0.7072735092052936, subsample=1.0 will be ignored. Current value: bagging_fraction=0.7072735092052936\n",
      "[LightGBM] [Warning] bagging_freq is set=1, subsample_freq=0 will be ignored. Current value: bagging_freq=1\n",
      "[LightGBM] [Warning] min_sum_hessian_in_leaf is set=6.13838143662946e-05, min_child_weight=0.001 will be ignored. Current value: min_sum_hessian_in_leaf=6.13838143662946e-05\n"
     ]
    },
    {
     "name": "stderr",
     "output_type": "stream",
     "text": [
      "\u001b[32m[I 2022-08-21 23:16:57,895]\u001b[0m Trial 42 finished with value: 0.7721495122548917 and parameters: {'num_leaves': 78, 'min_child_samples': 51, 'min_sum_hessian_in_leaf': 0.0016839622609232396, 'feature_fraction': 0.7415269109179271, 'bagging_fraction': 0.7439692935261962, 'lambda_l1': 0.06521264419856194, 'lambda_l2': 21.35980731909481}. Best is trial 39 with value: 0.7744757965990453.\u001b[0m\n"
     ]
    },
    {
     "name": "stdout",
     "output_type": "stream",
     "text": [
      "[LightGBM] [Warning] lambda_l1 is set=1.6067427255331683, reg_alpha=0.0 will be ignored. Current value: lambda_l1=1.6067427255331683\n",
      "[LightGBM] [Warning] lambda_l2 is set=0.6099555226115335, reg_lambda=0.0 will be ignored. Current value: lambda_l2=0.6099555226115335\n",
      "[LightGBM] [Warning] feature_fraction is set=0.5028657958997644, colsample_bytree=1.0 will be ignored. Current value: feature_fraction=0.5028657958997644\n",
      "[LightGBM] [Warning] bagging_fraction is set=0.7093833915039217, subsample=1.0 will be ignored. Current value: bagging_fraction=0.7093833915039217\n",
      "[LightGBM] [Warning] bagging_freq is set=1, subsample_freq=0 will be ignored. Current value: bagging_freq=1\n",
      "[LightGBM] [Warning] min_sum_hessian_in_leaf is set=5.439228641094925e-05, min_child_weight=0.001 will be ignored. Current value: min_sum_hessian_in_leaf=5.439228641094925e-05\n"
     ]
    },
    {
     "name": "stderr",
     "output_type": "stream",
     "text": [
      "\u001b[32m[I 2022-08-21 23:17:54,002]\u001b[0m Trial 43 finished with value: 0.7719666944496723 and parameters: {'num_leaves': 74, 'min_child_samples': 52, 'min_sum_hessian_in_leaf': 0.000399940301694095, 'feature_fraction': 0.9095119535993936, 'bagging_fraction': 0.7332540411938898, 'lambda_l1': 0.050727657901384136, 'lambda_l2': 20.34289028817362}. Best is trial 39 with value: 0.7744757965990453.\u001b[0m\n",
      "\u001b[32m[I 2022-08-21 23:18:20,069]\u001b[0m Trial 46 finished with value: 0.7729061226883134 and parameters: {'num_leaves': 41, 'min_child_samples': 48, 'min_sum_hessian_in_leaf': 4.768461476953447e-05, 'feature_fraction': 0.5229989238889968, 'bagging_fraction': 0.603379945749202, 'lambda_l1': 0.6506276764727431, 'lambda_l2': 18.41821758774759}. Best is trial 39 with value: 0.7744757965990453.\u001b[0m\n",
      "\u001b[32m[I 2022-08-21 23:20:18,921]\u001b[0m Trial 48 finished with value: 0.7731864179113358 and parameters: {'num_leaves': 38, 'min_child_samples': 63, 'min_sum_hessian_in_leaf': 6.13838143662946e-05, 'feature_fraction': 0.5085479577949474, 'bagging_fraction': 0.7072735092052936, 'lambda_l1': 5.011693559862145, 'lambda_l2': 0.49066149406917287}. Best is trial 39 with value: 0.7744757965990453.\u001b[0m\n",
      "\u001b[32m[I 2022-08-21 23:20:39,720]\u001b[0m Trial 47 finished with value: 0.7738004975006875 and parameters: {'num_leaves': 40, 'min_child_samples': 62, 'min_sum_hessian_in_leaf': 5.463572210554921e-05, 'feature_fraction': 0.5266875150222537, 'bagging_fraction': 0.8256269944770529, 'lambda_l1': 6.476016351326427, 'lambda_l2': 17.840762451930942}. Best is trial 39 with value: 0.7744757965990453.\u001b[0m\n",
      "\u001b[32m[I 2022-08-21 23:20:53,127]\u001b[0m Trial 49 finished with value: 0.7725173458541033 and parameters: {'num_leaves': 44, 'min_child_samples': 66, 'min_sum_hessian_in_leaf': 5.439228641094925e-05, 'feature_fraction': 0.5028657958997644, 'bagging_fraction': 0.7093833915039217, 'lambda_l1': 1.6067427255331683, 'lambda_l2': 0.6099555226115335}. Best is trial 39 with value: 0.7744757965990453.\u001b[0m\n"
     ]
    }
   ],
   "source": [
    "sampler = optuna.samplers.TPESampler(seed=123)\n",
    "study = optuna.create_study(sampler=sampler, direction=\"maximize\")\n",
    "study.optimize(objective, n_trials=50, n_jobs=5)"
   ]
  },
  {
   "cell_type": "markdown",
   "id": "8e5a2b33",
   "metadata": {
    "papermill": {
     "duration": 0.183042,
     "end_time": "2022-05-01T12:16:37.715994",
     "exception": false,
     "start_time": "2022-05-01T12:16:37.532952",
     "status": "completed"
    },
    "tags": []
   },
   "source": [
    "#### スクリプト7-51: 探索結果の確認"
   ]
  },
  {
   "cell_type": "code",
   "execution_count": 72,
   "id": "cfd86f00",
   "metadata": {
    "execution": {
     "iopub.execute_input": "2022-05-01T12:16:38.090479Z",
     "iopub.status.busy": "2022-05-01T12:16:38.090147Z",
     "iopub.status.idle": "2022-05-01T12:16:38.098164Z",
     "shell.execute_reply": "2022-05-01T12:16:38.097273Z"
    },
    "papermill": {
     "duration": 0.201711,
     "end_time": "2022-05-01T12:16:38.100171",
     "exception": false,
     "start_time": "2022-05-01T12:16:37.898460",
     "status": "completed"
    },
    "tags": []
   },
   "outputs": [
    {
     "name": "stdout",
     "output_type": "stream",
     "text": [
      "acc(best)=0.7745\n"
     ]
    },
    {
     "data": {
      "text/plain": [
       "{'num_leaves': 26,\n",
       " 'min_child_samples': 46,\n",
       " 'min_sum_hessian_in_leaf': 0.00013889526566401947,\n",
       " 'feature_fraction': 0.5105983538090473,\n",
       " 'bagging_fraction': 0.6676157659858872,\n",
       " 'lambda_l1': 0.38362766323687636,\n",
       " 'lambda_l2': 39.72397156052672}"
      ]
     },
     "metadata": {},
     "output_type": "display_data"
    }
   ],
   "source": [
    "trial = study.best_trial\n",
    "print(\"acc(best)={:.4f}\".format(trial.value))\n",
    "display(trial.params)"
   ]
  },
  {
   "cell_type": "markdown",
   "id": "1b3df262",
   "metadata": {
    "papermill": {
     "duration": 0.184052,
     "end_time": "2022-05-01T12:16:38.468166",
     "exception": false,
     "start_time": "2022-05-01T12:16:38.284114",
     "status": "completed"
    },
    "tags": []
   },
   "source": [
    "#### スクリプト7-52: ベストなハイパーパラメータの取得"
   ]
  },
  {
   "cell_type": "code",
   "execution_count": 73,
   "id": "8985e40f",
   "metadata": {
    "execution": {
     "iopub.execute_input": "2022-05-01T12:16:38.838321Z",
     "iopub.status.busy": "2022-05-01T12:16:38.838017Z",
     "iopub.status.idle": "2022-05-01T12:16:38.844348Z",
     "shell.execute_reply": "2022-05-01T12:16:38.843539Z"
    },
    "papermill": {
     "duration": 0.19326,
     "end_time": "2022-05-01T12:16:38.846196",
     "exception": false,
     "start_time": "2022-05-01T12:16:38.652936",
     "status": "completed"
    },
    "tags": []
   },
   "outputs": [
    {
     "data": {
      "text/plain": [
       "{'num_leaves': 26,\n",
       " 'min_child_samples': 46,\n",
       " 'min_sum_hessian_in_leaf': 0.00013889526566401947,\n",
       " 'feature_fraction': 0.5105983538090473,\n",
       " 'bagging_fraction': 0.6676157659858872,\n",
       " 'lambda_l1': 0.38362766323687636,\n",
       " 'lambda_l2': 39.72397156052672,\n",
       " 'boosting_type': 'gbdt',\n",
       " 'objective': 'binary',\n",
       " 'metric': 'auc',\n",
       " 'verbosity': -1,\n",
       " 'learning_rate': 0.05,\n",
       " 'n_estimators': 100000,\n",
       " 'bagging_freq': 1,\n",
       " 'random_state': 123}"
      ]
     },
     "metadata": {},
     "output_type": "display_data"
    }
   ],
   "source": [
    "params_best = trial.params\n",
    "params_best.update(params_base)\n",
    "display(params_best)"
   ]
  },
  {
   "cell_type": "markdown",
   "id": "6e86ef45",
   "metadata": {
    "papermill": {
     "duration": 0.184201,
     "end_time": "2022-05-01T12:16:39.215214",
     "exception": false,
     "start_time": "2022-05-01T12:16:39.031013",
     "status": "completed"
    },
    "tags": []
   },
   "source": [
    "#### スクリプト7-53: ベストなハイパーパラメータを用いたモデル学習"
   ]
  },
  {
   "cell_type": "code",
   "execution_count": 74,
   "id": "d92de8b0",
   "metadata": {
    "execution": {
     "iopub.execute_input": "2022-05-01T12:16:39.588345Z",
     "iopub.status.busy": "2022-05-01T12:16:39.587970Z",
     "iopub.status.idle": "2022-05-01T12:27:23.523631Z",
     "shell.execute_reply": "2022-05-01T12:27:23.522651Z"
    },
    "papermill": {
     "duration": 644.340392,
     "end_time": "2022-05-01T12:27:23.740444",
     "exception": false,
     "start_time": "2022-05-01T12:16:39.400052",
     "status": "completed"
    },
    "tags": []
   },
   "outputs": [
    {
     "name": "stdout",
     "output_type": "stream",
     "text": [
      "-------------------- 0 --------------------\n",
      "(246008, 162) (61503, 162)\n",
      "[LightGBM] [Warning] lambda_l1 is set=0.38362766323687636, reg_alpha=0.0 will be ignored. Current value: lambda_l1=0.38362766323687636\n",
      "[LightGBM] [Warning] lambda_l2 is set=39.72397156052672, reg_lambda=0.0 will be ignored. Current value: lambda_l2=39.72397156052672\n",
      "[LightGBM] [Warning] feature_fraction is set=0.5105983538090473, colsample_bytree=1.0 will be ignored. Current value: feature_fraction=0.5105983538090473\n",
      "[LightGBM] [Warning] bagging_fraction is set=0.6676157659858872, subsample=1.0 will be ignored. Current value: bagging_fraction=0.6676157659858872\n",
      "[LightGBM] [Warning] bagging_freq is set=1, subsample_freq=0 will be ignored. Current value: bagging_freq=1\n",
      "[LightGBM] [Warning] min_sum_hessian_in_leaf is set=0.00013889526566401947, min_child_weight=0.001 will be ignored. Current value: min_sum_hessian_in_leaf=0.00013889526566401947\n",
      "Training until validation scores don't improve for 100 rounds\n",
      "[100]\ttraining's auc: 0.780189\tvalid_1's auc: 0.763435\n",
      "[200]\ttraining's auc: 0.797356\tvalid_1's auc: 0.770639\n",
      "[300]\ttraining's auc: 0.809694\tvalid_1's auc: 0.772752\n",
      "[400]\ttraining's auc: 0.819639\tvalid_1's auc: 0.773702\n",
      "[500]\ttraining's auc: 0.828387\tvalid_1's auc: 0.774074\n",
      "[600]\ttraining's auc: 0.836468\tvalid_1's auc: 0.774455\n",
      "[700]\ttraining's auc: 0.843895\tvalid_1's auc: 0.774326\n",
      "Early stopping, best iteration is:\n",
      "[605]\ttraining's auc: 0.836923\tvalid_1's auc: 0.774476\n",
      "[auc] tr:0.8369, va:0.7745\n",
      "-------------------- 1 --------------------\n",
      "(246009, 162) (61502, 162)\n",
      "[LightGBM] [Warning] lambda_l1 is set=0.38362766323687636, reg_alpha=0.0 will be ignored. Current value: lambda_l1=0.38362766323687636\n",
      "[LightGBM] [Warning] lambda_l2 is set=39.72397156052672, reg_lambda=0.0 will be ignored. Current value: lambda_l2=39.72397156052672\n",
      "[LightGBM] [Warning] feature_fraction is set=0.5105983538090473, colsample_bytree=1.0 will be ignored. Current value: feature_fraction=0.5105983538090473\n",
      "[LightGBM] [Warning] bagging_fraction is set=0.6676157659858872, subsample=1.0 will be ignored. Current value: bagging_fraction=0.6676157659858872\n",
      "[LightGBM] [Warning] bagging_freq is set=1, subsample_freq=0 will be ignored. Current value: bagging_freq=1\n",
      "[LightGBM] [Warning] min_sum_hessian_in_leaf is set=0.00013889526566401947, min_child_weight=0.001 will be ignored. Current value: min_sum_hessian_in_leaf=0.00013889526566401947\n",
      "Training until validation scores don't improve for 100 rounds\n",
      "[100]\ttraining's auc: 0.779923\tvalid_1's auc: 0.766506\n",
      "[200]\ttraining's auc: 0.79712\tvalid_1's auc: 0.774007\n",
      "[300]\ttraining's auc: 0.8095\tvalid_1's auc: 0.776878\n",
      "[400]\ttraining's auc: 0.819701\tvalid_1's auc: 0.777985\n",
      "[500]\ttraining's auc: 0.828511\tvalid_1's auc: 0.778583\n",
      "[600]\ttraining's auc: 0.83655\tvalid_1's auc: 0.778825\n",
      "[700]\ttraining's auc: 0.844076\tvalid_1's auc: 0.779004\n",
      "Early stopping, best iteration is:\n",
      "[675]\ttraining's auc: 0.842346\tvalid_1's auc: 0.779047\n",
      "[auc] tr:0.8423, va:0.7790\n",
      "-------------------- 2 --------------------\n",
      "(246009, 162) (61502, 162)\n",
      "[LightGBM] [Warning] lambda_l1 is set=0.38362766323687636, reg_alpha=0.0 will be ignored. Current value: lambda_l1=0.38362766323687636\n",
      "[LightGBM] [Warning] lambda_l2 is set=39.72397156052672, reg_lambda=0.0 will be ignored. Current value: lambda_l2=39.72397156052672\n",
      "[LightGBM] [Warning] feature_fraction is set=0.5105983538090473, colsample_bytree=1.0 will be ignored. Current value: feature_fraction=0.5105983538090473\n",
      "[LightGBM] [Warning] bagging_fraction is set=0.6676157659858872, subsample=1.0 will be ignored. Current value: bagging_fraction=0.6676157659858872\n",
      "[LightGBM] [Warning] bagging_freq is set=1, subsample_freq=0 will be ignored. Current value: bagging_freq=1\n",
      "[LightGBM] [Warning] min_sum_hessian_in_leaf is set=0.00013889526566401947, min_child_weight=0.001 will be ignored. Current value: min_sum_hessian_in_leaf=0.00013889526566401947\n",
      "Training until validation scores don't improve for 100 rounds\n",
      "[100]\ttraining's auc: 0.779921\tvalid_1's auc: 0.767581\n",
      "[200]\ttraining's auc: 0.79692\tvalid_1's auc: 0.773137\n",
      "[300]\ttraining's auc: 0.809086\tvalid_1's auc: 0.774794\n",
      "[400]\ttraining's auc: 0.819109\tvalid_1's auc: 0.775707\n",
      "[500]\ttraining's auc: 0.828093\tvalid_1's auc: 0.77611\n",
      "[600]\ttraining's auc: 0.836489\tvalid_1's auc: 0.775927\n",
      "Early stopping, best iteration is:\n",
      "[526]\ttraining's auc: 0.830362\tvalid_1's auc: 0.776195\n",
      "[auc] tr:0.8304, va:0.7762\n",
      "-------------------- 3 --------------------\n",
      "(246009, 162) (61502, 162)\n",
      "[LightGBM] [Warning] lambda_l1 is set=0.38362766323687636, reg_alpha=0.0 will be ignored. Current value: lambda_l1=0.38362766323687636\n",
      "[LightGBM] [Warning] lambda_l2 is set=39.72397156052672, reg_lambda=0.0 will be ignored. Current value: lambda_l2=39.72397156052672\n",
      "[LightGBM] [Warning] feature_fraction is set=0.5105983538090473, colsample_bytree=1.0 will be ignored. Current value: feature_fraction=0.5105983538090473\n",
      "[LightGBM] [Warning] bagging_fraction is set=0.6676157659858872, subsample=1.0 will be ignored. Current value: bagging_fraction=0.6676157659858872\n",
      "[LightGBM] [Warning] bagging_freq is set=1, subsample_freq=0 will be ignored. Current value: bagging_freq=1\n",
      "[LightGBM] [Warning] min_sum_hessian_in_leaf is set=0.00013889526566401947, min_child_weight=0.001 will be ignored. Current value: min_sum_hessian_in_leaf=0.00013889526566401947\n",
      "Training until validation scores don't improve for 100 rounds\n",
      "[100]\ttraining's auc: 0.780319\tvalid_1's auc: 0.76457\n",
      "[200]\ttraining's auc: 0.797235\tvalid_1's auc: 0.77064\n",
      "[300]\ttraining's auc: 0.809645\tvalid_1's auc: 0.772856\n",
      "[400]\ttraining's auc: 0.819924\tvalid_1's auc: 0.773478\n",
      "[500]\ttraining's auc: 0.829081\tvalid_1's auc: 0.773904\n",
      "[600]\ttraining's auc: 0.837073\tvalid_1's auc: 0.773596\n",
      "Early stopping, best iteration is:\n",
      "[506]\ttraining's auc: 0.829456\tvalid_1's auc: 0.773928\n",
      "[auc] tr:0.8295, va:0.7739\n",
      "-------------------- 4 --------------------\n",
      "(246009, 162) (61502, 162)\n",
      "[LightGBM] [Warning] lambda_l1 is set=0.38362766323687636, reg_alpha=0.0 will be ignored. Current value: lambda_l1=0.38362766323687636\n",
      "[LightGBM] [Warning] lambda_l2 is set=39.72397156052672, reg_lambda=0.0 will be ignored. Current value: lambda_l2=39.72397156052672\n",
      "[LightGBM] [Warning] feature_fraction is set=0.5105983538090473, colsample_bytree=1.0 will be ignored. Current value: feature_fraction=0.5105983538090473\n",
      "[LightGBM] [Warning] bagging_fraction is set=0.6676157659858872, subsample=1.0 will be ignored. Current value: bagging_fraction=0.6676157659858872\n",
      "[LightGBM] [Warning] bagging_freq is set=1, subsample_freq=0 will be ignored. Current value: bagging_freq=1\n",
      "[LightGBM] [Warning] min_sum_hessian_in_leaf is set=0.00013889526566401947, min_child_weight=0.001 will be ignored. Current value: min_sum_hessian_in_leaf=0.00013889526566401947\n",
      "Training until validation scores don't improve for 100 rounds\n",
      "[100]\ttraining's auc: 0.781419\tvalid_1's auc: 0.759877\n",
      "[200]\ttraining's auc: 0.798563\tvalid_1's auc: 0.765824\n",
      "[300]\ttraining's auc: 0.810552\tvalid_1's auc: 0.767938\n",
      "[400]\ttraining's auc: 0.820491\tvalid_1's auc: 0.768666\n",
      "[500]\ttraining's auc: 0.829095\tvalid_1's auc: 0.769123\n",
      "[600]\ttraining's auc: 0.837441\tvalid_1's auc: 0.769521\n",
      "[700]\ttraining's auc: 0.844857\tvalid_1's auc: 0.769406\n",
      "Early stopping, best iteration is:\n",
      "[607]\ttraining's auc: 0.837924\tvalid_1's auc: 0.769653\n",
      "[auc] tr:0.8379, va:0.7697\n",
      "-------------------- result --------------------\n",
      "[[0.         0.83692255 0.7744758 ]\n",
      " [1.         0.84234637 0.77904717]\n",
      " [2.         0.8303616  0.77619457]\n",
      " [3.         0.82945567 0.77392835]\n",
      " [4.         0.8379238  0.76965327]]\n",
      "[cv] tr:0.8354+-0.0049, va:0.7747+-0.0031\n",
      "[oof] 0.7746\n"
     ]
    }
   ],
   "source": [
    "train_oof, imp, metrics = train_lgb(x_train,\n",
    "                                    y_train,\n",
    "                                    id_train,\n",
    "                                    list_nfold=[0,1,2,3,4],\n",
    "                                    n_splits=5,\n",
    "                                    params=params_best,\n",
    "                                   )"
   ]
  },
  {
   "cell_type": "markdown",
   "id": "afcca9ae",
   "metadata": {
    "papermill": {
     "duration": 0.215454,
     "end_time": "2022-05-01T12:27:24.246795",
     "exception": false,
     "start_time": "2022-05-01T12:27:24.031341",
     "status": "completed"
    },
    "tags": []
   },
   "source": [
    "#### スクリプト7-54: 推論データ作成とモデル推論"
   ]
  },
  {
   "cell_type": "code",
   "execution_count": 75,
   "id": "3084b6b6",
   "metadata": {
    "execution": {
     "iopub.execute_input": "2022-05-01T12:27:24.680764Z",
     "iopub.status.busy": "2022-05-01T12:27:24.680204Z",
     "iopub.status.idle": "2022-05-01T12:27:33.520379Z",
     "shell.execute_reply": "2022-05-01T12:27:33.519435Z"
    },
    "papermill": {
     "duration": 9.059787,
     "end_time": "2022-05-01T12:27:33.522678",
     "exception": false,
     "start_time": "2022-05-01T12:27:24.462891",
     "status": "completed"
    },
    "tags": []
   },
   "outputs": [
    {
     "name": "stdout",
     "output_type": "stream",
     "text": [
      "-------------------- 0 --------------------\n",
      "-------------------- 1 --------------------\n",
      "-------------------- 2 --------------------\n",
      "-------------------- 3 --------------------\n",
      "-------------------- 4 --------------------\n",
      "Done.\n",
      "(48744, 2)\n"
     ]
    },
    {
     "data": {
      "text/html": [
       "<div>\n",
       "<style scoped>\n",
       "    .dataframe tbody tr th:only-of-type {\n",
       "        vertical-align: middle;\n",
       "    }\n",
       "\n",
       "    .dataframe tbody tr th {\n",
       "        vertical-align: top;\n",
       "    }\n",
       "\n",
       "    .dataframe thead th {\n",
       "        text-align: right;\n",
       "    }\n",
       "</style>\n",
       "<table border=\"1\" class=\"dataframe\">\n",
       "  <thead>\n",
       "    <tr style=\"text-align: right;\">\n",
       "      <th></th>\n",
       "      <th>SK_ID_CURR</th>\n",
       "      <th>TARGET</th>\n",
       "    </tr>\n",
       "  </thead>\n",
       "  <tbody>\n",
       "    <tr>\n",
       "      <th>0</th>\n",
       "      <td>100001</td>\n",
       "      <td>0.043273</td>\n",
       "    </tr>\n",
       "    <tr>\n",
       "      <th>1</th>\n",
       "      <td>100005</td>\n",
       "      <td>0.128469</td>\n",
       "    </tr>\n",
       "    <tr>\n",
       "      <th>2</th>\n",
       "      <td>100013</td>\n",
       "      <td>0.029332</td>\n",
       "    </tr>\n",
       "    <tr>\n",
       "      <th>3</th>\n",
       "      <td>100028</td>\n",
       "      <td>0.048093</td>\n",
       "    </tr>\n",
       "    <tr>\n",
       "      <th>4</th>\n",
       "      <td>100038</td>\n",
       "      <td>0.217571</td>\n",
       "    </tr>\n",
       "  </tbody>\n",
       "</table>\n",
       "</div>"
      ],
      "text/plain": [
       "   SK_ID_CURR    TARGET\n",
       "0      100001  0.043273\n",
       "1      100005  0.128469\n",
       "2      100013  0.029332\n",
       "3      100028  0.048093\n",
       "4      100038  0.217571"
      ]
     },
     "metadata": {},
     "output_type": "display_data"
    }
   ],
   "source": [
    "# 推論用のデータセット作成\n",
    "x_test = df_test.drop(columns=[\"SK_ID_CURR\"])\n",
    "id_test = df_test[[\"SK_ID_CURR\"]]\n",
    "\n",
    "# カテゴリ変数をcategory型へ変換\n",
    "for col in x_test.columns:\n",
    "    if x_test[col].dtype==\"O\":\n",
    "        x_test[col] = x_test[col].astype(\"category\")\n",
    "\n",
    "# predict\n",
    "test_pred = predict_lgb(x_test,\n",
    "                        id_test,\n",
    "                        list_nfold=[0,1,2,3,4],\n",
    "                       )\n",
    "\n",
    "# make submission-file\n",
    "df_submit = test_pred.rename(columns={\"pred\":\"TARGET\"})\n",
    "print(df_submit.shape)\n",
    "display(df_submit.head())\n",
    "df_submit.to_csv(\"../submit/notebooks/submission_HyperParameterTuning.csv\", index=None)"
   ]
  },
  {
   "cell_type": "code",
   "execution_count": null,
   "id": "0589ba1c",
   "metadata": {
    "papermill": {
     "duration": 0.219616,
     "end_time": "2022-05-01T12:27:33.959413",
     "exception": false,
     "start_time": "2022-05-01T12:27:33.739797",
     "status": "completed"
    },
    "tags": []
   },
   "outputs": [],
   "source": []
  }
 ],
 "metadata": {
  "kernelspec": {
   "display_name": "Python 3.9.12 ('ml')",
   "language": "python",
   "name": "python3"
  },
  "language_info": {
   "codemirror_mode": {
    "name": "ipython",
    "version": 3
   },
   "file_extension": ".py",
   "mimetype": "text/x-python",
   "name": "python",
   "nbconvert_exporter": "python",
   "pygments_lexer": "ipython3",
   "version": "3.9.12"
  },
  "papermill": {
   "default_parameters": {},
   "duration": 3851.265348,
   "end_time": "2022-05-01T12:27:35.412308",
   "environment_variables": {},
   "exception": null,
   "input_path": "__notebook__.ipynb",
   "output_path": "__notebook__.ipynb",
   "parameters": {},
   "start_time": "2022-05-01T11:23:24.146960",
   "version": "2.3.4"
  },
  "vscode": {
   "interpreter": {
    "hash": "d1612152357e79f9c916b3a51b77abcdc387f0bbb0bcd4e7e5f48748d2f82b34"
   }
  }
 },
 "nbformat": 4,
 "nbformat_minor": 5
}
